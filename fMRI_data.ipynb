{
 "metadata": {
  "language_info": {
   "codemirror_mode": {
    "name": "ipython",
    "version": 3
   },
   "file_extension": ".py",
   "mimetype": "text/x-python",
   "name": "python",
   "nbconvert_exporter": "python",
   "pygments_lexer": "ipython3",
   "version": "3.7.10"
  },
  "orig_nbformat": 2,
  "kernelspec": {
   "name": "python3710jvsc74a57bd08e252a1f9516987486a0f48518217475b1a96ae470be4b589c7d5bdaf71ddca8",
   "display_name": "Python 3.7.10 64-bit (conda)"
  },
  "metadata": {
   "interpreter": {
    "hash": "8e252a1f9516987486a0f48518217475b1a96ae470be4b589c7d5bdaf71ddca8"
   }
  }
 },
 "nbformat": 4,
 "nbformat_minor": 2,
 "cells": [
  {
   "cell_type": "code",
   "execution_count": 1,
   "metadata": {},
   "outputs": [
    {
     "output_type": "stream",
     "name": "stdout",
     "text": [
      "cpu\n0\n"
     ]
    }
   ],
   "source": [
    "import os\n",
    "import time\n",
    "from datetime import datetime\n",
    "\n",
    "import numpy as np\n",
    "import nibabel as nib\n",
    "import matplotlib.pyplot as plt\n",
    "import pandas as pd\n",
    "\n",
    "from sklearn.model_selection import train_test_split\n",
    "\n",
    "\n",
    "import torch\n",
    "import torch.nn as nn\n",
    "from torch.utils.data import TensorDataset, DataLoader\n",
    "from torch.utils.tensorboard import SummaryWriter\n",
    "\n",
    "from torchsummary import summary\n",
    "\n",
    "\n",
    "os.environ[\"CUDA_VISIBLE_DEVICES\"] = \"\"\n",
    "device = torch.device('cuda' if torch.cuda.is_available() else \"cpu\")\n",
    "print(device)\n",
    "print(torch.cuda.device_count())\n",
    "\n",
    "\n"
   ]
  },
  {
   "source": [
    "# fMRI DATA - HCP Dataset"
   ],
   "cell_type": "markdown",
   "metadata": {}
  },
  {
   "cell_type": "code",
   "execution_count": 10,
   "metadata": {},
   "outputs": [],
   "source": [
    "#example_filename = os.path.join('/data/HCP/rfMRI/rfMRI_REST1_LR/', '990366_rfMRI_REST1_LR_Atlas_MSMAll.dtseries.nii')\n",
    "example_filename = os.path.join('/data/HCP/rfMRI/test/', '100307_rfMRI_REST1_LR_Atlas_hp2000_clean.dtseries.nii')"
   ]
  },
  {
   "cell_type": "code",
   "execution_count": 11,
   "metadata": {},
   "outputs": [
    {
     "output_type": "execute_result",
     "data": {
      "text/plain": [
       "'/data/HCP/rfMRI/test/100307_rfMRI_REST1_LR_Atlas_hp2000_clean.dtseries.nii'"
      ]
     },
     "metadata": {},
     "execution_count": 11
    }
   ],
   "source": [
    "example_filename"
   ]
  },
  {
   "cell_type": "code",
   "execution_count": 12,
   "metadata": {},
   "outputs": [
    {
     "output_type": "stream",
     "name": "stderr",
     "text": [
      "pixdim[1,2,3] should be non-zero; setting 0 dims to 1\n"
     ]
    }
   ],
   "source": [
    "img = nib.load(example_filename)"
   ]
  },
  {
   "cell_type": "code",
   "execution_count": 13,
   "metadata": {},
   "outputs": [
    {
     "output_type": "execute_result",
     "data": {
      "text/plain": [
       "(1200, 91282)"
      ]
     },
     "metadata": {},
     "execution_count": 13
    }
   ],
   "source": [
    "img.shape"
   ]
  },
  {
   "cell_type": "code",
   "execution_count": 6,
   "metadata": {},
   "outputs": [],
   "source": [
    "data = img.get_fdata()"
   ]
  },
  {
   "cell_type": "code",
   "execution_count": 7,
   "metadata": {},
   "outputs": [
    {
     "output_type": "execute_result",
     "data": {
      "text/plain": [
       "array([11903.87695312, 12100.14550781, 12212.72558594, ...,\n",
       "       12124.0859375 , 12138.2265625 , 11836.92675781])"
      ]
     },
     "metadata": {},
     "execution_count": 7
    }
   ],
   "source": [
    "data[:,0]"
   ]
  },
  {
   "cell_type": "code",
   "execution_count": 27,
   "metadata": {},
   "outputs": [],
   "source": [
    "cort = np.load('/home/sd20/workspace/data/HCP_stanford/hcp_tc_npy_22/100206_cortex.npy')"
   ]
  },
  {
   "cell_type": "code",
   "execution_count": 28,
   "metadata": {},
   "outputs": [
    {
     "output_type": "execute_result",
     "data": {
      "text/plain": [
       "(22, 1200)"
      ]
     },
     "metadata": {},
     "execution_count": 28
    }
   ],
   "source": [
    "cort.shape"
   ]
  },
  {
   "cell_type": "code",
   "execution_count": 29,
   "metadata": {},
   "outputs": [
    {
     "output_type": "execute_result",
     "data": {
      "text/plain": [
       "array([10434.499, 10423.936, 10467.   , ..., 10543.049, 10588.694,\n",
       "       10614.866])"
      ]
     },
     "metadata": {},
     "execution_count": 29
    }
   ],
   "source": []
  },
  {
   "source": [
    "## NETMATS\n",
    "\n"
   ],
   "cell_type": "markdown",
   "metadata": {}
  },
  {
   "source": [
    "#### FIRST STEPS"
   ],
   "cell_type": "markdown",
   "metadata": {}
  },
  {
   "cell_type": "code",
   "execution_count": 2,
   "metadata": {},
   "outputs": [],
   "source": [
    "data_path = '/home/sd20/workspace/data/HCP/'\n",
    "filename = 'netmats_ICA15/Mnet1.pconn.nii'\n",
    "file_path = os.path.join(data_path, filename)"
   ]
  },
  {
   "cell_type": "code",
   "execution_count": 4,
   "metadata": {},
   "outputs": [],
   "source": [
    "data = nib.load(file_path)"
   ]
  },
  {
   "cell_type": "code",
   "execution_count": 7,
   "metadata": {},
   "outputs": [
    {
     "output_type": "stream",
     "name": "stdout",
     "text": [
      "(15, 15)\nfloat32\n"
     ]
    }
   ],
   "source": [
    "print(data.shape)\n",
    "print(data.get_data_dtype())"
   ]
  },
  {
   "cell_type": "code",
   "execution_count": 13,
   "metadata": {},
   "outputs": [],
   "source": [
    "netmat_15 = data.get_fdata()\n"
   ]
  },
  {
   "cell_type": "code",
   "execution_count": 16,
   "metadata": {},
   "outputs": [
    {
     "output_type": "execute_result",
     "data": {
      "text/plain": [
       "<matplotlib.colorbar.Colorbar at 0x7fa1e9fc0f50>"
      ]
     },
     "metadata": {},
     "execution_count": 16
    },
    {
     "output_type": "display_data",
     "data": {
      "text/plain": "<Figure size 720x720 with 2 Axes>",
      "image/svg+xml": "<?xml version=\"1.0\" encoding=\"utf-8\" standalone=\"no\"?>\n<!DOCTYPE svg PUBLIC \"-//W3C//DTD SVG 1.1//EN\"\n  \"http://www.w3.org/Graphics/SVG/1.1/DTD/svg11.dtd\">\n<!-- Created with matplotlib (https://matplotlib.org/) -->\n<svg height=\"558pt\" version=\"1.1\" viewBox=\"0 0 563.709687 558\" width=\"563.709687pt\" xmlns=\"http://www.w3.org/2000/svg\" xmlns:xlink=\"http://www.w3.org/1999/xlink\">\n <metadata>\n  <rdf:RDF xmlns:cc=\"http://creativecommons.org/ns#\" xmlns:dc=\"http://purl.org/dc/elements/1.1/\" xmlns:rdf=\"http://www.w3.org/1999/02/22-rdf-syntax-ns#\">\n   <cc:Work>\n    <dc:type rdf:resource=\"http://purl.org/dc/dcmitype/StillImage\"/>\n    <dc:date>2021-05-10T09:53:31.230159</dc:date>\n    <dc:format>image/svg+xml</dc:format>\n    <dc:creator>\n     <cc:Agent>\n      <dc:title>Matplotlib v3.3.4, https://matplotlib.org/</dc:title>\n     </cc:Agent>\n    </dc:creator>\n   </cc:Work>\n  </rdf:RDF>\n </metadata>\n <defs>\n  <style type=\"text/css\">*{stroke-linecap:butt;stroke-linejoin:round;}</style>\n </defs>\n <g id=\"figure_1\">\n  <g id=\"patch_1\">\n   <path d=\"M 0 558 \nL 563.709687 558 \nL 563.709687 0 \nL 0 0 \nz\n\" style=\"fill:none;\"/>\n  </g>\n  <g id=\"axes_1\">\n   <g id=\"patch_2\">\n    <path d=\"M 26.925 502.2 \nL 473.325 502.2 \nL 473.325 55.8 \nL 26.925 55.8 \nz\n\" style=\"fill:#ffffff;\"/>\n   </g>\n   <g clip-path=\"url(#pcc8fa36ba4)\">\n    <image height=\"447\" id=\"image16580eeb9b\" transform=\"scale(1 -1)translate(0 -447)\" width=\"447\" x=\"26.925\" xlink:href=\"data:image/png;base64,\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\" y=\"-55.2\"/>\n   </g>\n   <g id=\"matplotlib.axis_1\">\n    <g id=\"xtick_1\">\n     <g id=\"line2d_1\">\n      <defs>\n       <path d=\"M 0 0 \nL 0 3.5 \n\" id=\"m25d3915d4c\" style=\"stroke:#000000;stroke-width:0.8;\"/>\n      </defs>\n      <g>\n       <use style=\"stroke:#000000;stroke-width:0.8;\" x=\"41.805\" xlink:href=\"#m25d3915d4c\" y=\"502.2\"/>\n      </g>\n     </g>\n     <g id=\"text_1\">\n      <!-- 0 -->\n      <g transform=\"translate(38.62375 516.798438)scale(0.1 -0.1)\">\n       <defs>\n        <path d=\"M 31.78125 66.40625 \nQ 24.171875 66.40625 20.328125 58.90625 \nQ 16.5 51.421875 16.5 36.375 \nQ 16.5 21.390625 20.328125 13.890625 \nQ 24.171875 6.390625 31.78125 6.390625 \nQ 39.453125 6.390625 43.28125 13.890625 \nQ 47.125 21.390625 47.125 36.375 \nQ 47.125 51.421875 43.28125 58.90625 \nQ 39.453125 66.40625 31.78125 66.40625 \nz\nM 31.78125 74.21875 \nQ 44.046875 74.21875 50.515625 64.515625 \nQ 56.984375 54.828125 56.984375 36.375 \nQ 56.984375 17.96875 50.515625 8.265625 \nQ 44.046875 -1.421875 31.78125 -1.421875 \nQ 19.53125 -1.421875 13.0625 8.265625 \nQ 6.59375 17.96875 6.59375 36.375 \nQ 6.59375 54.828125 13.0625 64.515625 \nQ 19.53125 74.21875 31.78125 74.21875 \nz\n\" id=\"DejaVuSans-48\"/>\n       </defs>\n       <use xlink:href=\"#DejaVuSans-48\"/>\n      </g>\n     </g>\n    </g>\n    <g id=\"xtick_2\">\n     <g id=\"line2d_2\">\n      <g>\n       <use style=\"stroke:#000000;stroke-width:0.8;\" x=\"101.325\" xlink:href=\"#m25d3915d4c\" y=\"502.2\"/>\n      </g>\n     </g>\n     <g id=\"text_2\">\n      <!-- 2 -->\n      <g transform=\"translate(98.14375 516.798438)scale(0.1 -0.1)\">\n       <defs>\n        <path d=\"M 19.1875 8.296875 \nL 53.609375 8.296875 \nL 53.609375 0 \nL 7.328125 0 \nL 7.328125 8.296875 \nQ 12.9375 14.109375 22.625 23.890625 \nQ 32.328125 33.6875 34.8125 36.53125 \nQ 39.546875 41.84375 41.421875 45.53125 \nQ 43.3125 49.21875 43.3125 52.78125 \nQ 43.3125 58.59375 39.234375 62.25 \nQ 35.15625 65.921875 28.609375 65.921875 \nQ 23.96875 65.921875 18.8125 64.3125 \nQ 13.671875 62.703125 7.8125 59.421875 \nL 7.8125 69.390625 \nQ 13.765625 71.78125 18.9375 73 \nQ 24.125 74.21875 28.421875 74.21875 \nQ 39.75 74.21875 46.484375 68.546875 \nQ 53.21875 62.890625 53.21875 53.421875 \nQ 53.21875 48.921875 51.53125 44.890625 \nQ 49.859375 40.875 45.40625 35.40625 \nQ 44.1875 33.984375 37.640625 27.21875 \nQ 31.109375 20.453125 19.1875 8.296875 \nz\n\" id=\"DejaVuSans-50\"/>\n       </defs>\n       <use xlink:href=\"#DejaVuSans-50\"/>\n      </g>\n     </g>\n    </g>\n    <g id=\"xtick_3\">\n     <g id=\"line2d_3\">\n      <g>\n       <use style=\"stroke:#000000;stroke-width:0.8;\" x=\"160.845\" xlink:href=\"#m25d3915d4c\" y=\"502.2\"/>\n      </g>\n     </g>\n     <g id=\"text_3\">\n      <!-- 4 -->\n      <g transform=\"translate(157.66375 516.798438)scale(0.1 -0.1)\">\n       <defs>\n        <path d=\"M 37.796875 64.3125 \nL 12.890625 25.390625 \nL 37.796875 25.390625 \nz\nM 35.203125 72.90625 \nL 47.609375 72.90625 \nL 47.609375 25.390625 \nL 58.015625 25.390625 \nL 58.015625 17.1875 \nL 47.609375 17.1875 \nL 47.609375 0 \nL 37.796875 0 \nL 37.796875 17.1875 \nL 4.890625 17.1875 \nL 4.890625 26.703125 \nz\n\" id=\"DejaVuSans-52\"/>\n       </defs>\n       <use xlink:href=\"#DejaVuSans-52\"/>\n      </g>\n     </g>\n    </g>\n    <g id=\"xtick_4\">\n     <g id=\"line2d_4\">\n      <g>\n       <use style=\"stroke:#000000;stroke-width:0.8;\" x=\"220.365\" xlink:href=\"#m25d3915d4c\" y=\"502.2\"/>\n      </g>\n     </g>\n     <g id=\"text_4\">\n      <!-- 6 -->\n      <g transform=\"translate(217.18375 516.798438)scale(0.1 -0.1)\">\n       <defs>\n        <path d=\"M 33.015625 40.375 \nQ 26.375 40.375 22.484375 35.828125 \nQ 18.609375 31.296875 18.609375 23.390625 \nQ 18.609375 15.53125 22.484375 10.953125 \nQ 26.375 6.390625 33.015625 6.390625 \nQ 39.65625 6.390625 43.53125 10.953125 \nQ 47.40625 15.53125 47.40625 23.390625 \nQ 47.40625 31.296875 43.53125 35.828125 \nQ 39.65625 40.375 33.015625 40.375 \nz\nM 52.59375 71.296875 \nL 52.59375 62.3125 \nQ 48.875 64.0625 45.09375 64.984375 \nQ 41.3125 65.921875 37.59375 65.921875 \nQ 27.828125 65.921875 22.671875 59.328125 \nQ 17.53125 52.734375 16.796875 39.40625 \nQ 19.671875 43.65625 24.015625 45.921875 \nQ 28.375 48.1875 33.59375 48.1875 \nQ 44.578125 48.1875 50.953125 41.515625 \nQ 57.328125 34.859375 57.328125 23.390625 \nQ 57.328125 12.15625 50.6875 5.359375 \nQ 44.046875 -1.421875 33.015625 -1.421875 \nQ 20.359375 -1.421875 13.671875 8.265625 \nQ 6.984375 17.96875 6.984375 36.375 \nQ 6.984375 53.65625 15.1875 63.9375 \nQ 23.390625 74.21875 37.203125 74.21875 \nQ 40.921875 74.21875 44.703125 73.484375 \nQ 48.484375 72.75 52.59375 71.296875 \nz\n\" id=\"DejaVuSans-54\"/>\n       </defs>\n       <use xlink:href=\"#DejaVuSans-54\"/>\n      </g>\n     </g>\n    </g>\n    <g id=\"xtick_5\">\n     <g id=\"line2d_5\">\n      <g>\n       <use style=\"stroke:#000000;stroke-width:0.8;\" x=\"279.885\" xlink:href=\"#m25d3915d4c\" y=\"502.2\"/>\n      </g>\n     </g>\n     <g id=\"text_5\">\n      <!-- 8 -->\n      <g transform=\"translate(276.70375 516.798438)scale(0.1 -0.1)\">\n       <defs>\n        <path d=\"M 31.78125 34.625 \nQ 24.75 34.625 20.71875 30.859375 \nQ 16.703125 27.09375 16.703125 20.515625 \nQ 16.703125 13.921875 20.71875 10.15625 \nQ 24.75 6.390625 31.78125 6.390625 \nQ 38.8125 6.390625 42.859375 10.171875 \nQ 46.921875 13.96875 46.921875 20.515625 \nQ 46.921875 27.09375 42.890625 30.859375 \nQ 38.875 34.625 31.78125 34.625 \nz\nM 21.921875 38.8125 \nQ 15.578125 40.375 12.03125 44.71875 \nQ 8.5 49.078125 8.5 55.328125 \nQ 8.5 64.0625 14.71875 69.140625 \nQ 20.953125 74.21875 31.78125 74.21875 \nQ 42.671875 74.21875 48.875 69.140625 \nQ 55.078125 64.0625 55.078125 55.328125 \nQ 55.078125 49.078125 51.53125 44.71875 \nQ 48 40.375 41.703125 38.8125 \nQ 48.828125 37.15625 52.796875 32.3125 \nQ 56.78125 27.484375 56.78125 20.515625 \nQ 56.78125 9.90625 50.3125 4.234375 \nQ 43.84375 -1.421875 31.78125 -1.421875 \nQ 19.734375 -1.421875 13.25 4.234375 \nQ 6.78125 9.90625 6.78125 20.515625 \nQ 6.78125 27.484375 10.78125 32.3125 \nQ 14.796875 37.15625 21.921875 38.8125 \nz\nM 18.3125 54.390625 \nQ 18.3125 48.734375 21.84375 45.5625 \nQ 25.390625 42.390625 31.78125 42.390625 \nQ 38.140625 42.390625 41.71875 45.5625 \nQ 45.3125 48.734375 45.3125 54.390625 \nQ 45.3125 60.0625 41.71875 63.234375 \nQ 38.140625 66.40625 31.78125 66.40625 \nQ 25.390625 66.40625 21.84375 63.234375 \nQ 18.3125 60.0625 18.3125 54.390625 \nz\n\" id=\"DejaVuSans-56\"/>\n       </defs>\n       <use xlink:href=\"#DejaVuSans-56\"/>\n      </g>\n     </g>\n    </g>\n    <g id=\"xtick_6\">\n     <g id=\"line2d_6\">\n      <g>\n       <use style=\"stroke:#000000;stroke-width:0.8;\" x=\"339.405\" xlink:href=\"#m25d3915d4c\" y=\"502.2\"/>\n      </g>\n     </g>\n     <g id=\"text_6\">\n      <!-- 10 -->\n      <g transform=\"translate(333.0425 516.798438)scale(0.1 -0.1)\">\n       <defs>\n        <path d=\"M 12.40625 8.296875 \nL 28.515625 8.296875 \nL 28.515625 63.921875 \nL 10.984375 60.40625 \nL 10.984375 69.390625 \nL 28.421875 72.90625 \nL 38.28125 72.90625 \nL 38.28125 8.296875 \nL 54.390625 8.296875 \nL 54.390625 0 \nL 12.40625 0 \nz\n\" id=\"DejaVuSans-49\"/>\n       </defs>\n       <use xlink:href=\"#DejaVuSans-49\"/>\n       <use x=\"63.623047\" xlink:href=\"#DejaVuSans-48\"/>\n      </g>\n     </g>\n    </g>\n    <g id=\"xtick_7\">\n     <g id=\"line2d_7\">\n      <g>\n       <use style=\"stroke:#000000;stroke-width:0.8;\" x=\"398.925\" xlink:href=\"#m25d3915d4c\" y=\"502.2\"/>\n      </g>\n     </g>\n     <g id=\"text_7\">\n      <!-- 12 -->\n      <g transform=\"translate(392.5625 516.798438)scale(0.1 -0.1)\">\n       <use xlink:href=\"#DejaVuSans-49\"/>\n       <use x=\"63.623047\" xlink:href=\"#DejaVuSans-50\"/>\n      </g>\n     </g>\n    </g>\n    <g id=\"xtick_8\">\n     <g id=\"line2d_8\">\n      <g>\n       <use style=\"stroke:#000000;stroke-width:0.8;\" x=\"458.445\" xlink:href=\"#m25d3915d4c\" y=\"502.2\"/>\n      </g>\n     </g>\n     <g id=\"text_8\">\n      <!-- 14 -->\n      <g transform=\"translate(452.0825 516.798438)scale(0.1 -0.1)\">\n       <use xlink:href=\"#DejaVuSans-49\"/>\n       <use x=\"63.623047\" xlink:href=\"#DejaVuSans-52\"/>\n      </g>\n     </g>\n    </g>\n   </g>\n   <g id=\"matplotlib.axis_2\">\n    <g id=\"ytick_1\">\n     <g id=\"line2d_9\">\n      <defs>\n       <path d=\"M 0 0 \nL -3.5 0 \n\" id=\"m88818b203f\" style=\"stroke:#000000;stroke-width:0.8;\"/>\n      </defs>\n      <g>\n       <use style=\"stroke:#000000;stroke-width:0.8;\" x=\"26.925\" xlink:href=\"#m88818b203f\" y=\"70.68\"/>\n      </g>\n     </g>\n     <g id=\"text_9\">\n      <!-- 0 -->\n      <g transform=\"translate(13.5625 74.479219)scale(0.1 -0.1)\">\n       <use xlink:href=\"#DejaVuSans-48\"/>\n      </g>\n     </g>\n    </g>\n    <g id=\"ytick_2\">\n     <g id=\"line2d_10\">\n      <g>\n       <use style=\"stroke:#000000;stroke-width:0.8;\" x=\"26.925\" xlink:href=\"#m88818b203f\" y=\"130.2\"/>\n      </g>\n     </g>\n     <g id=\"text_10\">\n      <!-- 2 -->\n      <g transform=\"translate(13.5625 133.999219)scale(0.1 -0.1)\">\n       <use xlink:href=\"#DejaVuSans-50\"/>\n      </g>\n     </g>\n    </g>\n    <g id=\"ytick_3\">\n     <g id=\"line2d_11\">\n      <g>\n       <use style=\"stroke:#000000;stroke-width:0.8;\" x=\"26.925\" xlink:href=\"#m88818b203f\" y=\"189.72\"/>\n      </g>\n     </g>\n     <g id=\"text_11\">\n      <!-- 4 -->\n      <g transform=\"translate(13.5625 193.519219)scale(0.1 -0.1)\">\n       <use xlink:href=\"#DejaVuSans-52\"/>\n      </g>\n     </g>\n    </g>\n    <g id=\"ytick_4\">\n     <g id=\"line2d_12\">\n      <g>\n       <use style=\"stroke:#000000;stroke-width:0.8;\" x=\"26.925\" xlink:href=\"#m88818b203f\" y=\"249.24\"/>\n      </g>\n     </g>\n     <g id=\"text_12\">\n      <!-- 6 -->\n      <g transform=\"translate(13.5625 253.039219)scale(0.1 -0.1)\">\n       <use xlink:href=\"#DejaVuSans-54\"/>\n      </g>\n     </g>\n    </g>\n    <g id=\"ytick_5\">\n     <g id=\"line2d_13\">\n      <g>\n       <use style=\"stroke:#000000;stroke-width:0.8;\" x=\"26.925\" xlink:href=\"#m88818b203f\" y=\"308.76\"/>\n      </g>\n     </g>\n     <g id=\"text_13\">\n      <!-- 8 -->\n      <g transform=\"translate(13.5625 312.559219)scale(0.1 -0.1)\">\n       <use xlink:href=\"#DejaVuSans-56\"/>\n      </g>\n     </g>\n    </g>\n    <g id=\"ytick_6\">\n     <g id=\"line2d_14\">\n      <g>\n       <use style=\"stroke:#000000;stroke-width:0.8;\" x=\"26.925\" xlink:href=\"#m88818b203f\" y=\"368.28\"/>\n      </g>\n     </g>\n     <g id=\"text_14\">\n      <!-- 10 -->\n      <g transform=\"translate(7.2 372.079219)scale(0.1 -0.1)\">\n       <use xlink:href=\"#DejaVuSans-49\"/>\n       <use x=\"63.623047\" xlink:href=\"#DejaVuSans-48\"/>\n      </g>\n     </g>\n    </g>\n    <g id=\"ytick_7\">\n     <g id=\"line2d_15\">\n      <g>\n       <use style=\"stroke:#000000;stroke-width:0.8;\" x=\"26.925\" xlink:href=\"#m88818b203f\" y=\"427.8\"/>\n      </g>\n     </g>\n     <g id=\"text_15\">\n      <!-- 12 -->\n      <g transform=\"translate(7.2 431.599219)scale(0.1 -0.1)\">\n       <use xlink:href=\"#DejaVuSans-49\"/>\n       <use x=\"63.623047\" xlink:href=\"#DejaVuSans-50\"/>\n      </g>\n     </g>\n    </g>\n    <g id=\"ytick_8\">\n     <g id=\"line2d_16\">\n      <g>\n       <use style=\"stroke:#000000;stroke-width:0.8;\" x=\"26.925\" xlink:href=\"#m88818b203f\" y=\"487.32\"/>\n      </g>\n     </g>\n     <g id=\"text_16\">\n      <!-- 14 -->\n      <g transform=\"translate(7.2 491.119219)scale(0.1 -0.1)\">\n       <use xlink:href=\"#DejaVuSans-49\"/>\n       <use x=\"63.623047\" xlink:href=\"#DejaVuSans-52\"/>\n      </g>\n     </g>\n    </g>\n   </g>\n   <g id=\"patch_3\">\n    <path d=\"M 26.925 502.2 \nL 26.925 55.8 \n\" style=\"fill:none;stroke:#000000;stroke-linecap:square;stroke-linejoin:miter;stroke-width:0.8;\"/>\n   </g>\n   <g id=\"patch_4\">\n    <path d=\"M 473.325 502.2 \nL 473.325 55.8 \n\" style=\"fill:none;stroke:#000000;stroke-linecap:square;stroke-linejoin:miter;stroke-width:0.8;\"/>\n   </g>\n   <g id=\"patch_5\">\n    <path d=\"M 26.925 502.2 \nL 473.325 502.2 \n\" style=\"fill:none;stroke:#000000;stroke-linecap:square;stroke-linejoin:miter;stroke-width:0.8;\"/>\n   </g>\n   <g id=\"patch_6\">\n    <path d=\"M 26.925 55.8 \nL 473.325 55.8 \n\" style=\"fill:none;stroke:#000000;stroke-linecap:square;stroke-linejoin:miter;stroke-width:0.8;\"/>\n   </g>\n  </g>\n  <g id=\"axes_2\">\n   <g id=\"patch_7\">\n    <path clip-path=\"url(#pd3b3bfb78a)\" d=\"M 501.225 550.8 \nL 501.225 548.676563 \nL 501.225 9.323438 \nL 501.225 7.2 \nL 528.405 7.2 \nL 528.405 9.323438 \nL 528.405 548.676563 \nL 528.405 550.8 \nz\n\" style=\"fill:#ffffff;stroke:#ffffff;stroke-linejoin:miter;stroke-width:0.01;\"/>\n   </g>\n   <image height=\"544\" id=\"imagea644eef4ee\" transform=\"scale(1 -1)translate(0 -544)\" width=\"27\" x=\"501\" xlink:href=\"data:image/png;base64,\niVBORw0KGgoAAAANSUhEUgAAABsAAAIgCAYAAAB09hISAAACnUlEQVR4nO2c0W3cUBADJZ1KcwnuvxRfOsiPBgQ0mGmA4JG7+yAjOX/O3+8x4loJHcdx3Me509s6O69zJlZmCGWGMHZmzWxdEOnPeJ+XtvrazI4yA2gRI9xnxxOg44mQM4RODELOEMzOrCfGm1mfJhCqPkLOEMzOmjOArbOv1dm6+juxqo+QM4TWFUIbBCFn7xNrqBGqPoK5jTtjtZHh/rZBANTHcydWQRDEi1h8PLWLWJyZeM52Ym3994mpC7IT6+9nCLURocwQvCfGm1lDjeAtSEON0JwhqD/b7sSas/eJtYgRGmqEMkMoM4QyQ1Afz51Yf2VCUGe2EyszBLGz2kggPp4VhKDMEMSZeZ3VRoJxZkMx8fH0FsTrrHVFUGYI4sy8zrRtrCAIYmfa6pcZQpkhiJ1p21hBEvsv3up72yh2VhsJyux9YuKCHOfuy37VR1C3cSdWGxHEmWmddWIQvEPtFfMOtbeN4g3ibWPOCNSLuKF+TicGoTYibJ0N/61bbWTwtrGfEeE+jqr/nPUiLrPnlBmCOrOdmPp4WqvvHWpt9cWZmRexNbNhZGX2QjHvzyg+MZc4s5w9pzlDaM4QxMfz0n7cbKgJGmqEMkMoMwTv1q/6CObq5wwgZwjeRWzOzOqsnxHB7Kx1BbB29jcTKzOE5gxBfTytQ/2xFkQ91NY2atfV/amNALXxfWLqE1P1n7NexGX2nPUG0WamfRZoM+t1hdCLGKHMENSZWZ2JHzzazHoWEPRuROhrAYL4C493EffgIWjO3iemXsRaZ9rMesoR9B0Eod2IID6e4upbX1fi41kbCcoMQezssv7r/gqCcC/V1u/Gndi6jTtrtRHh/gz/n5V1ZlZn2jmrIAjqod7p1UaE+3N6M5M6m4r9A8rbj0KdYkDxAAAAAElFTkSuQmCC\" y=\"-7\"/>\n   <g id=\"matplotlib.axis_3\"/>\n   <g id=\"matplotlib.axis_4\">\n    <g id=\"ytick_9\">\n     <g id=\"line2d_17\">\n      <defs>\n       <path d=\"M 0 0 \nL 3.5 0 \n\" id=\"m72518d2f86\" style=\"stroke:#000000;stroke-width:0.8;\"/>\n      </defs>\n      <g>\n       <use style=\"stroke:#000000;stroke-width:0.8;\" x=\"528.405\" xlink:href=\"#m72518d2f86\" y=\"535.156313\"/>\n      </g>\n     </g>\n     <g id=\"text_17\">\n      <!-- −20 -->\n      <g transform=\"translate(535.405 538.955532)scale(0.1 -0.1)\">\n       <defs>\n        <path d=\"M 10.59375 35.5 \nL 73.1875 35.5 \nL 73.1875 27.203125 \nL 10.59375 27.203125 \nz\n\" id=\"DejaVuSans-8722\"/>\n       </defs>\n       <use xlink:href=\"#DejaVuSans-8722\"/>\n       <use x=\"83.789062\" xlink:href=\"#DejaVuSans-50\"/>\n       <use x=\"147.412109\" xlink:href=\"#DejaVuSans-48\"/>\n      </g>\n     </g>\n    </g>\n    <g id=\"ytick_10\">\n     <g id=\"line2d_18\">\n      <g>\n       <use style=\"stroke:#000000;stroke-width:0.8;\" x=\"528.405\" xlink:href=\"#m72518d2f86\" y=\"451.822162\"/>\n      </g>\n     </g>\n     <g id=\"text_18\">\n      <!-- −15 -->\n      <g transform=\"translate(535.405 455.62138)scale(0.1 -0.1)\">\n       <defs>\n        <path d=\"M 10.796875 72.90625 \nL 49.515625 72.90625 \nL 49.515625 64.59375 \nL 19.828125 64.59375 \nL 19.828125 46.734375 \nQ 21.96875 47.46875 24.109375 47.828125 \nQ 26.265625 48.1875 28.421875 48.1875 \nQ 40.625 48.1875 47.75 41.5 \nQ 54.890625 34.8125 54.890625 23.390625 \nQ 54.890625 11.625 47.5625 5.09375 \nQ 40.234375 -1.421875 26.90625 -1.421875 \nQ 22.3125 -1.421875 17.546875 -0.640625 \nQ 12.796875 0.140625 7.71875 1.703125 \nL 7.71875 11.625 \nQ 12.109375 9.234375 16.796875 8.0625 \nQ 21.484375 6.890625 26.703125 6.890625 \nQ 35.15625 6.890625 40.078125 11.328125 \nQ 45.015625 15.765625 45.015625 23.390625 \nQ 45.015625 31 40.078125 35.4375 \nQ 35.15625 39.890625 26.703125 39.890625 \nQ 22.75 39.890625 18.8125 39.015625 \nQ 14.890625 38.140625 10.796875 36.28125 \nz\n\" id=\"DejaVuSans-53\"/>\n       </defs>\n       <use xlink:href=\"#DejaVuSans-8722\"/>\n       <use x=\"83.789062\" xlink:href=\"#DejaVuSans-49\"/>\n       <use x=\"147.412109\" xlink:href=\"#DejaVuSans-53\"/>\n      </g>\n     </g>\n    </g>\n    <g id=\"ytick_11\">\n     <g id=\"line2d_19\">\n      <g>\n       <use style=\"stroke:#000000;stroke-width:0.8;\" x=\"528.405\" xlink:href=\"#m72518d2f86\" y=\"368.48801\"/>\n      </g>\n     </g>\n     <g id=\"text_19\">\n      <!-- −10 -->\n      <g transform=\"translate(535.405 372.287229)scale(0.1 -0.1)\">\n       <use xlink:href=\"#DejaVuSans-8722\"/>\n       <use x=\"83.789062\" xlink:href=\"#DejaVuSans-49\"/>\n       <use x=\"147.412109\" xlink:href=\"#DejaVuSans-48\"/>\n      </g>\n     </g>\n    </g>\n    <g id=\"ytick_12\">\n     <g id=\"line2d_20\">\n      <g>\n       <use style=\"stroke:#000000;stroke-width:0.8;\" x=\"528.405\" xlink:href=\"#m72518d2f86\" y=\"285.153859\"/>\n      </g>\n     </g>\n     <g id=\"text_20\">\n      <!-- −5 -->\n      <g transform=\"translate(535.405 288.953077)scale(0.1 -0.1)\">\n       <use xlink:href=\"#DejaVuSans-8722\"/>\n       <use x=\"83.789062\" xlink:href=\"#DejaVuSans-53\"/>\n      </g>\n     </g>\n    </g>\n    <g id=\"ytick_13\">\n     <g id=\"line2d_21\">\n      <g>\n       <use style=\"stroke:#000000;stroke-width:0.8;\" x=\"528.405\" xlink:href=\"#m72518d2f86\" y=\"201.819707\"/>\n      </g>\n     </g>\n     <g id=\"text_21\">\n      <!-- 0 -->\n      <g transform=\"translate(535.405 205.618926)scale(0.1 -0.1)\">\n       <use xlink:href=\"#DejaVuSans-48\"/>\n      </g>\n     </g>\n    </g>\n    <g id=\"ytick_14\">\n     <g id=\"line2d_22\">\n      <g>\n       <use style=\"stroke:#000000;stroke-width:0.8;\" x=\"528.405\" xlink:href=\"#m72518d2f86\" y=\"118.485555\"/>\n      </g>\n     </g>\n     <g id=\"text_22\">\n      <!-- 5 -->\n      <g transform=\"translate(535.405 122.284774)scale(0.1 -0.1)\">\n       <use xlink:href=\"#DejaVuSans-53\"/>\n      </g>\n     </g>\n    </g>\n    <g id=\"ytick_15\">\n     <g id=\"line2d_23\">\n      <g>\n       <use style=\"stroke:#000000;stroke-width:0.8;\" x=\"528.405\" xlink:href=\"#m72518d2f86\" y=\"35.151404\"/>\n      </g>\n     </g>\n     <g id=\"text_23\">\n      <!-- 10 -->\n      <g transform=\"translate(535.405 38.950622)scale(0.1 -0.1)\">\n       <use xlink:href=\"#DejaVuSans-49\"/>\n       <use x=\"63.623047\" xlink:href=\"#DejaVuSans-48\"/>\n      </g>\n     </g>\n    </g>\n   </g>\n   <g id=\"patch_8\">\n    <path d=\"M 501.225 550.8 \nL 501.225 548.676563 \nL 501.225 9.323438 \nL 501.225 7.2 \nL 528.405 7.2 \nL 528.405 9.323438 \nL 528.405 548.676563 \nL 528.405 550.8 \nz\n\" style=\"fill:none;stroke:#000000;stroke-linejoin:miter;stroke-width:0.8;\"/>\n   </g>\n  </g>\n </g>\n <defs>\n  <clipPath id=\"pcc8fa36ba4\">\n   <rect height=\"446.4\" width=\"446.4\" x=\"26.925\" y=\"55.8\"/>\n  </clipPath>\n  <clipPath id=\"pd3b3bfb78a\">\n   <rect height=\"543.6\" width=\"27.18\" x=\"501.225\" y=\"7.2\"/>\n  </clipPath>\n </defs>\n</svg>\n",
      "image/png": "[encoded data removed]"
     },
     "metadata": {
      "needs_background": "light"
     }
    }
   ],
   "source": [
    "plt.figure(figsize=(10,10))\n",
    "plt.imshow(netmat_15)\n",
    "plt.colorbar()"
   ]
  },
  {
   "source": [
    "#### FULL CORRELATION VS PARTIAL CORRELATION - NETMAT 15"
   ],
   "cell_type": "markdown",
   "metadata": {}
  },
  {
   "cell_type": "code",
   "execution_count": 20,
   "metadata": {},
   "outputs": [],
   "source": [
    "data_path = '/home/sd20/workspace/data/HCP/'\n",
    "\n",
    "filename_full = 'netmats_ICA15/Mnet1.pconn.nii'\n",
    "file_path_full = os.path.join(data_path, filename_full)\n",
    "\n",
    "filename_partial = 'netmats_ICA15/Mnet2.pconn.nii'\n",
    "file_path_partial = os.path.join(data_path, filename_partial)\n",
    "\n",
    "data_full = nib.load(file_path_full)\n",
    "data_partial = nib.load(file_path_partial)\n",
    "\n",
    "netmat_15_full = data_full.get_fdata()\n",
    "netmat_15_partial = data_partial.get_fdata()\n",
    "\n"
   ]
  },
  {
   "cell_type": "code",
   "execution_count": 71,
   "metadata": {},
   "outputs": [
    {
     "output_type": "execute_result",
     "data": {
      "text/plain": [
       "<matplotlib.colorbar.Colorbar at 0x7fa1e1c0e510>"
      ]
     },
     "metadata": {},
     "execution_count": 71
    },
    {
     "output_type": "display_data",
     "data": {
      "text/plain": "<Figure size 864x720 with 3 Axes>",
      "image/svg+xml": "<?xml version=\"1.0\" encoding=\"utf-8\" standalone=\"no\"?>\n<!DOCTYPE svg PUBLIC \"-//W3C//DTD SVG 1.1//EN\"\n  \"http://www.w3.org/Graphics/SVG/1.1/DTD/svg11.dtd\">\n<!-- Created with matplotlib (https://matplotlib.org/) -->\n<svg height=\"374.4pt\" version=\"1.1\" viewBox=\"0 0 844.149687 374.4\" width=\"844.149687pt\" xmlns=\"http://www.w3.org/2000/svg\" xmlns:xlink=\"http://www.w3.org/1999/xlink\">\n <metadata>\n  <rdf:RDF xmlns:cc=\"http://creativecommons.org/ns#\" xmlns:dc=\"http://purl.org/dc/elements/1.1/\" xmlns:rdf=\"http://www.w3.org/1999/02/22-rdf-syntax-ns#\">\n   <cc:Work>\n    <dc:type rdf:resource=\"http://purl.org/dc/dcmitype/StillImage\"/>\n    <dc:date>2021-05-10T10:20:16.946528</dc:date>\n    <dc:format>image/svg+xml</dc:format>\n    <dc:creator>\n     <cc:Agent>\n      <dc:title>Matplotlib v3.3.4, https://matplotlib.org/</dc:title>\n     </cc:Agent>\n    </dc:creator>\n   </cc:Work>\n  </rdf:RDF>\n </metadata>\n <defs>\n  <style type=\"text/css\">*{stroke-linecap:butt;stroke-linejoin:round;}</style>\n </defs>\n <g id=\"figure_1\">\n  <g id=\"patch_1\">\n   <path d=\"M 0 374.4 \nL 844.149687 374.4 \nL 844.149687 -0 \nL 0 -0 \nz\n\" style=\"fill:none;\"/>\n  </g>\n  <g id=\"axes_1\">\n   <g id=\"patch_2\">\n    <path d=\"M 26.925 337.581818 \nL 331.288636 337.581818 \nL 331.288636 33.218182 \nL 26.925 33.218182 \nz\n\" style=\"fill:#ffffff;\"/>\n   </g>\n   <g clip-path=\"url(#p1cc7715bb6)\">\n    <image height=\"305\" id=\"imagef7758a134b\" transform=\"scale(1 -1)translate(0 -305)\" width=\"305\" x=\"26.925\" xlink:href=\"data:image/png;base64,\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\" y=\"-32.581818\"/>\n   </g>\n   <g id=\"matplotlib.axis_1\">\n    <g id=\"xtick_1\">\n     <g id=\"line2d_1\">\n      <defs>\n       <path d=\"M 0 0 \nL 0 3.5 \n\" id=\"mb37d258ff5\" style=\"stroke:#000000;stroke-width:0.8;\"/>\n      </defs>\n      <g>\n       <use style=\"stroke:#000000;stroke-width:0.8;\" x=\"37.070455\" xlink:href=\"#mb37d258ff5\" y=\"337.581818\"/>\n      </g>\n     </g>\n     <g id=\"text_1\">\n      <!-- 0 -->\n      <g transform=\"translate(33.889205 352.180256)scale(0.1 -0.1)\">\n       <defs>\n        <path d=\"M 31.78125 66.40625 \nQ 24.171875 66.40625 20.328125 58.90625 \nQ 16.5 51.421875 16.5 36.375 \nQ 16.5 21.390625 20.328125 13.890625 \nQ 24.171875 6.390625 31.78125 6.390625 \nQ 39.453125 6.390625 43.28125 13.890625 \nQ 47.125 21.390625 47.125 36.375 \nQ 47.125 51.421875 43.28125 58.90625 \nQ 39.453125 66.40625 31.78125 66.40625 \nz\nM 31.78125 74.21875 \nQ 44.046875 74.21875 50.515625 64.515625 \nQ 56.984375 54.828125 56.984375 36.375 \nQ 56.984375 17.96875 50.515625 8.265625 \nQ 44.046875 -1.421875 31.78125 -1.421875 \nQ 19.53125 -1.421875 13.0625 8.265625 \nQ 6.59375 17.96875 6.59375 36.375 \nQ 6.59375 54.828125 13.0625 64.515625 \nQ 19.53125 74.21875 31.78125 74.21875 \nz\n\" id=\"DejaVuSans-48\"/>\n       </defs>\n       <use xlink:href=\"#DejaVuSans-48\"/>\n      </g>\n     </g>\n    </g>\n    <g id=\"xtick_2\">\n     <g id=\"line2d_2\">\n      <g>\n       <use style=\"stroke:#000000;stroke-width:0.8;\" x=\"77.652273\" xlink:href=\"#mb37d258ff5\" y=\"337.581818\"/>\n      </g>\n     </g>\n     <g id=\"text_2\">\n      <!-- 2 -->\n      <g transform=\"translate(74.471023 352.180256)scale(0.1 -0.1)\">\n       <defs>\n        <path d=\"M 19.1875 8.296875 \nL 53.609375 8.296875 \nL 53.609375 0 \nL 7.328125 0 \nL 7.328125 8.296875 \nQ 12.9375 14.109375 22.625 23.890625 \nQ 32.328125 33.6875 34.8125 36.53125 \nQ 39.546875 41.84375 41.421875 45.53125 \nQ 43.3125 49.21875 43.3125 52.78125 \nQ 43.3125 58.59375 39.234375 62.25 \nQ 35.15625 65.921875 28.609375 65.921875 \nQ 23.96875 65.921875 18.8125 64.3125 \nQ 13.671875 62.703125 7.8125 59.421875 \nL 7.8125 69.390625 \nQ 13.765625 71.78125 18.9375 73 \nQ 24.125 74.21875 28.421875 74.21875 \nQ 39.75 74.21875 46.484375 68.546875 \nQ 53.21875 62.890625 53.21875 53.421875 \nQ 53.21875 48.921875 51.53125 44.890625 \nQ 49.859375 40.875 45.40625 35.40625 \nQ 44.1875 33.984375 37.640625 27.21875 \nQ 31.109375 20.453125 19.1875 8.296875 \nz\n\" id=\"DejaVuSans-50\"/>\n       </defs>\n       <use xlink:href=\"#DejaVuSans-50\"/>\n      </g>\n     </g>\n    </g>\n    <g id=\"xtick_3\">\n     <g id=\"line2d_3\">\n      <g>\n       <use style=\"stroke:#000000;stroke-width:0.8;\" x=\"118.234091\" xlink:href=\"#mb37d258ff5\" y=\"337.581818\"/>\n      </g>\n     </g>\n     <g id=\"text_3\">\n      <!-- 4 -->\n      <g transform=\"translate(115.052841 352.180256)scale(0.1 -0.1)\">\n       <defs>\n        <path d=\"M 37.796875 64.3125 \nL 12.890625 25.390625 \nL 37.796875 25.390625 \nz\nM 35.203125 72.90625 \nL 47.609375 72.90625 \nL 47.609375 25.390625 \nL 58.015625 25.390625 \nL 58.015625 17.1875 \nL 47.609375 17.1875 \nL 47.609375 0 \nL 37.796875 0 \nL 37.796875 17.1875 \nL 4.890625 17.1875 \nL 4.890625 26.703125 \nz\n\" id=\"DejaVuSans-52\"/>\n       </defs>\n       <use xlink:href=\"#DejaVuSans-52\"/>\n      </g>\n     </g>\n    </g>\n    <g id=\"xtick_4\">\n     <g id=\"line2d_4\">\n      <g>\n       <use style=\"stroke:#000000;stroke-width:0.8;\" x=\"158.815909\" xlink:href=\"#mb37d258ff5\" y=\"337.581818\"/>\n      </g>\n     </g>\n     <g id=\"text_4\">\n      <!-- 6 -->\n      <g transform=\"translate(155.634659 352.180256)scale(0.1 -0.1)\">\n       <defs>\n        <path d=\"M 33.015625 40.375 \nQ 26.375 40.375 22.484375 35.828125 \nQ 18.609375 31.296875 18.609375 23.390625 \nQ 18.609375 15.53125 22.484375 10.953125 \nQ 26.375 6.390625 33.015625 6.390625 \nQ 39.65625 6.390625 43.53125 10.953125 \nQ 47.40625 15.53125 47.40625 23.390625 \nQ 47.40625 31.296875 43.53125 35.828125 \nQ 39.65625 40.375 33.015625 40.375 \nz\nM 52.59375 71.296875 \nL 52.59375 62.3125 \nQ 48.875 64.0625 45.09375 64.984375 \nQ 41.3125 65.921875 37.59375 65.921875 \nQ 27.828125 65.921875 22.671875 59.328125 \nQ 17.53125 52.734375 16.796875 39.40625 \nQ 19.671875 43.65625 24.015625 45.921875 \nQ 28.375 48.1875 33.59375 48.1875 \nQ 44.578125 48.1875 50.953125 41.515625 \nQ 57.328125 34.859375 57.328125 23.390625 \nQ 57.328125 12.15625 50.6875 5.359375 \nQ 44.046875 -1.421875 33.015625 -1.421875 \nQ 20.359375 -1.421875 13.671875 8.265625 \nQ 6.984375 17.96875 6.984375 36.375 \nQ 6.984375 53.65625 15.1875 63.9375 \nQ 23.390625 74.21875 37.203125 74.21875 \nQ 40.921875 74.21875 44.703125 73.484375 \nQ 48.484375 72.75 52.59375 71.296875 \nz\n\" id=\"DejaVuSans-54\"/>\n       </defs>\n       <use xlink:href=\"#DejaVuSans-54\"/>\n      </g>\n     </g>\n    </g>\n    <g id=\"xtick_5\">\n     <g id=\"line2d_5\">\n      <g>\n       <use style=\"stroke:#000000;stroke-width:0.8;\" x=\"199.397727\" xlink:href=\"#mb37d258ff5\" y=\"337.581818\"/>\n      </g>\n     </g>\n     <g id=\"text_5\">\n      <!-- 8 -->\n      <g transform=\"translate(196.216477 352.180256)scale(0.1 -0.1)\">\n       <defs>\n        <path d=\"M 31.78125 34.625 \nQ 24.75 34.625 20.71875 30.859375 \nQ 16.703125 27.09375 16.703125 20.515625 \nQ 16.703125 13.921875 20.71875 10.15625 \nQ 24.75 6.390625 31.78125 6.390625 \nQ 38.8125 6.390625 42.859375 10.171875 \nQ 46.921875 13.96875 46.921875 20.515625 \nQ 46.921875 27.09375 42.890625 30.859375 \nQ 38.875 34.625 31.78125 34.625 \nz\nM 21.921875 38.8125 \nQ 15.578125 40.375 12.03125 44.71875 \nQ 8.5 49.078125 8.5 55.328125 \nQ 8.5 64.0625 14.71875 69.140625 \nQ 20.953125 74.21875 31.78125 74.21875 \nQ 42.671875 74.21875 48.875 69.140625 \nQ 55.078125 64.0625 55.078125 55.328125 \nQ 55.078125 49.078125 51.53125 44.71875 \nQ 48 40.375 41.703125 38.8125 \nQ 48.828125 37.15625 52.796875 32.3125 \nQ 56.78125 27.484375 56.78125 20.515625 \nQ 56.78125 9.90625 50.3125 4.234375 \nQ 43.84375 -1.421875 31.78125 -1.421875 \nQ 19.734375 -1.421875 13.25 4.234375 \nQ 6.78125 9.90625 6.78125 20.515625 \nQ 6.78125 27.484375 10.78125 32.3125 \nQ 14.796875 37.15625 21.921875 38.8125 \nz\nM 18.3125 54.390625 \nQ 18.3125 48.734375 21.84375 45.5625 \nQ 25.390625 42.390625 31.78125 42.390625 \nQ 38.140625 42.390625 41.71875 45.5625 \nQ 45.3125 48.734375 45.3125 54.390625 \nQ 45.3125 60.0625 41.71875 63.234375 \nQ 38.140625 66.40625 31.78125 66.40625 \nQ 25.390625 66.40625 21.84375 63.234375 \nQ 18.3125 60.0625 18.3125 54.390625 \nz\n\" id=\"DejaVuSans-56\"/>\n       </defs>\n       <use xlink:href=\"#DejaVuSans-56\"/>\n      </g>\n     </g>\n    </g>\n    <g id=\"xtick_6\">\n     <g id=\"line2d_6\">\n      <g>\n       <use style=\"stroke:#000000;stroke-width:0.8;\" x=\"239.979545\" xlink:href=\"#mb37d258ff5\" y=\"337.581818\"/>\n      </g>\n     </g>\n     <g id=\"text_6\">\n      <!-- 10 -->\n      <g transform=\"translate(233.617045 352.180256)scale(0.1 -0.1)\">\n       <defs>\n        <path d=\"M 12.40625 8.296875 \nL 28.515625 8.296875 \nL 28.515625 63.921875 \nL 10.984375 60.40625 \nL 10.984375 69.390625 \nL 28.421875 72.90625 \nL 38.28125 72.90625 \nL 38.28125 8.296875 \nL 54.390625 8.296875 \nL 54.390625 0 \nL 12.40625 0 \nz\n\" id=\"DejaVuSans-49\"/>\n       </defs>\n       <use xlink:href=\"#DejaVuSans-49\"/>\n       <use x=\"63.623047\" xlink:href=\"#DejaVuSans-48\"/>\n      </g>\n     </g>\n    </g>\n    <g id=\"xtick_7\">\n     <g id=\"line2d_7\">\n      <g>\n       <use style=\"stroke:#000000;stroke-width:0.8;\" x=\"280.561364\" xlink:href=\"#mb37d258ff5\" y=\"337.581818\"/>\n      </g>\n     </g>\n     <g id=\"text_7\">\n      <!-- 12 -->\n      <g transform=\"translate(274.198864 352.180256)scale(0.1 -0.1)\">\n       <use xlink:href=\"#DejaVuSans-49\"/>\n       <use x=\"63.623047\" xlink:href=\"#DejaVuSans-50\"/>\n      </g>\n     </g>\n    </g>\n    <g id=\"xtick_8\">\n     <g id=\"line2d_8\">\n      <g>\n       <use style=\"stroke:#000000;stroke-width:0.8;\" x=\"321.143182\" xlink:href=\"#mb37d258ff5\" y=\"337.581818\"/>\n      </g>\n     </g>\n     <g id=\"text_8\">\n      <!-- 14 -->\n      <g transform=\"translate(314.780682 352.180256)scale(0.1 -0.1)\">\n       <use xlink:href=\"#DejaVuSans-49\"/>\n       <use x=\"63.623047\" xlink:href=\"#DejaVuSans-52\"/>\n      </g>\n     </g>\n    </g>\n   </g>\n   <g id=\"matplotlib.axis_2\">\n    <g id=\"ytick_1\">\n     <g id=\"line2d_9\">\n      <defs>\n       <path d=\"M 0 0 \nL -3.5 0 \n\" id=\"mae9065ab8e\" style=\"stroke:#000000;stroke-width:0.8;\"/>\n      </defs>\n      <g>\n       <use style=\"stroke:#000000;stroke-width:0.8;\" x=\"26.925\" xlink:href=\"#mae9065ab8e\" y=\"43.363636\"/>\n      </g>\n     </g>\n     <g id=\"text_9\">\n      <!-- 0 -->\n      <g transform=\"translate(13.5625 47.162855)scale(0.1 -0.1)\">\n       <use xlink:href=\"#DejaVuSans-48\"/>\n      </g>\n     </g>\n    </g>\n    <g id=\"ytick_2\">\n     <g id=\"line2d_10\">\n      <g>\n       <use style=\"stroke:#000000;stroke-width:0.8;\" x=\"26.925\" xlink:href=\"#mae9065ab8e\" y=\"83.945455\"/>\n      </g>\n     </g>\n     <g id=\"text_10\">\n      <!-- 2 -->\n      <g transform=\"translate(13.5625 87.744673)scale(0.1 -0.1)\">\n       <use xlink:href=\"#DejaVuSans-50\"/>\n      </g>\n     </g>\n    </g>\n    <g id=\"ytick_3\">\n     <g id=\"line2d_11\">\n      <g>\n       <use style=\"stroke:#000000;stroke-width:0.8;\" x=\"26.925\" xlink:href=\"#mae9065ab8e\" y=\"124.527273\"/>\n      </g>\n     </g>\n     <g id=\"text_11\">\n      <!-- 4 -->\n      <g transform=\"translate(13.5625 128.326491)scale(0.1 -0.1)\">\n       <use xlink:href=\"#DejaVuSans-52\"/>\n      </g>\n     </g>\n    </g>\n    <g id=\"ytick_4\">\n     <g id=\"line2d_12\">\n      <g>\n       <use style=\"stroke:#000000;stroke-width:0.8;\" x=\"26.925\" xlink:href=\"#mae9065ab8e\" y=\"165.109091\"/>\n      </g>\n     </g>\n     <g id=\"text_12\">\n      <!-- 6 -->\n      <g transform=\"translate(13.5625 168.90831)scale(0.1 -0.1)\">\n       <use xlink:href=\"#DejaVuSans-54\"/>\n      </g>\n     </g>\n    </g>\n    <g id=\"ytick_5\">\n     <g id=\"line2d_13\">\n      <g>\n       <use style=\"stroke:#000000;stroke-width:0.8;\" x=\"26.925\" xlink:href=\"#mae9065ab8e\" y=\"205.690909\"/>\n      </g>\n     </g>\n     <g id=\"text_13\">\n      <!-- 8 -->\n      <g transform=\"translate(13.5625 209.490128)scale(0.1 -0.1)\">\n       <use xlink:href=\"#DejaVuSans-56\"/>\n      </g>\n     </g>\n    </g>\n    <g id=\"ytick_6\">\n     <g id=\"line2d_14\">\n      <g>\n       <use style=\"stroke:#000000;stroke-width:0.8;\" x=\"26.925\" xlink:href=\"#mae9065ab8e\" y=\"246.272727\"/>\n      </g>\n     </g>\n     <g id=\"text_14\">\n      <!-- 10 -->\n      <g transform=\"translate(7.2 250.071946)scale(0.1 -0.1)\">\n       <use xlink:href=\"#DejaVuSans-49\"/>\n       <use x=\"63.623047\" xlink:href=\"#DejaVuSans-48\"/>\n      </g>\n     </g>\n    </g>\n    <g id=\"ytick_7\">\n     <g id=\"line2d_15\">\n      <g>\n       <use style=\"stroke:#000000;stroke-width:0.8;\" x=\"26.925\" xlink:href=\"#mae9065ab8e\" y=\"286.854545\"/>\n      </g>\n     </g>\n     <g id=\"text_15\">\n      <!-- 12 -->\n      <g transform=\"translate(7.2 290.653764)scale(0.1 -0.1)\">\n       <use xlink:href=\"#DejaVuSans-49\"/>\n       <use x=\"63.623047\" xlink:href=\"#DejaVuSans-50\"/>\n      </g>\n     </g>\n    </g>\n    <g id=\"ytick_8\">\n     <g id=\"line2d_16\">\n      <g>\n       <use style=\"stroke:#000000;stroke-width:0.8;\" x=\"26.925\" xlink:href=\"#mae9065ab8e\" y=\"327.436364\"/>\n      </g>\n     </g>\n     <g id=\"text_16\">\n      <!-- 14 -->\n      <g transform=\"translate(7.2 331.235582)scale(0.1 -0.1)\">\n       <use xlink:href=\"#DejaVuSans-49\"/>\n       <use x=\"63.623047\" xlink:href=\"#DejaVuSans-52\"/>\n      </g>\n     </g>\n    </g>\n   </g>\n   <g id=\"patch_3\">\n    <path d=\"M 26.925 337.581818 \nL 26.925 33.218182 \n\" style=\"fill:none;stroke:#000000;stroke-linecap:square;stroke-linejoin:miter;stroke-width:0.8;\"/>\n   </g>\n   <g id=\"patch_4\">\n    <path d=\"M 331.288636 337.581818 \nL 331.288636 33.218182 \n\" style=\"fill:none;stroke:#000000;stroke-linecap:square;stroke-linejoin:miter;stroke-width:0.8;\"/>\n   </g>\n   <g id=\"patch_5\">\n    <path d=\"M 26.925 337.581818 \nL 331.288636 337.581818 \n\" style=\"fill:none;stroke:#000000;stroke-linecap:square;stroke-linejoin:miter;stroke-width:0.8;\"/>\n   </g>\n   <g id=\"patch_6\">\n    <path d=\"M 26.925 33.218182 \nL 331.288636 33.218182 \n\" style=\"fill:none;stroke:#000000;stroke-linecap:square;stroke-linejoin:miter;stroke-width:0.8;\"/>\n   </g>\n   <g id=\"text_17\">\n    <!-- full correlation -->\n    <g transform=\"translate(135.759631 27.218182)scale(0.12 -0.12)\">\n     <defs>\n      <path d=\"M 37.109375 75.984375 \nL 37.109375 68.5 \nL 28.515625 68.5 \nQ 23.6875 68.5 21.796875 66.546875 \nQ 19.921875 64.59375 19.921875 59.515625 \nL 19.921875 54.6875 \nL 34.71875 54.6875 \nL 34.71875 47.703125 \nL 19.921875 47.703125 \nL 19.921875 0 \nL 10.890625 0 \nL 10.890625 47.703125 \nL 2.296875 47.703125 \nL 2.296875 54.6875 \nL 10.890625 54.6875 \nL 10.890625 58.5 \nQ 10.890625 67.625 15.140625 71.796875 \nQ 19.390625 75.984375 28.609375 75.984375 \nz\n\" id=\"DejaVuSans-102\"/>\n      <path d=\"M 8.5 21.578125 \nL 8.5 54.6875 \nL 17.484375 54.6875 \nL 17.484375 21.921875 \nQ 17.484375 14.15625 20.5 10.265625 \nQ 23.53125 6.390625 29.59375 6.390625 \nQ 36.859375 6.390625 41.078125 11.03125 \nQ 45.3125 15.671875 45.3125 23.6875 \nL 45.3125 54.6875 \nL 54.296875 54.6875 \nL 54.296875 0 \nL 45.3125 0 \nL 45.3125 8.40625 \nQ 42.046875 3.421875 37.71875 1 \nQ 33.40625 -1.421875 27.6875 -1.421875 \nQ 18.265625 -1.421875 13.375 4.4375 \nQ 8.5 10.296875 8.5 21.578125 \nz\nM 31.109375 56 \nz\n\" id=\"DejaVuSans-117\"/>\n      <path d=\"M 9.421875 75.984375 \nL 18.40625 75.984375 \nL 18.40625 0 \nL 9.421875 0 \nz\n\" id=\"DejaVuSans-108\"/>\n      <path id=\"DejaVuSans-32\"/>\n      <path d=\"M 48.78125 52.59375 \nL 48.78125 44.1875 \nQ 44.96875 46.296875 41.140625 47.34375 \nQ 37.3125 48.390625 33.40625 48.390625 \nQ 24.65625 48.390625 19.8125 42.84375 \nQ 14.984375 37.3125 14.984375 27.296875 \nQ 14.984375 17.28125 19.8125 11.734375 \nQ 24.65625 6.203125 33.40625 6.203125 \nQ 37.3125 6.203125 41.140625 7.25 \nQ 44.96875 8.296875 48.78125 10.40625 \nL 48.78125 2.09375 \nQ 45.015625 0.34375 40.984375 -0.53125 \nQ 36.96875 -1.421875 32.421875 -1.421875 \nQ 20.0625 -1.421875 12.78125 6.34375 \nQ 5.515625 14.109375 5.515625 27.296875 \nQ 5.515625 40.671875 12.859375 48.328125 \nQ 20.21875 56 33.015625 56 \nQ 37.15625 56 41.109375 55.140625 \nQ 45.0625 54.296875 48.78125 52.59375 \nz\n\" id=\"DejaVuSans-99\"/>\n      <path d=\"M 30.609375 48.390625 \nQ 23.390625 48.390625 19.1875 42.75 \nQ 14.984375 37.109375 14.984375 27.296875 \nQ 14.984375 17.484375 19.15625 11.84375 \nQ 23.34375 6.203125 30.609375 6.203125 \nQ 37.796875 6.203125 41.984375 11.859375 \nQ 46.1875 17.53125 46.1875 27.296875 \nQ 46.1875 37.015625 41.984375 42.703125 \nQ 37.796875 48.390625 30.609375 48.390625 \nz\nM 30.609375 56 \nQ 42.328125 56 49.015625 48.375 \nQ 55.71875 40.765625 55.71875 27.296875 \nQ 55.71875 13.875 49.015625 6.21875 \nQ 42.328125 -1.421875 30.609375 -1.421875 \nQ 18.84375 -1.421875 12.171875 6.21875 \nQ 5.515625 13.875 5.515625 27.296875 \nQ 5.515625 40.765625 12.171875 48.375 \nQ 18.84375 56 30.609375 56 \nz\n\" id=\"DejaVuSans-111\"/>\n      <path d=\"M 41.109375 46.296875 \nQ 39.59375 47.171875 37.8125 47.578125 \nQ 36.03125 48 33.890625 48 \nQ 26.265625 48 22.1875 43.046875 \nQ 18.109375 38.09375 18.109375 28.8125 \nL 18.109375 0 \nL 9.078125 0 \nL 9.078125 54.6875 \nL 18.109375 54.6875 \nL 18.109375 46.1875 \nQ 20.953125 51.171875 25.484375 53.578125 \nQ 30.03125 56 36.53125 56 \nQ 37.453125 56 38.578125 55.875 \nQ 39.703125 55.765625 41.0625 55.515625 \nz\n\" id=\"DejaVuSans-114\"/>\n      <path d=\"M 56.203125 29.59375 \nL 56.203125 25.203125 \nL 14.890625 25.203125 \nQ 15.484375 15.921875 20.484375 11.0625 \nQ 25.484375 6.203125 34.421875 6.203125 \nQ 39.59375 6.203125 44.453125 7.46875 \nQ 49.3125 8.734375 54.109375 11.28125 \nL 54.109375 2.78125 \nQ 49.265625 0.734375 44.1875 -0.34375 \nQ 39.109375 -1.421875 33.890625 -1.421875 \nQ 20.796875 -1.421875 13.15625 6.1875 \nQ 5.515625 13.8125 5.515625 26.8125 \nQ 5.515625 40.234375 12.765625 48.109375 \nQ 20.015625 56 32.328125 56 \nQ 43.359375 56 49.78125 48.890625 \nQ 56.203125 41.796875 56.203125 29.59375 \nz\nM 47.21875 32.234375 \nQ 47.125 39.59375 43.09375 43.984375 \nQ 39.0625 48.390625 32.421875 48.390625 \nQ 24.90625 48.390625 20.390625 44.140625 \nQ 15.875 39.890625 15.1875 32.171875 \nz\n\" id=\"DejaVuSans-101\"/>\n      <path d=\"M 34.28125 27.484375 \nQ 23.390625 27.484375 19.1875 25 \nQ 14.984375 22.515625 14.984375 16.5 \nQ 14.984375 11.71875 18.140625 8.90625 \nQ 21.296875 6.109375 26.703125 6.109375 \nQ 34.1875 6.109375 38.703125 11.40625 \nQ 43.21875 16.703125 43.21875 25.484375 \nL 43.21875 27.484375 \nz\nM 52.203125 31.203125 \nL 52.203125 0 \nL 43.21875 0 \nL 43.21875 8.296875 \nQ 40.140625 3.328125 35.546875 0.953125 \nQ 30.953125 -1.421875 24.3125 -1.421875 \nQ 15.921875 -1.421875 10.953125 3.296875 \nQ 6 8.015625 6 15.921875 \nQ 6 25.140625 12.171875 29.828125 \nQ 18.359375 34.515625 30.609375 34.515625 \nL 43.21875 34.515625 \nL 43.21875 35.40625 \nQ 43.21875 41.609375 39.140625 45 \nQ 35.0625 48.390625 27.6875 48.390625 \nQ 23 48.390625 18.546875 47.265625 \nQ 14.109375 46.140625 10.015625 43.890625 \nL 10.015625 52.203125 \nQ 14.9375 54.109375 19.578125 55.046875 \nQ 24.21875 56 28.609375 56 \nQ 40.484375 56 46.34375 49.84375 \nQ 52.203125 43.703125 52.203125 31.203125 \nz\n\" id=\"DejaVuSans-97\"/>\n      <path d=\"M 18.3125 70.21875 \nL 18.3125 54.6875 \nL 36.8125 54.6875 \nL 36.8125 47.703125 \nL 18.3125 47.703125 \nL 18.3125 18.015625 \nQ 18.3125 11.328125 20.140625 9.421875 \nQ 21.96875 7.515625 27.59375 7.515625 \nL 36.8125 7.515625 \nL 36.8125 0 \nL 27.59375 0 \nQ 17.1875 0 13.234375 3.875 \nQ 9.28125 7.765625 9.28125 18.015625 \nL 9.28125 47.703125 \nL 2.6875 47.703125 \nL 2.6875 54.6875 \nL 9.28125 54.6875 \nL 9.28125 70.21875 \nz\n\" id=\"DejaVuSans-116\"/>\n      <path d=\"M 9.421875 54.6875 \nL 18.40625 54.6875 \nL 18.40625 0 \nL 9.421875 0 \nz\nM 9.421875 75.984375 \nL 18.40625 75.984375 \nL 18.40625 64.59375 \nL 9.421875 64.59375 \nz\n\" id=\"DejaVuSans-105\"/>\n      <path d=\"M 54.890625 33.015625 \nL 54.890625 0 \nL 45.90625 0 \nL 45.90625 32.71875 \nQ 45.90625 40.484375 42.875 44.328125 \nQ 39.84375 48.1875 33.796875 48.1875 \nQ 26.515625 48.1875 22.3125 43.546875 \nQ 18.109375 38.921875 18.109375 30.90625 \nL 18.109375 0 \nL 9.078125 0 \nL 9.078125 54.6875 \nL 18.109375 54.6875 \nL 18.109375 46.1875 \nQ 21.34375 51.125 25.703125 53.5625 \nQ 30.078125 56 35.796875 56 \nQ 45.21875 56 50.046875 50.171875 \nQ 54.890625 44.34375 54.890625 33.015625 \nz\n\" id=\"DejaVuSans-110\"/>\n     </defs>\n     <use xlink:href=\"#DejaVuSans-102\"/>\n     <use x=\"35.205078\" xlink:href=\"#DejaVuSans-117\"/>\n     <use x=\"98.583984\" xlink:href=\"#DejaVuSans-108\"/>\n     <use x=\"126.367188\" xlink:href=\"#DejaVuSans-108\"/>\n     <use x=\"154.150391\" xlink:href=\"#DejaVuSans-32\"/>\n     <use x=\"185.9375\" xlink:href=\"#DejaVuSans-99\"/>\n     <use x=\"240.917969\" xlink:href=\"#DejaVuSans-111\"/>\n     <use x=\"302.099609\" xlink:href=\"#DejaVuSans-114\"/>\n     <use x=\"341.462891\" xlink:href=\"#DejaVuSans-114\"/>\n     <use x=\"380.326172\" xlink:href=\"#DejaVuSans-101\"/>\n     <use x=\"441.849609\" xlink:href=\"#DejaVuSans-108\"/>\n     <use x=\"469.632812\" xlink:href=\"#DejaVuSans-97\"/>\n     <use x=\"530.912109\" xlink:href=\"#DejaVuSans-116\"/>\n     <use x=\"570.121094\" xlink:href=\"#DejaVuSans-105\"/>\n     <use x=\"597.904297\" xlink:href=\"#DejaVuSans-111\"/>\n     <use x=\"659.085938\" xlink:href=\"#DejaVuSans-110\"/>\n    </g>\n   </g>\n  </g>\n  <g id=\"axes_2\">\n   <g id=\"patch_7\">\n    <path d=\"M 392.161364 337.581818 \nL 696.525 337.581818 \nL 696.525 33.218182 \nL 392.161364 33.218182 \nz\n\" style=\"fill:#ffffff;\"/>\n   </g>\n   <g clip-path=\"url(#p12ce12b43f)\">\n    <image height=\"305\" id=\"image1107077ff2\" transform=\"scale(1 -1)translate(0 -305)\" width=\"305\" x=\"392.161364\" xlink:href=\"data:image/png;base64,\niVBORw0KGgoAAAANSUhEUgAAATEAAAExCAYAAAAUZZVoAAAJqElEQVR4nO3d368fdl3H8ddp69qd9qzn9Me6ltKOUstcGZtkKNaocfFGw8YwXmgM0cQlhgtNJFwYiSFoolx5gd4YNQRjvNSZERRkBCV0CF0GZeqYmxlbabe2tKe/d7r+8MJ/4R2SV/J4/AGvnG/O+T7P5+rzWXjfP//+7Qw6c25pci5J8uC+E6N733runaN7d6yuG91Lkrf99OxnPrx8anTv8y8eHt1Lkt976OnRvU//4wdG966v3BzdS5JPPPLk6N4njz42uvcXP/t3o3tJ8of/9cHRvflvH8APkYgB1UQMqCZiQDURA6qJGFBNxIBqIgZUEzGgmogB1UQMqCZiQDURA6qJGFBNxIBqIgZUEzGgmogB1UQMqLaw7zOfGr1jP28tjM4lyR3La6N71y9sHN179L3fGt1LktffvGt07wM7vj269+TpHx/dS5LnXt43uvfoA8dH97786qHRvSTZu7w6uvfia7tG95ZXrozuJckf3/9Po3tOYkA1EQOqiRhQTcSAaiIGVBMxoJqIAdVEDKgmYkA1EQOqiRhQTcSAaiIGVBMxoJqIAdVEDKgmYkA1EQOqiRhQTcSAagtPfPPDow+FfPHZBybnkiQ73r46unflmR2je9fefmN0L0nufecbo3uvfmf36N7iyfn/f9eXZ9+suXXg2ujeR97z76N7SfK/13aO7h09de/o3ur5zaN7SXL75uzfjpMYUE3EgGoiBlQTMaCaiAHVRAyoJmJANREDqokYUE3EgGoiBlQTMaCaiAHVRAyoJmJANREDqokYUE3EgGoiBlRbeOPE7tGLzR959onJuSTJ9s1XR/d+e9/sXel/9drPjO4lyfZNV0b3jj13cHRv895Lo3vJ/O/5xNnl0b2VL905upckNx8/N7p3ZPcro3svXZp9jyJJfnXPN0f3nMSAaiIGVBMxoJqIAdVEDKgmYkA1EQOqiRhQTcSAaiIGVBMxoJqIAdVEDKgmYkA1EQOqiRhQTcSAaiIGVBMxoNqGPz/3E6ODV69uHN1LkkvnF0f3jq7M3jd/aW3+M79r6+nZwYXZuXULo08zJEnevLFhdO/mxTtm94bvw0+S9U9uG9078NHZ++u/8trsdyVJPvnC46N7TmJANREDqokYUE3EgGoiBlQTMaCaiAHVRAyoJmJANREDqokYUE3EgGoiBlQTMaCaiAHVRAyoJmJANREDqokYUE3EgGoLH/zqR0ZffPiHg/86OZckOfzMr4/u7d92fnTvxWP7R/eS5OEj3x3de+Pq0ujea2dWRveS5EdemH0Q5s6HfzC6d/7k1tG9JFl/1/XRveH3YPKLh/5zeDH5whceHt1zEgOqiRhQTcSAaiIGVBMxoJqIAdVEDKgmYkA1EQOqiRhQTcSAaiIGVBMxoJqIAdVEDKgmYkA1EQOqiRhQTcSAahueP7l7dPAPlt4zupckV89sHt1bt/3c6N5973tldC9J/uO/D4zuLe24Mro3fR9+Mn8n/rVj20f3dr3/9OhekmzacGN079Q3Zr/PT63Nf58/9qHPje45iQHVRAyoJmJANREDqokYUE3EgGoiBlQTMaCaiAHVRAyoJmJANREDqokYUE3EgGoiBlQTMaCaiAHVRAyoJmJAtYVDn/iz25OD6x+6MDmXJHnonu+P7r20umN0b/XynaN7SbK85drs3qbZvdOXt4zuJfN34r9139XRvc2La6N7SXLr9sLs4NeWR+d+9LH/Gd1LkuMn3ja65yQGVBMxoJqIAdVEDKgmYkA1EQOqiRhQTcSAaiIGVBMxoJqIAdVEDKgmYkA1EQOqiRhQTcSAaiIGVBMxoJqIAdVEDKi2Yev7T88Orrs1upckr15aGd07e35pdO+zP/U3o3tJ8uGvPjG6d31l/eje3Vsuj+4lycn3zv5PvWfz7EMh3/vuPaN7SZLRZ3qShT2z37/H735udC9J9i6uju45iQHVRAyoJmJANREDqokYUE3EgGoiBlQTMaCaiAHVRAyoJmJANREDqokYUE3EgGoiBlQTMaCaiAHVRAyoJmJAtQ1nXtgxOnjwo18f3UuSl//+odG9vTvPj+799emfG91LkuWVK6N7q+c3j+7dseHm6F6SXDo7+zPev/ON0b0f+8nZvSQ5uzb7mc9c2zK697mzD47uJckP3pz9zE5iQDURA6qJGFBNxIBqIgZUEzGgmogB1UQMqCZiQDURA6qJGFBNxIBqIgZUEzGgmogB1UQMqCZiQDURA6qJGFBtw627bowOnn3q0OhekmzN1dG9uza+Obr37dN7RveS5MG7T47uPfHufxvd+61jvzG6lySHD35/dO/Y0XeN7m27/+zoXpIsbVwb3Xvl5V2jew88PPt3mCTHn579vTiJAdVEDKgmYkA1EQOqiRhQTcSAaiIGVBMxoJqIAdVEDKgmYkA1EQOqiRhQTcSAaiIGVBMxoJqIAdVEDKgmYkA1EQOqLTz/vT23Jwd/5S8/NjmXJPn5X352dO/oqXtH9/ZuvTC6lyQX1zaN7p04szK6t2Pl0uhekuxYvDK6d+v2wujewaUzo3tJcmTppdG9P/rbXxvdu7b/rdG9JFm4tn50z0kMqCZiQDURA6qJGFBNxIBqIgZUEzGgmogB1UQMqCZiQDURA6qJGFBNxIBqIgZUEzGgmogB1UQMqCZiQDURA6ot7PvMp0bv2D+w7/TkXJLk/NU7R/eO7H5ldO+Z1/eP7iXJhUuLo3t7ts++A7Bv6fzoXpJ87fih0b3FnbN39l+9OPvuQZLcu/fs6N7ltY2jexevzH/mw7tPje45iQHVRAyoJmJANREDqokYUE3EgGoiBlQTMaCaiAHVRAyoJmJANREDqokYUE3EgGoiBlQTMaCaiAHVRAyoJmJAtYX9n/3T0Tv2l7ddnpxLkqwsXhvde/3pvaN7m47M3pOeJDsefXF078q/HBjdWx1+9yBJHnvHd0b3/mTX8dG9g1/5zdG9JFlcXBvdu3RqaXQv60bz8P+Tm2/M7o2uAfyQiRhQTcSAaiIGVBMxoJqIAdVEDKgmYkA1EQOqiRhQTcSAaiIGVBMxoJqIAdVEDKgmYkA1EQOqiRhQTcSAaiIGVFt48KmPj74EsHpuy+RckuT2rYXRvc8/8unRvV/60u+O7iXJuosbRvd23jf7mMmFr989upckN++ffWTm3XtOje49sPXk6F6S/M62b4zuffzUL4zuffH5w6N7SbLrntXRPScxoJqIAdVEDKgmYkA1EQOqiRhQTcSAaiIGVBMxoJqIAdVEDKgmYkA1EQOqiRhQTcSAaiIGVBMxoJqIAdVEDKj2f/5VVZnKSeHVAAAAAElFTkSuQmCC\" y=\"-32.581818\"/>\n   </g>\n   <g id=\"matplotlib.axis_3\">\n    <g id=\"xtick_9\">\n     <g id=\"line2d_17\">\n      <g>\n       <use style=\"stroke:#000000;stroke-width:0.8;\" x=\"402.306818\" xlink:href=\"#mb37d258ff5\" y=\"337.581818\"/>\n      </g>\n     </g>\n     <g id=\"text_18\">\n      <!-- 0 -->\n      <g transform=\"translate(399.125568 352.180256)scale(0.1 -0.1)\">\n       <use xlink:href=\"#DejaVuSans-48\"/>\n      </g>\n     </g>\n    </g>\n    <g id=\"xtick_10\">\n     <g id=\"line2d_18\">\n      <g>\n       <use style=\"stroke:#000000;stroke-width:0.8;\" x=\"442.888636\" xlink:href=\"#mb37d258ff5\" y=\"337.581818\"/>\n      </g>\n     </g>\n     <g id=\"text_19\">\n      <!-- 2 -->\n      <g transform=\"translate(439.707386 352.180256)scale(0.1 -0.1)\">\n       <use xlink:href=\"#DejaVuSans-50\"/>\n      </g>\n     </g>\n    </g>\n    <g id=\"xtick_11\">\n     <g id=\"line2d_19\">\n      <g>\n       <use style=\"stroke:#000000;stroke-width:0.8;\" x=\"483.470455\" xlink:href=\"#mb37d258ff5\" y=\"337.581818\"/>\n      </g>\n     </g>\n     <g id=\"text_20\">\n      <!-- 4 -->\n      <g transform=\"translate(480.289205 352.180256)scale(0.1 -0.1)\">\n       <use xlink:href=\"#DejaVuSans-52\"/>\n      </g>\n     </g>\n    </g>\n    <g id=\"xtick_12\">\n     <g id=\"line2d_20\">\n      <g>\n       <use style=\"stroke:#000000;stroke-width:0.8;\" x=\"524.052273\" xlink:href=\"#mb37d258ff5\" y=\"337.581818\"/>\n      </g>\n     </g>\n     <g id=\"text_21\">\n      <!-- 6 -->\n      <g transform=\"translate(520.871023 352.180256)scale(0.1 -0.1)\">\n       <use xlink:href=\"#DejaVuSans-54\"/>\n      </g>\n     </g>\n    </g>\n    <g id=\"xtick_13\">\n     <g id=\"line2d_21\">\n      <g>\n       <use style=\"stroke:#000000;stroke-width:0.8;\" x=\"564.634091\" xlink:href=\"#mb37d258ff5\" y=\"337.581818\"/>\n      </g>\n     </g>\n     <g id=\"text_22\">\n      <!-- 8 -->\n      <g transform=\"translate(561.452841 352.180256)scale(0.1 -0.1)\">\n       <use xlink:href=\"#DejaVuSans-56\"/>\n      </g>\n     </g>\n    </g>\n    <g id=\"xtick_14\">\n     <g id=\"line2d_22\">\n      <g>\n       <use style=\"stroke:#000000;stroke-width:0.8;\" x=\"605.215909\" xlink:href=\"#mb37d258ff5\" y=\"337.581818\"/>\n      </g>\n     </g>\n     <g id=\"text_23\">\n      <!-- 10 -->\n      <g transform=\"translate(598.853409 352.180256)scale(0.1 -0.1)\">\n       <use xlink:href=\"#DejaVuSans-49\"/>\n       <use x=\"63.623047\" xlink:href=\"#DejaVuSans-48\"/>\n      </g>\n     </g>\n    </g>\n    <g id=\"xtick_15\">\n     <g id=\"line2d_23\">\n      <g>\n       <use style=\"stroke:#000000;stroke-width:0.8;\" x=\"645.797727\" xlink:href=\"#mb37d258ff5\" y=\"337.581818\"/>\n      </g>\n     </g>\n     <g id=\"text_24\">\n      <!-- 12 -->\n      <g transform=\"translate(639.435227 352.180256)scale(0.1 -0.1)\">\n       <use xlink:href=\"#DejaVuSans-49\"/>\n       <use x=\"63.623047\" xlink:href=\"#DejaVuSans-50\"/>\n      </g>\n     </g>\n    </g>\n    <g id=\"xtick_16\">\n     <g id=\"line2d_24\">\n      <g>\n       <use style=\"stroke:#000000;stroke-width:0.8;\" x=\"686.379545\" xlink:href=\"#mb37d258ff5\" y=\"337.581818\"/>\n      </g>\n     </g>\n     <g id=\"text_25\">\n      <!-- 14 -->\n      <g transform=\"translate(680.017045 352.180256)scale(0.1 -0.1)\">\n       <use xlink:href=\"#DejaVuSans-49\"/>\n       <use x=\"63.623047\" xlink:href=\"#DejaVuSans-52\"/>\n      </g>\n     </g>\n    </g>\n   </g>\n   <g id=\"matplotlib.axis_4\">\n    <g id=\"ytick_9\">\n     <g id=\"line2d_25\">\n      <g>\n       <use style=\"stroke:#000000;stroke-width:0.8;\" x=\"392.161364\" xlink:href=\"#mae9065ab8e\" y=\"43.363636\"/>\n      </g>\n     </g>\n     <g id=\"text_26\">\n      <!-- 0 -->\n      <g transform=\"translate(378.798864 47.162855)scale(0.1 -0.1)\">\n       <use xlink:href=\"#DejaVuSans-48\"/>\n      </g>\n     </g>\n    </g>\n    <g id=\"ytick_10\">\n     <g id=\"line2d_26\">\n      <g>\n       <use style=\"stroke:#000000;stroke-width:0.8;\" x=\"392.161364\" xlink:href=\"#mae9065ab8e\" y=\"83.945455\"/>\n      </g>\n     </g>\n     <g id=\"text_27\">\n      <!-- 2 -->\n      <g transform=\"translate(378.798864 87.744673)scale(0.1 -0.1)\">\n       <use xlink:href=\"#DejaVuSans-50\"/>\n      </g>\n     </g>\n    </g>\n    <g id=\"ytick_11\">\n     <g id=\"line2d_27\">\n      <g>\n       <use style=\"stroke:#000000;stroke-width:0.8;\" x=\"392.161364\" xlink:href=\"#mae9065ab8e\" y=\"124.527273\"/>\n      </g>\n     </g>\n     <g id=\"text_28\">\n      <!-- 4 -->\n      <g transform=\"translate(378.798864 128.326491)scale(0.1 -0.1)\">\n       <use xlink:href=\"#DejaVuSans-52\"/>\n      </g>\n     </g>\n    </g>\n    <g id=\"ytick_12\">\n     <g id=\"line2d_28\">\n      <g>\n       <use style=\"stroke:#000000;stroke-width:0.8;\" x=\"392.161364\" xlink:href=\"#mae9065ab8e\" y=\"165.109091\"/>\n      </g>\n     </g>\n     <g id=\"text_29\">\n      <!-- 6 -->\n      <g transform=\"translate(378.798864 168.90831)scale(0.1 -0.1)\">\n       <use xlink:href=\"#DejaVuSans-54\"/>\n      </g>\n     </g>\n    </g>\n    <g id=\"ytick_13\">\n     <g id=\"line2d_29\">\n      <g>\n       <use style=\"stroke:#000000;stroke-width:0.8;\" x=\"392.161364\" xlink:href=\"#mae9065ab8e\" y=\"205.690909\"/>\n      </g>\n     </g>\n     <g id=\"text_30\">\n      <!-- 8 -->\n      <g transform=\"translate(378.798864 209.490128)scale(0.1 -0.1)\">\n       <use xlink:href=\"#DejaVuSans-56\"/>\n      </g>\n     </g>\n    </g>\n    <g id=\"ytick_14\">\n     <g id=\"line2d_30\">\n      <g>\n       <use style=\"stroke:#000000;stroke-width:0.8;\" x=\"392.161364\" xlink:href=\"#mae9065ab8e\" y=\"246.272727\"/>\n      </g>\n     </g>\n     <g id=\"text_31\">\n      <!-- 10 -->\n      <g transform=\"translate(372.436364 250.071946)scale(0.1 -0.1)\">\n       <use xlink:href=\"#DejaVuSans-49\"/>\n       <use x=\"63.623047\" xlink:href=\"#DejaVuSans-48\"/>\n      </g>\n     </g>\n    </g>\n    <g id=\"ytick_15\">\n     <g id=\"line2d_31\">\n      <g>\n       <use style=\"stroke:#000000;stroke-width:0.8;\" x=\"392.161364\" xlink:href=\"#mae9065ab8e\" y=\"286.854545\"/>\n      </g>\n     </g>\n     <g id=\"text_32\">\n      <!-- 12 -->\n      <g transform=\"translate(372.436364 290.653764)scale(0.1 -0.1)\">\n       <use xlink:href=\"#DejaVuSans-49\"/>\n       <use x=\"63.623047\" xlink:href=\"#DejaVuSans-50\"/>\n      </g>\n     </g>\n    </g>\n    <g id=\"ytick_16\">\n     <g id=\"line2d_32\">\n      <g>\n       <use style=\"stroke:#000000;stroke-width:0.8;\" x=\"392.161364\" xlink:href=\"#mae9065ab8e\" y=\"327.436364\"/>\n      </g>\n     </g>\n     <g id=\"text_33\">\n      <!-- 14 -->\n      <g transform=\"translate(372.436364 331.235582)scale(0.1 -0.1)\">\n       <use xlink:href=\"#DejaVuSans-49\"/>\n       <use x=\"63.623047\" xlink:href=\"#DejaVuSans-52\"/>\n      </g>\n     </g>\n    </g>\n   </g>\n   <g id=\"patch_8\">\n    <path d=\"M 392.161364 337.581818 \nL 392.161364 33.218182 \n\" style=\"fill:none;stroke:#000000;stroke-linecap:square;stroke-linejoin:miter;stroke-width:0.8;\"/>\n   </g>\n   <g id=\"patch_9\">\n    <path d=\"M 696.525 337.581818 \nL 696.525 33.218182 \n\" style=\"fill:none;stroke:#000000;stroke-linecap:square;stroke-linejoin:miter;stroke-width:0.8;\"/>\n   </g>\n   <g id=\"patch_10\">\n    <path d=\"M 392.161364 337.581818 \nL 696.525 337.581818 \n\" style=\"fill:none;stroke:#000000;stroke-linecap:square;stroke-linejoin:miter;stroke-width:0.8;\"/>\n   </g>\n   <g id=\"patch_11\">\n    <path d=\"M 392.161364 33.218182 \nL 696.525 33.218182 \n\" style=\"fill:none;stroke:#000000;stroke-linecap:square;stroke-linejoin:miter;stroke-width:0.8;\"/>\n   </g>\n   <g id=\"text_34\">\n    <!-- partial correlation -->\n    <g transform=\"translate(490.929119 27.218182)scale(0.12 -0.12)\">\n     <defs>\n      <path d=\"M 18.109375 8.203125 \nL 18.109375 -20.796875 \nL 9.078125 -20.796875 \nL 9.078125 54.6875 \nL 18.109375 54.6875 \nL 18.109375 46.390625 \nQ 20.953125 51.265625 25.265625 53.625 \nQ 29.59375 56 35.59375 56 \nQ 45.5625 56 51.78125 48.09375 \nQ 58.015625 40.1875 58.015625 27.296875 \nQ 58.015625 14.40625 51.78125 6.484375 \nQ 45.5625 -1.421875 35.59375 -1.421875 \nQ 29.59375 -1.421875 25.265625 0.953125 \nQ 20.953125 3.328125 18.109375 8.203125 \nz\nM 48.6875 27.296875 \nQ 48.6875 37.203125 44.609375 42.84375 \nQ 40.53125 48.484375 33.40625 48.484375 \nQ 26.265625 48.484375 22.1875 42.84375 \nQ 18.109375 37.203125 18.109375 27.296875 \nQ 18.109375 17.390625 22.1875 11.75 \nQ 26.265625 6.109375 33.40625 6.109375 \nQ 40.53125 6.109375 44.609375 11.75 \nQ 48.6875 17.390625 48.6875 27.296875 \nz\n\" id=\"DejaVuSans-112\"/>\n     </defs>\n     <use xlink:href=\"#DejaVuSans-112\"/>\n     <use x=\"63.476562\" xlink:href=\"#DejaVuSans-97\"/>\n     <use x=\"124.755859\" xlink:href=\"#DejaVuSans-114\"/>\n     <use x=\"165.869141\" xlink:href=\"#DejaVuSans-116\"/>\n     <use x=\"205.078125\" xlink:href=\"#DejaVuSans-105\"/>\n     <use x=\"232.861328\" xlink:href=\"#DejaVuSans-97\"/>\n     <use x=\"294.140625\" xlink:href=\"#DejaVuSans-108\"/>\n     <use x=\"321.923828\" xlink:href=\"#DejaVuSans-32\"/>\n     <use x=\"353.710938\" xlink:href=\"#DejaVuSans-99\"/>\n     <use x=\"408.691406\" xlink:href=\"#DejaVuSans-111\"/>\n     <use x=\"469.873047\" xlink:href=\"#DejaVuSans-114\"/>\n     <use x=\"509.236328\" xlink:href=\"#DejaVuSans-114\"/>\n     <use x=\"548.099609\" xlink:href=\"#DejaVuSans-101\"/>\n     <use x=\"609.623047\" xlink:href=\"#DejaVuSans-108\"/>\n     <use x=\"637.40625\" xlink:href=\"#DejaVuSans-97\"/>\n     <use x=\"698.685547\" xlink:href=\"#DejaVuSans-116\"/>\n     <use x=\"737.894531\" xlink:href=\"#DejaVuSans-105\"/>\n     <use x=\"765.677734\" xlink:href=\"#DejaVuSans-111\"/>\n     <use x=\"826.859375\" xlink:href=\"#DejaVuSans-110\"/>\n    </g>\n   </g>\n  </g>\n  <g id=\"axes_3\">\n   <g id=\"patch_12\">\n    <path clip-path=\"url(#pfe136d3e49)\" d=\"M 791.565 367.2 \nL 791.565 365.79375 \nL 791.565 8.60625 \nL 791.565 7.2 \nL 808.845 7.2 \nL 808.845 8.60625 \nL 808.845 365.79375 \nL 808.845 367.2 \nz\n\" style=\"fill:#ffffff;stroke:#ffffff;stroke-linejoin:miter;stroke-width:0.01;\"/>\n   </g>\n   <image height=\"360\" id=\"image1bfc793728\" transform=\"scale(1 -1)translate(0 -360)\" width=\"17\" x=\"792\" xlink:href=\"data:image/png;base64,\niVBORw0KGgoAAAANSUhEUgAAABEAAAFoCAYAAACxNxBHAAAB6klEQVR4nO2d243DMAwEKdmlXQnXfylxClD+OAYGC7KAhfZBig6cZP2t/6eaddfaXYzqI1TVvfbqgxB0kJMwmiB0SkQHsHhtQhPgJJAmaXQIiyf2r4CEJdakCUInLbHTxW+AmOgwO5tFk4fRpH8Sk8UadxA6Y/E7IGENGKdJH8OU2CfNYgDEQ4cIm2cUTBef5UkschJR7D3PO5DFkpOYLi8RHQDEREfijmlQM5tSH0Q1lCQ5mS4+y0MnL/Z9kLBlOC32JosBkLH4BAmjM5qcIO23ekpFZ4bSOycZi88SWTyaHBVGZzQ5C6Ezmpw1984PkDiL+6tfmsWanIRpMol9CSQvsYDFpsR6QPrCijSZxJ4gwOfcaZqIElsVpcnKslhDJ62LCWEpixEQSU5EsQfYqOhkJXanaYLQ6Z+EoaNx597AfhIWe1FiNTkRxd6UWIvFntin0SEe39I0CaMjsvjTBjFZrBnUYe5cFndEmiAWX6LE9oWFNBENaokmUBdb6NyXp4uJoSSiQ3QxMZREgzqOjqaLgZNQ+wmhieYuhugQoyDt8tIkNssdKGzI5WWxOGy1YK5RS05Mmmi6mBlKaZqEPeYDINAo6Be1bhEgwMsW1L0DgFzEl9m3RhPCHRMdxh3gl2xNmiB0JH8c8AWczo3SLurawAAAAABJRU5ErkJggg==\" y=\"-7\"/>\n   <g id=\"matplotlib.axis_5\"/>\n   <g id=\"matplotlib.axis_6\">\n    <g id=\"ytick_17\">\n     <g id=\"line2d_33\">\n      <defs>\n       <path d=\"M 0 0 \nL 3.5 0 \n\" id=\"m42ce361ab8\" style=\"stroke:#000000;stroke-width:0.8;\"/>\n      </defs>\n      <g>\n       <use style=\"stroke:#000000;stroke-width:0.8;\" x=\"808.845\" xlink:href=\"#m42ce361ab8\" y=\"351.333835\"/>\n      </g>\n     </g>\n     <g id=\"text_35\">\n      <!-- −15 -->\n      <g transform=\"translate(815.845 355.133054)scale(0.1 -0.1)\">\n       <defs>\n        <path d=\"M 10.59375 35.5 \nL 73.1875 35.5 \nL 73.1875 27.203125 \nL 10.59375 27.203125 \nz\n\" id=\"DejaVuSans-8722\"/>\n        <path d=\"M 10.796875 72.90625 \nL 49.515625 72.90625 \nL 49.515625 64.59375 \nL 19.828125 64.59375 \nL 19.828125 46.734375 \nQ 21.96875 47.46875 24.109375 47.828125 \nQ 26.265625 48.1875 28.421875 48.1875 \nQ 40.625 48.1875 47.75 41.5 \nQ 54.890625 34.8125 54.890625 23.390625 \nQ 54.890625 11.625 47.5625 5.09375 \nQ 40.234375 -1.421875 26.90625 -1.421875 \nQ 22.3125 -1.421875 17.546875 -0.640625 \nQ 12.796875 0.140625 7.71875 1.703125 \nL 7.71875 11.625 \nQ 12.109375 9.234375 16.796875 8.0625 \nQ 21.484375 6.890625 26.703125 6.890625 \nQ 35.15625 6.890625 40.078125 11.328125 \nQ 45.015625 15.765625 45.015625 23.390625 \nQ 45.015625 31 40.078125 35.4375 \nQ 35.15625 39.890625 26.703125 39.890625 \nQ 22.75 39.890625 18.8125 39.015625 \nQ 14.890625 38.140625 10.796875 36.28125 \nz\n\" id=\"DejaVuSans-53\"/>\n       </defs>\n       <use xlink:href=\"#DejaVuSans-8722\"/>\n       <use x=\"83.789062\" xlink:href=\"#DejaVuSans-49\"/>\n       <use x=\"147.412109\" xlink:href=\"#DejaVuSans-53\"/>\n      </g>\n     </g>\n    </g>\n    <g id=\"ytick_18\">\n     <g id=\"line2d_34\">\n      <g>\n       <use style=\"stroke:#000000;stroke-width:0.8;\" x=\"808.845\" xlink:href=\"#m42ce361ab8\" y=\"278.429016\"/>\n      </g>\n     </g>\n     <g id=\"text_36\">\n      <!-- −10 -->\n      <g transform=\"translate(815.845 282.228235)scale(0.1 -0.1)\">\n       <use xlink:href=\"#DejaVuSans-8722\"/>\n       <use x=\"83.789062\" xlink:href=\"#DejaVuSans-49\"/>\n       <use x=\"147.412109\" xlink:href=\"#DejaVuSans-48\"/>\n      </g>\n     </g>\n    </g>\n    <g id=\"ytick_19\">\n     <g id=\"line2d_35\">\n      <g>\n       <use style=\"stroke:#000000;stroke-width:0.8;\" x=\"808.845\" xlink:href=\"#m42ce361ab8\" y=\"205.524197\"/>\n      </g>\n     </g>\n     <g id=\"text_37\">\n      <!-- −5 -->\n      <g transform=\"translate(815.845 209.323416)scale(0.1 -0.1)\">\n       <use xlink:href=\"#DejaVuSans-8722\"/>\n       <use x=\"83.789062\" xlink:href=\"#DejaVuSans-53\"/>\n      </g>\n     </g>\n    </g>\n    <g id=\"ytick_20\">\n     <g id=\"line2d_36\">\n      <g>\n       <use style=\"stroke:#000000;stroke-width:0.8;\" x=\"808.845\" xlink:href=\"#m42ce361ab8\" y=\"132.619378\"/>\n      </g>\n     </g>\n     <g id=\"text_38\">\n      <!-- 0 -->\n      <g transform=\"translate(815.845 136.418596)scale(0.1 -0.1)\">\n       <use xlink:href=\"#DejaVuSans-48\"/>\n      </g>\n     </g>\n    </g>\n    <g id=\"ytick_21\">\n     <g id=\"line2d_37\">\n      <g>\n       <use style=\"stroke:#000000;stroke-width:0.8;\" x=\"808.845\" xlink:href=\"#m42ce361ab8\" y=\"59.714558\"/>\n      </g>\n     </g>\n     <g id=\"text_39\">\n      <!-- 5 -->\n      <g transform=\"translate(815.845 63.513777)scale(0.1 -0.1)\">\n       <use xlink:href=\"#DejaVuSans-53\"/>\n      </g>\n     </g>\n    </g>\n   </g>\n   <g id=\"patch_13\">\n    <path d=\"M 791.565 367.2 \nL 791.565 365.79375 \nL 791.565 8.60625 \nL 791.565 7.2 \nL 808.845 7.2 \nL 808.845 8.60625 \nL 808.845 365.79375 \nL 808.845 367.2 \nz\n\" style=\"fill:none;stroke:#000000;stroke-linejoin:miter;stroke-width:0.8;\"/>\n   </g>\n  </g>\n </g>\n <defs>\n  <clipPath id=\"p1cc7715bb6\">\n   <rect height=\"304.363636\" width=\"304.363636\" x=\"26.925\" y=\"33.218182\"/>\n  </clipPath>\n  <clipPath id=\"p12ce12b43f\">\n   <rect height=\"304.363636\" width=\"304.363636\" x=\"392.161364\" y=\"33.218182\"/>\n  </clipPath>\n  <clipPath id=\"pfe136d3e49\">\n   <rect height=\"360\" width=\"17.28\" x=\"791.565\" y=\"7.2\"/>\n  </clipPath>\n </defs>\n</svg>\n",
      "image/png": "[encoded data removed]"
     },
     "metadata": {
      "needs_background": "light"
     }
    }
   ],
   "source": [
    "fig, ax = plt.subplots(1,2,figsize=(12,10))\n",
    "ax[0].imshow(netmat_15_full)\n",
    "ax[0].title.set_text(\"full correlation\")\n",
    "im = ax[1].imshow(netmat_15_partial)\n",
    "ax[1].title.set_text(\"partial correlation\")\n",
    "\n",
    "cbaxes = fig.add_axes([1.01, 0.25, 0.02, 0.5]) \n",
    "\n",
    "fig.colorbar(im,cax = cbaxes)\n",
    "\n"
   ]
  },
  {
   "cell_type": "code",
   "execution_count": 72,
   "metadata": {},
   "outputs": [],
   "source": [
    "data_path = '/home/sd20/workspace/data/HCP/'\n",
    "\n",
    "filename_full = 'netmats_ICA25/Mnet1.pconn.nii'\n",
    "file_path_full = os.path.join(data_path, filename_full)\n",
    "\n",
    "filename_partial = 'netmats_ICA25/Mnet2.pconn.nii'\n",
    "file_path_partial = os.path.join(data_path, filename_partial)\n",
    "\n",
    "data_full = nib.load(file_path_full)\n",
    "data_partial = nib.load(file_path_partial)\n",
    "\n",
    "netmat_15_full = data_full.get_fdata()\n",
    "netmat_15_partial = data_partial.get_fdata()"
   ]
  },
  {
   "cell_type": "code",
   "execution_count": 78,
   "metadata": {},
   "outputs": [
    {
     "output_type": "execute_result",
     "data": {
      "text/plain": [
       "<matplotlib.colorbar.Colorbar at 0x7fa1e8a8f610>"
      ]
     },
     "metadata": {},
     "execution_count": 78
    },
    {
     "output_type": "display_data",
     "data": {
      "text/plain": "<Figure size 864x720 with 3 Axes>",
      "image/svg+xml": "<?xml version=\"1.0\" encoding=\"utf-8\" standalone=\"no\"?>\n<!DOCTYPE svg PUBLIC \"-//W3C//DTD SVG 1.1//EN\"\n  \"http://www.w3.org/Graphics/SVG/1.1/DTD/svg11.dtd\">\n<!-- Created with matplotlib (https://matplotlib.org/) -->\n<svg height=\"374.4pt\" version=\"1.1\" viewBox=\"0 0 844.149687 374.4\" width=\"844.149687pt\" xmlns=\"http://www.w3.org/2000/svg\" xmlns:xlink=\"http://www.w3.org/1999/xlink\">\n <metadata>\n  <rdf:RDF xmlns:cc=\"http://creativecommons.org/ns#\" xmlns:dc=\"http://purl.org/dc/elements/1.1/\" xmlns:rdf=\"http://www.w3.org/1999/02/22-rdf-syntax-ns#\">\n   <cc:Work>\n    <dc:type rdf:resource=\"http://purl.org/dc/dcmitype/StillImage\"/>\n    <dc:date>2021-05-10T10:24:07.032298</dc:date>\n    <dc:format>image/svg+xml</dc:format>\n    <dc:creator>\n     <cc:Agent>\n      <dc:title>Matplotlib v3.3.4, https://matplotlib.org/</dc:title>\n     </cc:Agent>\n    </dc:creator>\n   </cc:Work>\n  </rdf:RDF>\n </metadata>\n <defs>\n  <style type=\"text/css\">*{stroke-linecap:butt;stroke-linejoin:round;}</style>\n </defs>\n <g id=\"figure_1\">\n  <g id=\"patch_1\">\n   <path d=\"M 0 374.4 \nL 844.149687 374.4 \nL 844.149687 -0 \nL 0 -0 \nz\n\" style=\"fill:none;\"/>\n  </g>\n  <g id=\"axes_1\">\n   <g id=\"patch_2\">\n    <path d=\"M 26.925 337.581818 \nL 331.288636 337.581818 \nL 331.288636 33.218182 \nL 26.925 33.218182 \nz\n\" style=\"fill:#ffffff;\"/>\n   </g>\n   <g clip-path=\"url(#pcd588ef303)\">\n    <image height=\"305\" id=\"image7b69f5a58b\" transform=\"scale(1 -1)translate(0 -305)\" width=\"305\" x=\"26.925\" xlink:href=\"data:image/png;base64,\niVBORw0KGgoAAAANSUhEUgAAATEAAAExCAYAAAAUZZVoAAAQc0lEQVR4nO3dWW+c933F8fMMn5nhzHARSXGRIoqUZEmMLbe2y9hxXGRr4jRGBQdOmi5omsJAt0sjLYymvUzgJlAD56I1elEDAZoAdrpbRZrYcQMbbrzISWzFkixZFClaEheJ22ycGc5ML9I3cHTVH/z9XJ/hw5lnePTcHP2T6W9/tStDZyvrxNU3l1p5SUo6Xr4y5b2gW9qx8sWLOSvfGDHfgKT8jYyVL1y3bpvWjnn5tJpY+fyal5ekXXNtK//uA14+Sb33nKyb3+3L3j2TpK3bmla+f3fVylfLvVa+UzXf80X/7zn34etWfvP8sJX37wIA/D9CiQEIjRIDEBolBiA0SgxAaJQYgNAoMQChUWIAQqPEAIRGiQEIjRIDEFra7Xibt75L3nYq07Liv2DO8DJN7wU9ZW8vlm5bceUu+f82bNzlbeokb8+pjLfnbI14O8W+y/6mrjHgfU6ZsnefO73mpnbQ29Q2dpn3QNLE+9at/NLSLu8CjR4rnh1sWPl23r/P7hZy8MialedJDEBolBiA0CgxAKFRYgBCo8QAhEaJAQiNEgMQGiUGIDRKDEBolBiA0CgxAKGlhXPeOXW1Pd4ebXTGO3NOkpYve1ur0ry55/KOI1T5kLcj7F329muSdHBqxcrPtcetfH7J+4yyZe89fOmRp6y8JL1Zm7TyT/9k1soPv+JtZJuD3mdUPWaOaiU1/mPMyg+Z39WBBW//uXG4ZOXdM14lKbfuPSs1X9ht5XkSAxAaJQYgNEoMQGiUGIDQKDEAoVFiAEKjxACERokBCI0SAxAaJQYgNEoMQGiUGIDQkqlvPWZNTPee9Eay64f9MXTb26Srm3or2ax5COv2iPfzCyvm6b+SGndVrXxryzu4te+CN4auHPVOPR76iX+oao+5n94e9T7X5q9UrHzmTJ+Vz21YcUnS1m3e55o0vOeMvYdXrfzSW94gvW/Bf+6p3Wt+tzfzVp4nMQChUWIAQqPEAIRGiQEIjRIDEBolBiA0SgxAaJQYgNAoMQChUWIAQqPEAISWpnnvsM0rH/e2kIe+6x8weuNWbzz5kYdfs/JX64NW/s0fHrXyjWHzxFNJE095e7GNQ95WsXzYu89J3fv3rbTsH6rau9Kw8pVt73vx6B/+i5X/q+yDVr71uvc9kqTiSM3K18vee3a3kBO3eYc2p8+NWHlJ2rzV3EKWvH0pT2IAQqPEAIRGiQEIjRIDEBolBiA0SgxAaJQYgNAoMQChUWIAQqPEAIRGiQEILe12vbP8kraXX/iUt5uSpNJVL/9fF99v5Zt17wzGfNuKKznonbMnScs7JSvfv+DvMx25dW8j2yr628n60YKV3/y1upV/9OkvWPmd/d7Od/yi/57vfuhtK3/yR7NWvjPi7Q6vXhi18rumbuK5J9+04qV+7z7wJAYgNEoMQGiUGIDQKDEAoVFiAEKjxACERokBCI0SAxAaJQYgNEoMQGiUGIDQ0p3NnPWCsVe93ts66G0tJSkxJ2m7+rxN3fKmd5ZfYm4nm2XvM5UkjXoXKSfetlFZ70PtHPH2n5kz3g5SkvJNb//ZWfbum/svdGK+oDbqPwO4W8jf+OgpK//svHdGaq1ZtPL2hyRpYmLDyi9dGbLyPIkBCI0SAxAaJQYgNEoMQGiUGIDQKDEAoVFiAEKjxACERokBCI0SAxAaJQYgtOTQY39jDdjSI2XrAu1z/VZeklpD3s5v4gVvnzn8pwtW/swbU1Z+9JS/F61NeK+p7TUHpuavVLzq/ftWv6PmXUBSPu+dkahTg1a8eN917+eb1t8etl/TN+99rsVV7z5vHPJ+frZixVW+yzsTUpJy897mNb/h/XyexACERokBCI0SAxAaJQYgNEoMQGiUGIDQKDEAoVFiAEKjxACERokBCI0SAxAaJQYgtLQ1bJ4M+4436M7W/DF0z7Z3MOy1j+5Y+bThDVKL17yur0xacUlSY9gb+haWvd+pMewdVNvY5eXH/zVv5SVp9U7vwN2O+R623/EG2u4hyUNH17wXSFqfKFn5srnzL5SaVr75hjeqL/3c+9uRpMr7vd+pNZBaeZ7EAIRGiQEIjRIDEBolBiA0SgxAaJQYgNAoMQChUWIAQqPEAIRGiQEIjRIDEFqaKXkHmM7efsHKr/zlASsvSVvT3g6vXfC2lg9/7CUr/7X856x86V1v4ydJ+56rWvn1W/usfHXaGwZmN7zPtLzfy0vS2Ove79Tt8Xa4y/dYcXX9t2DrMQ+SdX3l89+18o+2HrLyuR96209JUsN7VuoOeZ3EkxiA0CgxAKFRYgBCo8QAhEaJAQiNEgMQGiUGIDRKDEBolBiA0CgxAKFRYgBCS6b/8avW0C930Tsr8Owf/Z2Vl6QH3n7Ays8/P23lsxUrrj3HF6z83MqIdwFJO9tZK5+7nLPyjQnvbM7ivPf7NIb8vWhmX83Kd656373xV6y4lj/gbTPza/6Zqttj3kGSmfFtK7/7GW+bWZk0z1Q96p0hKUmZLe8cyU6/913lSQxAaJQYgNAoMQChUWIAQqPEAIRGiQEIjRIDEBolBiA0SgxAaJQYgNAoMQChpYW3vD1afcLbfv3D5oSVl6TJ0rqVX70yZV/DkUm8XWD7WtG+xtAta1a+3Ott5Eo/9c6pdPelD/6md5anJD39/IesfGZv3conbe8zyrTMLeTsppeXNPFUv5Vv9Ht/n32L3me00+v9/Ad+55SVl6T//ua9Vj6/5R0AypMYgNAoMQChUWIAQqPEAIRGiQEIjRIDEBolBiA0SgxAaJQYgNAoMQChUWIAQksT74g3JWPeOXhff/N+7wKSmje8zdvAgLd5a5WsuG5c9vaf2epNnEfY9M55VNe7Ro95XGC24u1F3R2kJH3+4//jXeO5+6z81rT3GY3+tG3ll6fNeyb7tiltePdheyxv5c15qX6puOi9QNKzvd52sr6b7SSA9xBKDEBolBiA0CgxAKFRYgBCo8QAhEaJAQiNEgMQGiUGIDRKDEBolBiA0CgxAKEl04+fsBamU9/zFuNrR3NWXpIqU94BvTOzC1Z+7tkDVr7r7VG1va/lvUBST5/3mtGhspX/4tTLVv7E945b+eE3/dF7q897TXPQ/PkD3nha3tdO+Q3/PTfurFr5zHnvfytoDnkj9m7Be9N95/3Re+UW77udvZFaeZ7EAIRGiQEIjRIDEBolBiA0SgxAaJQYgNAoMQChUWIAQqPEAIRGiQEIjRIDEFra6fW2U4uf8LZTuQ0rLknKtLxN2geGvO3k+WNjVj5zoWjlU3MHKUn9Lxas/MoR79TTE2e8LeSfffoZK//Euw9aeUlqm7Pa2rT5uXa871G65Y1ka3vNsaWkTs3cHo6bp1ub+t72fh97jyopaXrPSjsl7xo8iQEIjRIDEBolBiA0SgxAaJQYgNAoMQChUWIAQqPEAIRGiQEIjRIDEBolBiC05Ngj37CGSgOXvXPtrnzG3xHOHvS2kK+fOmzlx1614lr6pPceevua3gUkfWz6gpX/wQt3WPmu+c/V2Myqlb+x0eddQJIScyNnnsE4MGfFVZvwtpb1cX87mVa9a/TPez+/Oej9/PIR8+/TP2pTxUvePrNwne0kgPcQSgxAaJQYgNAoMQChUWIAQqPEAIRGiQEIjRIDEBolBiA0SgxAaJQYgNDS5i7vBcXHX7HyH/zSkHcBSacWJ618adHr4oG5ipVf2vbOeNxZ9XeEP7h8h5W//8M/s/IvP3mnlV8d77fy+by/ke3Nea9Z3+9t8IZOehvWtWPeNrN41X8GqBzyzpEsd72zMMdf937+9qz3GU2Orlt5SZrr8c55lbwDSXkSAxAaJQYgNEoMQGiUGIDQKDEAoVFiAEKjxACERokBCI0SAxAaJQYgNEoMQGjJzJe9cydrU942q6ff39S1a6n3Au+YOu3+sffz1273LmAep/iL17S9A/3SA97+c6flbfB2Kt5OMbdi3jNJOyXvg+rZU7PyA896W8j6uHcP+hb9G73yEe/vIdfvbRu7c957zq9577ntzYj/7xpevnzAO8+TJzEAoVFiAEKjxACERokBCI0SAxAaJQYgNEoMQGiUGIDQKDEAoVFiAEKjxACERokBCC1t3u6Naouni1b+c7/9kpWXpLHslpX/2+8ct/KVKSuupOsNfbveplaS1O5vW/mdinfAaH7Ry6c73ptoHNq28pI0s3/JynfMD3Zhn3eIcU/Dimt11h+AFy5596Hb4+atuOpj3nvoFLxxtiRlK94vlb/hPVvxJAYgNEoMQGiUGIDQKDEAoVFiAEKjxACERokBCI0SAxAaJQYgNEoMQGiUGIDQkv1PfN0aT93zy+9YF5h/4oiVvxnXP22O3pbyVjxb9rq+b8Hf1A2frVr5rYPehvXG8bqVT3/uHcJ6M0rXvM+pOehtJx/543+y8k8u3GflB/L+XvStC/usfJLzNrWzhxas/JmTR628e1C1JLX6zfs84R0wzJMYgNAoMQChUWIAQqPEAIRGiQEIjRIDEBolBiA0SgxAaJQYgNAoMQChUWIAQksT83zBc0/NWPlk0IpLkrZHzBeYW0hNeFvLZL1g5a/fu2PlJakx7J2RWJ30zv/7/Vtfs/Kv7fEO51z8twNW/ma0vI9Ij/3zZ618c9jbKe75kf8MMP7F61Z+o+J99/YWNq38G+auMVv2D1Vtm3+eSTW18jyJAQiNEgMQGiUGIDRKDEBolBiA0CgxAKFRYgBCo8QAhEaJAQiNEgMQGiUGILRk/5N/bY2nRl7OWhf4iz//tpWXpEef+V0rn930unhwztsdfuHL/2nlT7z061ZekrL93p7zjn1XrPzPXvTO/+xkvU1du+h9ppJ0/+xpK79YHbLy17/l7T8r+7xd4PYeb2spSYNne6x813zMSMxfqT7m5Rvj/i544Jy3hXTfM09iAEKjxACERokBCI0SAxAaJQYgNEoMQGiUGIDQKDEAoVFiAEKjxACERokBCC0dOuVtITMt7wLuDlKSvnb8O1b+K9/8PfsajpXWgJXvKfr7stnJRSv/8kXvnMeCeV6ge75g/VdrVl6S7u6/ZOX/ft+Prfwn5h+28tW9vVY+u+4/A7hnqu4UvA3r1Pe9De61Ae89j+9fs/KSVD/rDTTZTgJ4T6HEAIRGiQEIjRIDEBolBiA0SgxAaJQYgNAoMQChUWIAQqPEAIRGiQEIjRIDEFoy/fgJa2GamGekDp/2hsSS1PE26dopeNeY+a1zVv70yRkrX5vyB+BH/uRV7xoP3WPllz7o/Xs1+Zy39L/8B/577q544+Pchvce7vzkWSt/6kXvPqe3lK28JPX/e7+VX73b+4Pr9niD8fc97/3tXPuQ//dcvObdt8oB77vEkxiA0CgxAKFRYgBCo8QAhEaJAQiNEgMQGiUGIDRKDEBolBiA0CgxAKFRYgBCSw58w9tOugdbDp73t1brs95uL6n2WPlu6u3L0l1NK587XbTyktTJe/nchpffOmru0ba9G1284v972E29fP22un0NR6fqjXaza973TpJaQ20rnw56370k8b7bOw3vJhTOm19USfWZbSufZLz3wJMYgNAoMQChUWIAQqPEAIRGiQEIjRIDEBolBiA0SgxAaJQYgNAoMQChUWIAQvtfwqRYWi+yuu8AAAAASUVORK5CYII=\" y=\"-32.581818\"/>\n   </g>\n   <g id=\"matplotlib.axis_1\">\n    <g id=\"xtick_1\">\n     <g id=\"line2d_1\">\n      <defs>\n       <path d=\"M 0 0 \nL 0 3.5 \n\" id=\"mf91dd0d037\" style=\"stroke:#000000;stroke-width:0.8;\"/>\n      </defs>\n      <g>\n       <use style=\"stroke:#000000;stroke-width:0.8;\" x=\"33.012273\" xlink:href=\"#mf91dd0d037\" y=\"337.581818\"/>\n      </g>\n     </g>\n     <g id=\"text_1\">\n      <!-- 0 -->\n      <g transform=\"translate(29.831023 352.180256)scale(0.1 -0.1)\">\n       <defs>\n        <path d=\"M 31.78125 66.40625 \nQ 24.171875 66.40625 20.328125 58.90625 \nQ 16.5 51.421875 16.5 36.375 \nQ 16.5 21.390625 20.328125 13.890625 \nQ 24.171875 6.390625 31.78125 6.390625 \nQ 39.453125 6.390625 43.28125 13.890625 \nQ 47.125 21.390625 47.125 36.375 \nQ 47.125 51.421875 43.28125 58.90625 \nQ 39.453125 66.40625 31.78125 66.40625 \nz\nM 31.78125 74.21875 \nQ 44.046875 74.21875 50.515625 64.515625 \nQ 56.984375 54.828125 56.984375 36.375 \nQ 56.984375 17.96875 50.515625 8.265625 \nQ 44.046875 -1.421875 31.78125 -1.421875 \nQ 19.53125 -1.421875 13.0625 8.265625 \nQ 6.59375 17.96875 6.59375 36.375 \nQ 6.59375 54.828125 13.0625 64.515625 \nQ 19.53125 74.21875 31.78125 74.21875 \nz\n\" id=\"DejaVuSans-48\"/>\n       </defs>\n       <use xlink:href=\"#DejaVuSans-48\"/>\n      </g>\n     </g>\n    </g>\n    <g id=\"xtick_2\">\n     <g id=\"line2d_2\">\n      <g>\n       <use style=\"stroke:#000000;stroke-width:0.8;\" x=\"93.885\" xlink:href=\"#mf91dd0d037\" y=\"337.581818\"/>\n      </g>\n     </g>\n     <g id=\"text_2\">\n      <!-- 5 -->\n      <g transform=\"translate(90.70375 352.180256)scale(0.1 -0.1)\">\n       <defs>\n        <path d=\"M 10.796875 72.90625 \nL 49.515625 72.90625 \nL 49.515625 64.59375 \nL 19.828125 64.59375 \nL 19.828125 46.734375 \nQ 21.96875 47.46875 24.109375 47.828125 \nQ 26.265625 48.1875 28.421875 48.1875 \nQ 40.625 48.1875 47.75 41.5 \nQ 54.890625 34.8125 54.890625 23.390625 \nQ 54.890625 11.625 47.5625 5.09375 \nQ 40.234375 -1.421875 26.90625 -1.421875 \nQ 22.3125 -1.421875 17.546875 -0.640625 \nQ 12.796875 0.140625 7.71875 1.703125 \nL 7.71875 11.625 \nQ 12.109375 9.234375 16.796875 8.0625 \nQ 21.484375 6.890625 26.703125 6.890625 \nQ 35.15625 6.890625 40.078125 11.328125 \nQ 45.015625 15.765625 45.015625 23.390625 \nQ 45.015625 31 40.078125 35.4375 \nQ 35.15625 39.890625 26.703125 39.890625 \nQ 22.75 39.890625 18.8125 39.015625 \nQ 14.890625 38.140625 10.796875 36.28125 \nz\n\" id=\"DejaVuSans-53\"/>\n       </defs>\n       <use xlink:href=\"#DejaVuSans-53\"/>\n      </g>\n     </g>\n    </g>\n    <g id=\"xtick_3\">\n     <g id=\"line2d_3\">\n      <g>\n       <use style=\"stroke:#000000;stroke-width:0.8;\" x=\"154.757727\" xlink:href=\"#mf91dd0d037\" y=\"337.581818\"/>\n      </g>\n     </g>\n     <g id=\"text_3\">\n      <!-- 10 -->\n      <g transform=\"translate(148.395227 352.180256)scale(0.1 -0.1)\">\n       <defs>\n        <path d=\"M 12.40625 8.296875 \nL 28.515625 8.296875 \nL 28.515625 63.921875 \nL 10.984375 60.40625 \nL 10.984375 69.390625 \nL 28.421875 72.90625 \nL 38.28125 72.90625 \nL 38.28125 8.296875 \nL 54.390625 8.296875 \nL 54.390625 0 \nL 12.40625 0 \nz\n\" id=\"DejaVuSans-49\"/>\n       </defs>\n       <use xlink:href=\"#DejaVuSans-49\"/>\n       <use x=\"63.623047\" xlink:href=\"#DejaVuSans-48\"/>\n      </g>\n     </g>\n    </g>\n    <g id=\"xtick_4\">\n     <g id=\"line2d_4\">\n      <g>\n       <use style=\"stroke:#000000;stroke-width:0.8;\" x=\"215.630455\" xlink:href=\"#mf91dd0d037\" y=\"337.581818\"/>\n      </g>\n     </g>\n     <g id=\"text_4\">\n      <!-- 15 -->\n      <g transform=\"translate(209.267955 352.180256)scale(0.1 -0.1)\">\n       <use xlink:href=\"#DejaVuSans-49\"/>\n       <use x=\"63.623047\" xlink:href=\"#DejaVuSans-53\"/>\n      </g>\n     </g>\n    </g>\n    <g id=\"xtick_5\">\n     <g id=\"line2d_5\">\n      <g>\n       <use style=\"stroke:#000000;stroke-width:0.8;\" x=\"276.503182\" xlink:href=\"#mf91dd0d037\" y=\"337.581818\"/>\n      </g>\n     </g>\n     <g id=\"text_5\">\n      <!-- 20 -->\n      <g transform=\"translate(270.140682 352.180256)scale(0.1 -0.1)\">\n       <defs>\n        <path d=\"M 19.1875 8.296875 \nL 53.609375 8.296875 \nL 53.609375 0 \nL 7.328125 0 \nL 7.328125 8.296875 \nQ 12.9375 14.109375 22.625 23.890625 \nQ 32.328125 33.6875 34.8125 36.53125 \nQ 39.546875 41.84375 41.421875 45.53125 \nQ 43.3125 49.21875 43.3125 52.78125 \nQ 43.3125 58.59375 39.234375 62.25 \nQ 35.15625 65.921875 28.609375 65.921875 \nQ 23.96875 65.921875 18.8125 64.3125 \nQ 13.671875 62.703125 7.8125 59.421875 \nL 7.8125 69.390625 \nQ 13.765625 71.78125 18.9375 73 \nQ 24.125 74.21875 28.421875 74.21875 \nQ 39.75 74.21875 46.484375 68.546875 \nQ 53.21875 62.890625 53.21875 53.421875 \nQ 53.21875 48.921875 51.53125 44.890625 \nQ 49.859375 40.875 45.40625 35.40625 \nQ 44.1875 33.984375 37.640625 27.21875 \nQ 31.109375 20.453125 19.1875 8.296875 \nz\n\" id=\"DejaVuSans-50\"/>\n       </defs>\n       <use xlink:href=\"#DejaVuSans-50\"/>\n       <use x=\"63.623047\" xlink:href=\"#DejaVuSans-48\"/>\n      </g>\n     </g>\n    </g>\n   </g>\n   <g id=\"matplotlib.axis_2\">\n    <g id=\"ytick_1\">\n     <g id=\"line2d_6\">\n      <defs>\n       <path d=\"M 0 0 \nL -3.5 0 \n\" id=\"m47f7643664\" style=\"stroke:#000000;stroke-width:0.8;\"/>\n      </defs>\n      <g>\n       <use style=\"stroke:#000000;stroke-width:0.8;\" x=\"26.925\" xlink:href=\"#m47f7643664\" y=\"39.305455\"/>\n      </g>\n     </g>\n     <g id=\"text_6\">\n      <!-- 0 -->\n      <g transform=\"translate(13.5625 43.104673)scale(0.1 -0.1)\">\n       <use xlink:href=\"#DejaVuSans-48\"/>\n      </g>\n     </g>\n    </g>\n    <g id=\"ytick_2\">\n     <g id=\"line2d_7\">\n      <g>\n       <use style=\"stroke:#000000;stroke-width:0.8;\" x=\"26.925\" xlink:href=\"#m47f7643664\" y=\"100.178182\"/>\n      </g>\n     </g>\n     <g id=\"text_7\">\n      <!-- 5 -->\n      <g transform=\"translate(13.5625 103.977401)scale(0.1 -0.1)\">\n       <use xlink:href=\"#DejaVuSans-53\"/>\n      </g>\n     </g>\n    </g>\n    <g id=\"ytick_3\">\n     <g id=\"line2d_8\">\n      <g>\n       <use style=\"stroke:#000000;stroke-width:0.8;\" x=\"26.925\" xlink:href=\"#m47f7643664\" y=\"161.050909\"/>\n      </g>\n     </g>\n     <g id=\"text_8\">\n      <!-- 10 -->\n      <g transform=\"translate(7.2 164.850128)scale(0.1 -0.1)\">\n       <use xlink:href=\"#DejaVuSans-49\"/>\n       <use x=\"63.623047\" xlink:href=\"#DejaVuSans-48\"/>\n      </g>\n     </g>\n    </g>\n    <g id=\"ytick_4\">\n     <g id=\"line2d_9\">\n      <g>\n       <use style=\"stroke:#000000;stroke-width:0.8;\" x=\"26.925\" xlink:href=\"#m47f7643664\" y=\"221.923636\"/>\n      </g>\n     </g>\n     <g id=\"text_9\">\n      <!-- 15 -->\n      <g transform=\"translate(7.2 225.722855)scale(0.1 -0.1)\">\n       <use xlink:href=\"#DejaVuSans-49\"/>\n       <use x=\"63.623047\" xlink:href=\"#DejaVuSans-53\"/>\n      </g>\n     </g>\n    </g>\n    <g id=\"ytick_5\">\n     <g id=\"line2d_10\">\n      <g>\n       <use style=\"stroke:#000000;stroke-width:0.8;\" x=\"26.925\" xlink:href=\"#m47f7643664\" y=\"282.796364\"/>\n      </g>\n     </g>\n     <g id=\"text_10\">\n      <!-- 20 -->\n      <g transform=\"translate(7.2 286.595582)scale(0.1 -0.1)\">\n       <use xlink:href=\"#DejaVuSans-50\"/>\n       <use x=\"63.623047\" xlink:href=\"#DejaVuSans-48\"/>\n      </g>\n     </g>\n    </g>\n   </g>\n   <g id=\"patch_3\">\n    <path d=\"M 26.925 337.581818 \nL 26.925 33.218182 \n\" style=\"fill:none;stroke:#000000;stroke-linecap:square;stroke-linejoin:miter;stroke-width:0.8;\"/>\n   </g>\n   <g id=\"patch_4\">\n    <path d=\"M 331.288636 337.581818 \nL 331.288636 33.218182 \n\" style=\"fill:none;stroke:#000000;stroke-linecap:square;stroke-linejoin:miter;stroke-width:0.8;\"/>\n   </g>\n   <g id=\"patch_5\">\n    <path d=\"M 26.925 337.581818 \nL 331.288636 337.581818 \n\" style=\"fill:none;stroke:#000000;stroke-linecap:square;stroke-linejoin:miter;stroke-width:0.8;\"/>\n   </g>\n   <g id=\"patch_6\">\n    <path d=\"M 26.925 33.218182 \nL 331.288636 33.218182 \n\" style=\"fill:none;stroke:#000000;stroke-linecap:square;stroke-linejoin:miter;stroke-width:0.8;\"/>\n   </g>\n   <g id=\"text_11\">\n    <!-- full correlation -->\n    <g transform=\"translate(135.759631 27.218182)scale(0.12 -0.12)\">\n     <defs>\n      <path d=\"M 37.109375 75.984375 \nL 37.109375 68.5 \nL 28.515625 68.5 \nQ 23.6875 68.5 21.796875 66.546875 \nQ 19.921875 64.59375 19.921875 59.515625 \nL 19.921875 54.6875 \nL 34.71875 54.6875 \nL 34.71875 47.703125 \nL 19.921875 47.703125 \nL 19.921875 0 \nL 10.890625 0 \nL 10.890625 47.703125 \nL 2.296875 47.703125 \nL 2.296875 54.6875 \nL 10.890625 54.6875 \nL 10.890625 58.5 \nQ 10.890625 67.625 15.140625 71.796875 \nQ 19.390625 75.984375 28.609375 75.984375 \nz\n\" id=\"DejaVuSans-102\"/>\n      <path d=\"M 8.5 21.578125 \nL 8.5 54.6875 \nL 17.484375 54.6875 \nL 17.484375 21.921875 \nQ 17.484375 14.15625 20.5 10.265625 \nQ 23.53125 6.390625 29.59375 6.390625 \nQ 36.859375 6.390625 41.078125 11.03125 \nQ 45.3125 15.671875 45.3125 23.6875 \nL 45.3125 54.6875 \nL 54.296875 54.6875 \nL 54.296875 0 \nL 45.3125 0 \nL 45.3125 8.40625 \nQ 42.046875 3.421875 37.71875 1 \nQ 33.40625 -1.421875 27.6875 -1.421875 \nQ 18.265625 -1.421875 13.375 4.4375 \nQ 8.5 10.296875 8.5 21.578125 \nz\nM 31.109375 56 \nz\n\" id=\"DejaVuSans-117\"/>\n      <path d=\"M 9.421875 75.984375 \nL 18.40625 75.984375 \nL 18.40625 0 \nL 9.421875 0 \nz\n\" id=\"DejaVuSans-108\"/>\n      <path id=\"DejaVuSans-32\"/>\n      <path d=\"M 48.78125 52.59375 \nL 48.78125 44.1875 \nQ 44.96875 46.296875 41.140625 47.34375 \nQ 37.3125 48.390625 33.40625 48.390625 \nQ 24.65625 48.390625 19.8125 42.84375 \nQ 14.984375 37.3125 14.984375 27.296875 \nQ 14.984375 17.28125 19.8125 11.734375 \nQ 24.65625 6.203125 33.40625 6.203125 \nQ 37.3125 6.203125 41.140625 7.25 \nQ 44.96875 8.296875 48.78125 10.40625 \nL 48.78125 2.09375 \nQ 45.015625 0.34375 40.984375 -0.53125 \nQ 36.96875 -1.421875 32.421875 -1.421875 \nQ 20.0625 -1.421875 12.78125 6.34375 \nQ 5.515625 14.109375 5.515625 27.296875 \nQ 5.515625 40.671875 12.859375 48.328125 \nQ 20.21875 56 33.015625 56 \nQ 37.15625 56 41.109375 55.140625 \nQ 45.0625 54.296875 48.78125 52.59375 \nz\n\" id=\"DejaVuSans-99\"/>\n      <path d=\"M 30.609375 48.390625 \nQ 23.390625 48.390625 19.1875 42.75 \nQ 14.984375 37.109375 14.984375 27.296875 \nQ 14.984375 17.484375 19.15625 11.84375 \nQ 23.34375 6.203125 30.609375 6.203125 \nQ 37.796875 6.203125 41.984375 11.859375 \nQ 46.1875 17.53125 46.1875 27.296875 \nQ 46.1875 37.015625 41.984375 42.703125 \nQ 37.796875 48.390625 30.609375 48.390625 \nz\nM 30.609375 56 \nQ 42.328125 56 49.015625 48.375 \nQ 55.71875 40.765625 55.71875 27.296875 \nQ 55.71875 13.875 49.015625 6.21875 \nQ 42.328125 -1.421875 30.609375 -1.421875 \nQ 18.84375 -1.421875 12.171875 6.21875 \nQ 5.515625 13.875 5.515625 27.296875 \nQ 5.515625 40.765625 12.171875 48.375 \nQ 18.84375 56 30.609375 56 \nz\n\" id=\"DejaVuSans-111\"/>\n      <path d=\"M 41.109375 46.296875 \nQ 39.59375 47.171875 37.8125 47.578125 \nQ 36.03125 48 33.890625 48 \nQ 26.265625 48 22.1875 43.046875 \nQ 18.109375 38.09375 18.109375 28.8125 \nL 18.109375 0 \nL 9.078125 0 \nL 9.078125 54.6875 \nL 18.109375 54.6875 \nL 18.109375 46.1875 \nQ 20.953125 51.171875 25.484375 53.578125 \nQ 30.03125 56 36.53125 56 \nQ 37.453125 56 38.578125 55.875 \nQ 39.703125 55.765625 41.0625 55.515625 \nz\n\" id=\"DejaVuSans-114\"/>\n      <path d=\"M 56.203125 29.59375 \nL 56.203125 25.203125 \nL 14.890625 25.203125 \nQ 15.484375 15.921875 20.484375 11.0625 \nQ 25.484375 6.203125 34.421875 6.203125 \nQ 39.59375 6.203125 44.453125 7.46875 \nQ 49.3125 8.734375 54.109375 11.28125 \nL 54.109375 2.78125 \nQ 49.265625 0.734375 44.1875 -0.34375 \nQ 39.109375 -1.421875 33.890625 -1.421875 \nQ 20.796875 -1.421875 13.15625 6.1875 \nQ 5.515625 13.8125 5.515625 26.8125 \nQ 5.515625 40.234375 12.765625 48.109375 \nQ 20.015625 56 32.328125 56 \nQ 43.359375 56 49.78125 48.890625 \nQ 56.203125 41.796875 56.203125 29.59375 \nz\nM 47.21875 32.234375 \nQ 47.125 39.59375 43.09375 43.984375 \nQ 39.0625 48.390625 32.421875 48.390625 \nQ 24.90625 48.390625 20.390625 44.140625 \nQ 15.875 39.890625 15.1875 32.171875 \nz\n\" id=\"DejaVuSans-101\"/>\n      <path d=\"M 34.28125 27.484375 \nQ 23.390625 27.484375 19.1875 25 \nQ 14.984375 22.515625 14.984375 16.5 \nQ 14.984375 11.71875 18.140625 8.90625 \nQ 21.296875 6.109375 26.703125 6.109375 \nQ 34.1875 6.109375 38.703125 11.40625 \nQ 43.21875 16.703125 43.21875 25.484375 \nL 43.21875 27.484375 \nz\nM 52.203125 31.203125 \nL 52.203125 0 \nL 43.21875 0 \nL 43.21875 8.296875 \nQ 40.140625 3.328125 35.546875 0.953125 \nQ 30.953125 -1.421875 24.3125 -1.421875 \nQ 15.921875 -1.421875 10.953125 3.296875 \nQ 6 8.015625 6 15.921875 \nQ 6 25.140625 12.171875 29.828125 \nQ 18.359375 34.515625 30.609375 34.515625 \nL 43.21875 34.515625 \nL 43.21875 35.40625 \nQ 43.21875 41.609375 39.140625 45 \nQ 35.0625 48.390625 27.6875 48.390625 \nQ 23 48.390625 18.546875 47.265625 \nQ 14.109375 46.140625 10.015625 43.890625 \nL 10.015625 52.203125 \nQ 14.9375 54.109375 19.578125 55.046875 \nQ 24.21875 56 28.609375 56 \nQ 40.484375 56 46.34375 49.84375 \nQ 52.203125 43.703125 52.203125 31.203125 \nz\n\" id=\"DejaVuSans-97\"/>\n      <path d=\"M 18.3125 70.21875 \nL 18.3125 54.6875 \nL 36.8125 54.6875 \nL 36.8125 47.703125 \nL 18.3125 47.703125 \nL 18.3125 18.015625 \nQ 18.3125 11.328125 20.140625 9.421875 \nQ 21.96875 7.515625 27.59375 7.515625 \nL 36.8125 7.515625 \nL 36.8125 0 \nL 27.59375 0 \nQ 17.1875 0 13.234375 3.875 \nQ 9.28125 7.765625 9.28125 18.015625 \nL 9.28125 47.703125 \nL 2.6875 47.703125 \nL 2.6875 54.6875 \nL 9.28125 54.6875 \nL 9.28125 70.21875 \nz\n\" id=\"DejaVuSans-116\"/>\n      <path d=\"M 9.421875 54.6875 \nL 18.40625 54.6875 \nL 18.40625 0 \nL 9.421875 0 \nz\nM 9.421875 75.984375 \nL 18.40625 75.984375 \nL 18.40625 64.59375 \nL 9.421875 64.59375 \nz\n\" id=\"DejaVuSans-105\"/>\n      <path d=\"M 54.890625 33.015625 \nL 54.890625 0 \nL 45.90625 0 \nL 45.90625 32.71875 \nQ 45.90625 40.484375 42.875 44.328125 \nQ 39.84375 48.1875 33.796875 48.1875 \nQ 26.515625 48.1875 22.3125 43.546875 \nQ 18.109375 38.921875 18.109375 30.90625 \nL 18.109375 0 \nL 9.078125 0 \nL 9.078125 54.6875 \nL 18.109375 54.6875 \nL 18.109375 46.1875 \nQ 21.34375 51.125 25.703125 53.5625 \nQ 30.078125 56 35.796875 56 \nQ 45.21875 56 50.046875 50.171875 \nQ 54.890625 44.34375 54.890625 33.015625 \nz\n\" id=\"DejaVuSans-110\"/>\n     </defs>\n     <use xlink:href=\"#DejaVuSans-102\"/>\n     <use x=\"35.205078\" xlink:href=\"#DejaVuSans-117\"/>\n     <use x=\"98.583984\" xlink:href=\"#DejaVuSans-108\"/>\n     <use x=\"126.367188\" xlink:href=\"#DejaVuSans-108\"/>\n     <use x=\"154.150391\" xlink:href=\"#DejaVuSans-32\"/>\n     <use x=\"185.9375\" xlink:href=\"#DejaVuSans-99\"/>\n     <use x=\"240.917969\" xlink:href=\"#DejaVuSans-111\"/>\n     <use x=\"302.099609\" xlink:href=\"#DejaVuSans-114\"/>\n     <use x=\"341.462891\" xlink:href=\"#DejaVuSans-114\"/>\n     <use x=\"380.326172\" xlink:href=\"#DejaVuSans-101\"/>\n     <use x=\"441.849609\" xlink:href=\"#DejaVuSans-108\"/>\n     <use x=\"469.632812\" xlink:href=\"#DejaVuSans-97\"/>\n     <use x=\"530.912109\" xlink:href=\"#DejaVuSans-116\"/>\n     <use x=\"570.121094\" xlink:href=\"#DejaVuSans-105\"/>\n     <use x=\"597.904297\" xlink:href=\"#DejaVuSans-111\"/>\n     <use x=\"659.085938\" xlink:href=\"#DejaVuSans-110\"/>\n    </g>\n   </g>\n  </g>\n  <g id=\"axes_2\">\n   <g id=\"patch_7\">\n    <path d=\"M 392.161364 337.581818 \nL 696.525 337.581818 \nL 696.525 33.218182 \nL 392.161364 33.218182 \nz\n\" style=\"fill:#ffffff;\"/>\n   </g>\n   <g clip-path=\"url(#pd3608b9760)\">\n    <image height=\"305\" id=\"image4d82f60084\" transform=\"scale(1 -1)translate(0 -305)\" width=\"305\" x=\"392.161364\" xlink:href=\"data:image/png;base64,\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\" y=\"-32.581818\"/>\n   </g>\n   <g id=\"matplotlib.axis_3\">\n    <g id=\"xtick_6\">\n     <g id=\"line2d_11\">\n      <g>\n       <use style=\"stroke:#000000;stroke-width:0.8;\" x=\"398.248636\" xlink:href=\"#mf91dd0d037\" y=\"337.581818\"/>\n      </g>\n     </g>\n     <g id=\"text_12\">\n      <!-- 0 -->\n      <g transform=\"translate(395.067386 352.180256)scale(0.1 -0.1)\">\n       <use xlink:href=\"#DejaVuSans-48\"/>\n      </g>\n     </g>\n    </g>\n    <g id=\"xtick_7\">\n     <g id=\"line2d_12\">\n      <g>\n       <use style=\"stroke:#000000;stroke-width:0.8;\" x=\"459.121364\" xlink:href=\"#mf91dd0d037\" y=\"337.581818\"/>\n      </g>\n     </g>\n     <g id=\"text_13\">\n      <!-- 5 -->\n      <g transform=\"translate(455.940114 352.180256)scale(0.1 -0.1)\">\n       <use xlink:href=\"#DejaVuSans-53\"/>\n      </g>\n     </g>\n    </g>\n    <g id=\"xtick_8\">\n     <g id=\"line2d_13\">\n      <g>\n       <use style=\"stroke:#000000;stroke-width:0.8;\" x=\"519.994091\" xlink:href=\"#mf91dd0d037\" y=\"337.581818\"/>\n      </g>\n     </g>\n     <g id=\"text_14\">\n      <!-- 10 -->\n      <g transform=\"translate(513.631591 352.180256)scale(0.1 -0.1)\">\n       <use xlink:href=\"#DejaVuSans-49\"/>\n       <use x=\"63.623047\" xlink:href=\"#DejaVuSans-48\"/>\n      </g>\n     </g>\n    </g>\n    <g id=\"xtick_9\">\n     <g id=\"line2d_14\">\n      <g>\n       <use style=\"stroke:#000000;stroke-width:0.8;\" x=\"580.866818\" xlink:href=\"#mf91dd0d037\" y=\"337.581818\"/>\n      </g>\n     </g>\n     <g id=\"text_15\">\n      <!-- 15 -->\n      <g transform=\"translate(574.504318 352.180256)scale(0.1 -0.1)\">\n       <use xlink:href=\"#DejaVuSans-49\"/>\n       <use x=\"63.623047\" xlink:href=\"#DejaVuSans-53\"/>\n      </g>\n     </g>\n    </g>\n    <g id=\"xtick_10\">\n     <g id=\"line2d_15\">\n      <g>\n       <use style=\"stroke:#000000;stroke-width:0.8;\" x=\"641.739545\" xlink:href=\"#mf91dd0d037\" y=\"337.581818\"/>\n      </g>\n     </g>\n     <g id=\"text_16\">\n      <!-- 20 -->\n      <g transform=\"translate(635.377045 352.180256)scale(0.1 -0.1)\">\n       <use xlink:href=\"#DejaVuSans-50\"/>\n       <use x=\"63.623047\" xlink:href=\"#DejaVuSans-48\"/>\n      </g>\n     </g>\n    </g>\n   </g>\n   <g id=\"matplotlib.axis_4\">\n    <g id=\"ytick_6\">\n     <g id=\"line2d_16\">\n      <g>\n       <use style=\"stroke:#000000;stroke-width:0.8;\" x=\"392.161364\" xlink:href=\"#m47f7643664\" y=\"39.305455\"/>\n      </g>\n     </g>\n     <g id=\"text_17\">\n      <!-- 0 -->\n      <g transform=\"translate(378.798864 43.104673)scale(0.1 -0.1)\">\n       <use xlink:href=\"#DejaVuSans-48\"/>\n      </g>\n     </g>\n    </g>\n    <g id=\"ytick_7\">\n     <g id=\"line2d_17\">\n      <g>\n       <use style=\"stroke:#000000;stroke-width:0.8;\" x=\"392.161364\" xlink:href=\"#m47f7643664\" y=\"100.178182\"/>\n      </g>\n     </g>\n     <g id=\"text_18\">\n      <!-- 5 -->\n      <g transform=\"translate(378.798864 103.977401)scale(0.1 -0.1)\">\n       <use xlink:href=\"#DejaVuSans-53\"/>\n      </g>\n     </g>\n    </g>\n    <g id=\"ytick_8\">\n     <g id=\"line2d_18\">\n      <g>\n       <use style=\"stroke:#000000;stroke-width:0.8;\" x=\"392.161364\" xlink:href=\"#m47f7643664\" y=\"161.050909\"/>\n      </g>\n     </g>\n     <g id=\"text_19\">\n      <!-- 10 -->\n      <g transform=\"translate(372.436364 164.850128)scale(0.1 -0.1)\">\n       <use xlink:href=\"#DejaVuSans-49\"/>\n       <use x=\"63.623047\" xlink:href=\"#DejaVuSans-48\"/>\n      </g>\n     </g>\n    </g>\n    <g id=\"ytick_9\">\n     <g id=\"line2d_19\">\n      <g>\n       <use style=\"stroke:#000000;stroke-width:0.8;\" x=\"392.161364\" xlink:href=\"#m47f7643664\" y=\"221.923636\"/>\n      </g>\n     </g>\n     <g id=\"text_20\">\n      <!-- 15 -->\n      <g transform=\"translate(372.436364 225.722855)scale(0.1 -0.1)\">\n       <use xlink:href=\"#DejaVuSans-49\"/>\n       <use x=\"63.623047\" xlink:href=\"#DejaVuSans-53\"/>\n      </g>\n     </g>\n    </g>\n    <g id=\"ytick_10\">\n     <g id=\"line2d_20\">\n      <g>\n       <use style=\"stroke:#000000;stroke-width:0.8;\" x=\"392.161364\" xlink:href=\"#m47f7643664\" y=\"282.796364\"/>\n      </g>\n     </g>\n     <g id=\"text_21\">\n      <!-- 20 -->\n      <g transform=\"translate(372.436364 286.595582)scale(0.1 -0.1)\">\n       <use xlink:href=\"#DejaVuSans-50\"/>\n       <use x=\"63.623047\" xlink:href=\"#DejaVuSans-48\"/>\n      </g>\n     </g>\n    </g>\n   </g>\n   <g id=\"patch_8\">\n    <path d=\"M 392.161364 337.581818 \nL 392.161364 33.218182 \n\" style=\"fill:none;stroke:#000000;stroke-linecap:square;stroke-linejoin:miter;stroke-width:0.8;\"/>\n   </g>\n   <g id=\"patch_9\">\n    <path d=\"M 696.525 337.581818 \nL 696.525 33.218182 \n\" style=\"fill:none;stroke:#000000;stroke-linecap:square;stroke-linejoin:miter;stroke-width:0.8;\"/>\n   </g>\n   <g id=\"patch_10\">\n    <path d=\"M 392.161364 337.581818 \nL 696.525 337.581818 \n\" style=\"fill:none;stroke:#000000;stroke-linecap:square;stroke-linejoin:miter;stroke-width:0.8;\"/>\n   </g>\n   <g id=\"patch_11\">\n    <path d=\"M 392.161364 33.218182 \nL 696.525 33.218182 \n\" style=\"fill:none;stroke:#000000;stroke-linecap:square;stroke-linejoin:miter;stroke-width:0.8;\"/>\n   </g>\n   <g id=\"text_22\">\n    <!-- partial correlation -->\n    <g transform=\"translate(490.929119 27.218182)scale(0.12 -0.12)\">\n     <defs>\n      <path d=\"M 18.109375 8.203125 \nL 18.109375 -20.796875 \nL 9.078125 -20.796875 \nL 9.078125 54.6875 \nL 18.109375 54.6875 \nL 18.109375 46.390625 \nQ 20.953125 51.265625 25.265625 53.625 \nQ 29.59375 56 35.59375 56 \nQ 45.5625 56 51.78125 48.09375 \nQ 58.015625 40.1875 58.015625 27.296875 \nQ 58.015625 14.40625 51.78125 6.484375 \nQ 45.5625 -1.421875 35.59375 -1.421875 \nQ 29.59375 -1.421875 25.265625 0.953125 \nQ 20.953125 3.328125 18.109375 8.203125 \nz\nM 48.6875 27.296875 \nQ 48.6875 37.203125 44.609375 42.84375 \nQ 40.53125 48.484375 33.40625 48.484375 \nQ 26.265625 48.484375 22.1875 42.84375 \nQ 18.109375 37.203125 18.109375 27.296875 \nQ 18.109375 17.390625 22.1875 11.75 \nQ 26.265625 6.109375 33.40625 6.109375 \nQ 40.53125 6.109375 44.609375 11.75 \nQ 48.6875 17.390625 48.6875 27.296875 \nz\n\" id=\"DejaVuSans-112\"/>\n     </defs>\n     <use xlink:href=\"#DejaVuSans-112\"/>\n     <use x=\"63.476562\" xlink:href=\"#DejaVuSans-97\"/>\n     <use x=\"124.755859\" xlink:href=\"#DejaVuSans-114\"/>\n     <use x=\"165.869141\" xlink:href=\"#DejaVuSans-116\"/>\n     <use x=\"205.078125\" xlink:href=\"#DejaVuSans-105\"/>\n     <use x=\"232.861328\" xlink:href=\"#DejaVuSans-97\"/>\n     <use x=\"294.140625\" xlink:href=\"#DejaVuSans-108\"/>\n     <use x=\"321.923828\" xlink:href=\"#DejaVuSans-32\"/>\n     <use x=\"353.710938\" xlink:href=\"#DejaVuSans-99\"/>\n     <use x=\"408.691406\" xlink:href=\"#DejaVuSans-111\"/>\n     <use x=\"469.873047\" xlink:href=\"#DejaVuSans-114\"/>\n     <use x=\"509.236328\" xlink:href=\"#DejaVuSans-114\"/>\n     <use x=\"548.099609\" xlink:href=\"#DejaVuSans-101\"/>\n     <use x=\"609.623047\" xlink:href=\"#DejaVuSans-108\"/>\n     <use x=\"637.40625\" xlink:href=\"#DejaVuSans-97\"/>\n     <use x=\"698.685547\" xlink:href=\"#DejaVuSans-116\"/>\n     <use x=\"737.894531\" xlink:href=\"#DejaVuSans-105\"/>\n     <use x=\"765.677734\" xlink:href=\"#DejaVuSans-111\"/>\n     <use x=\"826.859375\" xlink:href=\"#DejaVuSans-110\"/>\n    </g>\n   </g>\n  </g>\n  <g id=\"axes_3\">\n   <g id=\"patch_12\">\n    <path clip-path=\"url(#p996bc061a8)\" d=\"M 791.565 367.2 \nL 791.565 365.79375 \nL 791.565 8.60625 \nL 791.565 7.2 \nL 808.845 7.2 \nL 808.845 8.60625 \nL 808.845 365.79375 \nL 808.845 367.2 \nz\n\" style=\"fill:#ffffff;stroke:#ffffff;stroke-linejoin:miter;stroke-width:0.01;\"/>\n   </g>\n   <image height=\"360\" id=\"image431ff9926c\" transform=\"scale(1 -1)translate(0 -360)\" width=\"17\" x=\"792\" xlink:href=\"data:image/png;base64,\niVBORw0KGgoAAAANSUhEUgAAABEAAAFoCAYAAACxNxBHAAAB6klEQVR4nO2d243DMAwEKdmlXQnXfylxClD+OAYGC7KAhfZBig6cZP2t/6eaddfaXYzqI1TVvfbqgxB0kJMwmiB0SkQHsHhtQhPgJJAmaXQIiyf2r4CEJdakCUInLbHTxW+AmOgwO5tFk4fRpH8Sk8UadxA6Y/E7IGENGKdJH8OU2CfNYgDEQ4cIm2cUTBef5UkschJR7D3PO5DFkpOYLi8RHQDEREfijmlQM5tSH0Q1lCQ5mS4+y0MnL/Z9kLBlOC32JosBkLH4BAmjM5qcIO23ekpFZ4bSOycZi88SWTyaHBVGZzQ5C6Ezmpw1984PkDiL+6tfmsWanIRpMol9CSQvsYDFpsR6QPrCijSZxJ4gwOfcaZqIElsVpcnKslhDJ62LCWEpixEQSU5EsQfYqOhkJXanaYLQ6Z+EoaNx597AfhIWe1FiNTkRxd6UWIvFntin0SEe39I0CaMjsvjTBjFZrBnUYe5cFndEmiAWX6LE9oWFNBENaokmUBdb6NyXp4uJoSSiQ3QxMZREgzqOjqaLgZNQ+wmhieYuhugQoyDt8tIkNssdKGzI5WWxOGy1YK5RS05Mmmi6mBlKaZqEPeYDINAo6Be1bhEgwMsW1L0DgFzEl9m3RhPCHRMdxh3gl2xNmiB0JH8c8AWczo3SLurawAAAAABJRU5ErkJggg==\" y=\"-7\"/>\n   <g id=\"matplotlib.axis_5\"/>\n   <g id=\"matplotlib.axis_6\">\n    <g id=\"ytick_11\">\n     <g id=\"line2d_21\">\n      <defs>\n       <path d=\"M 0 0 \nL 3.5 0 \n\" id=\"m0b61fb8c39\" style=\"stroke:#000000;stroke-width:0.8;\"/>\n      </defs>\n      <g>\n       <use style=\"stroke:#000000;stroke-width:0.8;\" x=\"808.845\" xlink:href=\"#m0b61fb8c39\" y=\"338.863513\"/>\n      </g>\n     </g>\n     <g id=\"text_23\">\n      <!-- −10 -->\n      <g transform=\"translate(815.845 342.662732)scale(0.1 -0.1)\">\n       <defs>\n        <path d=\"M 10.59375 35.5 \nL 73.1875 35.5 \nL 73.1875 27.203125 \nL 10.59375 27.203125 \nz\n\" id=\"DejaVuSans-8722\"/>\n       </defs>\n       <use xlink:href=\"#DejaVuSans-8722\"/>\n       <use x=\"83.789062\" xlink:href=\"#DejaVuSans-49\"/>\n       <use x=\"147.412109\" xlink:href=\"#DejaVuSans-48\"/>\n      </g>\n     </g>\n    </g>\n    <g id=\"ytick_12\">\n     <g id=\"line2d_22\">\n      <g>\n       <use style=\"stroke:#000000;stroke-width:0.8;\" x=\"808.845\" xlink:href=\"#m0b61fb8c39\" y=\"277.231769\"/>\n      </g>\n     </g>\n     <g id=\"text_24\">\n      <!-- −5 -->\n      <g transform=\"translate(815.845 281.030988)scale(0.1 -0.1)\">\n       <use xlink:href=\"#DejaVuSans-8722\"/>\n       <use x=\"83.789062\" xlink:href=\"#DejaVuSans-53\"/>\n      </g>\n     </g>\n    </g>\n    <g id=\"ytick_13\">\n     <g id=\"line2d_23\">\n      <g>\n       <use style=\"stroke:#000000;stroke-width:0.8;\" x=\"808.845\" xlink:href=\"#m0b61fb8c39\" y=\"215.600024\"/>\n      </g>\n     </g>\n     <g id=\"text_25\">\n      <!-- 0 -->\n      <g transform=\"translate(815.845 219.399243)scale(0.1 -0.1)\">\n       <use xlink:href=\"#DejaVuSans-48\"/>\n      </g>\n     </g>\n    </g>\n    <g id=\"ytick_14\">\n     <g id=\"line2d_24\">\n      <g>\n       <use style=\"stroke:#000000;stroke-width:0.8;\" x=\"808.845\" xlink:href=\"#m0b61fb8c39\" y=\"153.96828\"/>\n      </g>\n     </g>\n     <g id=\"text_26\">\n      <!-- 5 -->\n      <g transform=\"translate(815.845 157.767498)scale(0.1 -0.1)\">\n       <use xlink:href=\"#DejaVuSans-53\"/>\n      </g>\n     </g>\n    </g>\n    <g id=\"ytick_15\">\n     <g id=\"line2d_25\">\n      <g>\n       <use style=\"stroke:#000000;stroke-width:0.8;\" x=\"808.845\" xlink:href=\"#m0b61fb8c39\" y=\"92.336535\"/>\n      </g>\n     </g>\n     <g id=\"text_27\">\n      <!-- 10 -->\n      <g transform=\"translate(815.845 96.135754)scale(0.1 -0.1)\">\n       <use xlink:href=\"#DejaVuSans-49\"/>\n       <use x=\"63.623047\" xlink:href=\"#DejaVuSans-48\"/>\n      </g>\n     </g>\n    </g>\n    <g id=\"ytick_16\">\n     <g id=\"line2d_26\">\n      <g>\n       <use style=\"stroke:#000000;stroke-width:0.8;\" x=\"808.845\" xlink:href=\"#m0b61fb8c39\" y=\"30.704791\"/>\n      </g>\n     </g>\n     <g id=\"text_28\">\n      <!-- 15 -->\n      <g transform=\"translate(815.845 34.504009)scale(0.1 -0.1)\">\n       <use xlink:href=\"#DejaVuSans-49\"/>\n       <use x=\"63.623047\" xlink:href=\"#DejaVuSans-53\"/>\n      </g>\n     </g>\n    </g>\n   </g>\n   <g id=\"patch_13\">\n    <path d=\"M 791.565 367.2 \nL 791.565 365.79375 \nL 791.565 8.60625 \nL 791.565 7.2 \nL 808.845 7.2 \nL 808.845 8.60625 \nL 808.845 365.79375 \nL 808.845 367.2 \nz\n\" style=\"fill:none;stroke:#000000;stroke-linejoin:miter;stroke-width:0.8;\"/>\n   </g>\n  </g>\n </g>\n <defs>\n  <clipPath id=\"pcd588ef303\">\n   <rect height=\"304.363636\" width=\"304.363636\" x=\"26.925\" y=\"33.218182\"/>\n  </clipPath>\n  <clipPath id=\"pd3608b9760\">\n   <rect height=\"304.363636\" width=\"304.363636\" x=\"392.161364\" y=\"33.218182\"/>\n  </clipPath>\n  <clipPath id=\"p996bc061a8\">\n   <rect height=\"360\" width=\"17.28\" x=\"791.565\" y=\"7.2\"/>\n  </clipPath>\n </defs>\n</svg>\n",
      "image/png": "[encoded data removed]"
     },
     "metadata": {
      "needs_background": "light"
     }
    }
   ],
   "source": [
    "fig, ax = plt.subplots(1,2,figsize=(12,10))\n",
    "ax[0].imshow(netmat_15_full)\n",
    "ax[0].title.set_text(\"full correlation\")\n",
    "im = ax[1].imshow(netmat_15_partial)\n",
    "ax[1].title.set_text(\"partial correlation\")\n",
    "\n",
    "cbaxes = fig.add_axes([1.01, 0.25, 0.02, 0.5]) \n",
    "\n",
    "fig.colorbar(im,cax = cbaxes)\n"
   ]
  },
  {
   "source": [
    "#### LOAD TXT FILES\n",
    "\n",
    "check if the per subject is symmetrical "
   ],
   "cell_type": "markdown",
   "metadata": {}
  },
  {
   "cell_type": "code",
   "execution_count": 3,
   "metadata": {},
   "outputs": [
    {
     "output_type": "execute_result",
     "data": {
      "text/plain": [
       "      0         1        2        3        4        5        6         7    \\\n",
       "0       0 -10.39600   1.3250  14.2230 -2.39230  7.98940  -8.3335  -6.07130   \n",
       "1       0  -7.05970  -8.1504  10.4730 -2.64040  0.88428  -7.0996  -9.61850   \n",
       "2       0  -3.21090   1.1924  15.5370 -2.70360 -2.89870 -18.0500 -29.72300   \n",
       "3       0  -0.77747 -13.3280  12.0090 -0.29917 -3.40240  -7.7466 -14.89300   \n",
       "4       0  -7.64220  -1.6479  15.5950 -7.02200  4.30600  -1.2868  -6.85410   \n",
       "...   ...       ...      ...      ...      ...      ...      ...       ...   \n",
       "998     0  -5.36860  -7.6809  20.6790 -4.09760  3.61610  -6.4457 -20.03100   \n",
       "999     0  -8.45280   2.5526  13.7820 -7.28460 -2.46680 -13.7460 -20.39000   \n",
       "1000    0  -5.73310   8.2898  10.3600 -3.88710  2.10990  -2.9118  -0.13056   \n",
       "1001    0  -6.98810  -6.1590   7.3031 -6.30940  1.97910  -3.5481 -19.13000   \n",
       "1002    0  -5.70150   1.9827   4.2060 -1.79980  6.12150  -3.7097  -3.89220   \n",
       "\n",
       "          8          9    ...      215       216      217       218      219  \\\n",
       "0     -1.8244   3.937200  ...  0.86534  -0.74259  3.58890   1.99990 -12.0020   \n",
       "1     -2.7376  -0.053907  ...  7.23770   2.23570  4.51860   1.51590  -7.8566   \n",
       "2     10.0080  11.842000  ...  0.45386  10.04800  9.99430  -0.32299 -12.4430   \n",
       "3      3.8670   0.468460  ...  6.70260   6.86530 -2.76830   7.78940 -11.8560   \n",
       "4     -1.8923  -0.804530  ...  5.44630   8.13370  1.78790   5.43310  -5.6729   \n",
       "...       ...        ...  ...      ...       ...      ...       ...      ...   \n",
       "998    2.5331  -0.052966  ...  1.48830  -2.25540  0.26198  13.01500  -7.7512   \n",
       "999    5.2821  -0.599610  ...  3.64330   6.77920  6.12020   1.52980  -9.8249   \n",
       "1000  -3.3337  -2.258500  ... -5.01590   1.46900 -0.68062   5.03440  -8.3454   \n",
       "1001   5.2046  -1.977800  ...  4.00110   6.67650 -5.84130   7.86550  -5.2188   \n",
       "1002  -2.5807  -2.373600  ...  5.36800   2.33710 -6.99700   3.69340  -9.2893   \n",
       "\n",
       "          220       221       222      223  224  \n",
       "0    -12.5660  12.47900  -5.33980   8.4668    0  \n",
       "1     -6.9800   5.52720  -2.99760   5.1632    0  \n",
       "2    -13.1390  -0.76258 -12.67400   8.3249    0  \n",
       "3     -2.8788   3.88980  -2.98890  10.5550    0  \n",
       "4     -3.6002   9.22810   1.64660   5.5657    0  \n",
       "...       ...       ...       ...      ...  ...  \n",
       "998   -3.7831  10.61600   0.19387   3.3848    0  \n",
       "999  -11.1950   5.72760  -5.52740   8.6371    0  \n",
       "1000   4.6367   4.72840   4.04580   1.3631    0  \n",
       "1001  -6.4246   7.23320   1.47340   3.3242    0  \n",
       "1002  -3.3646   5.51940   3.01460  10.4880    0  \n",
       "\n",
       "[1003 rows x 225 columns]"
      ],
      "text/html": "<div>\n<style scoped>\n    .dataframe tbody tr th:only-of-type {\n        vertical-align: middle;\n    }\n\n    .dataframe tbody tr th {\n        vertical-align: top;\n    }\n\n    .dataframe thead th {\n        text-align: right;\n    }\n</style>\n<table border=\"1\" class=\"dataframe\">\n  <thead>\n    <tr style=\"text-align: right;\">\n      <th></th>\n      <th>0</th>\n      <th>1</th>\n      <th>2</th>\n      <th>3</th>\n      <th>4</th>\n      <th>5</th>\n      <th>6</th>\n      <th>7</th>\n      <th>8</th>\n      <th>9</th>\n      <th>...</th>\n      <th>215</th>\n      <th>216</th>\n      <th>217</th>\n      <th>218</th>\n      <th>219</th>\n      <th>220</th>\n      <th>221</th>\n      <th>222</th>\n      <th>223</th>\n      <th>224</th>\n    </tr>\n  </thead>\n  <tbody>\n    <tr>\n      <th>0</th>\n      <td>0</td>\n      <td>-10.39600</td>\n      <td>1.3250</td>\n      <td>14.2230</td>\n      <td>-2.39230</td>\n      <td>7.98940</td>\n      <td>-8.3335</td>\n      <td>-6.07130</td>\n      <td>-1.8244</td>\n      <td>3.937200</td>\n      <td>...</td>\n      <td>0.86534</td>\n      <td>-0.74259</td>\n      <td>3.58890</td>\n      <td>1.99990</td>\n      <td>-12.0020</td>\n      <td>-12.5660</td>\n      <td>12.47900</td>\n      <td>-5.33980</td>\n      <td>8.4668</td>\n      <td>0</td>\n    </tr>\n    <tr>\n      <th>1</th>\n      <td>0</td>\n      <td>-7.05970</td>\n      <td>-8.1504</td>\n      <td>10.4730</td>\n      <td>-2.64040</td>\n      <td>0.88428</td>\n      <td>-7.0996</td>\n      <td>-9.61850</td>\n      <td>-2.7376</td>\n      <td>-0.053907</td>\n      <td>...</td>\n      <td>7.23770</td>\n      <td>2.23570</td>\n      <td>4.51860</td>\n      <td>1.51590</td>\n      <td>-7.8566</td>\n      <td>-6.9800</td>\n      <td>5.52720</td>\n      <td>-2.99760</td>\n      <td>5.1632</td>\n      <td>0</td>\n    </tr>\n    <tr>\n      <th>2</th>\n      <td>0</td>\n      <td>-3.21090</td>\n      <td>1.1924</td>\n      <td>15.5370</td>\n      <td>-2.70360</td>\n      <td>-2.89870</td>\n      <td>-18.0500</td>\n      <td>-29.72300</td>\n      <td>10.0080</td>\n      <td>11.842000</td>\n      <td>...</td>\n      <td>0.45386</td>\n      <td>10.04800</td>\n      <td>9.99430</td>\n      <td>-0.32299</td>\n      <td>-12.4430</td>\n      <td>-13.1390</td>\n      <td>-0.76258</td>\n      <td>-12.67400</td>\n      <td>8.3249</td>\n      <td>0</td>\n    </tr>\n    <tr>\n      <th>3</th>\n      <td>0</td>\n      <td>-0.77747</td>\n      <td>-13.3280</td>\n      <td>12.0090</td>\n      <td>-0.29917</td>\n      <td>-3.40240</td>\n      <td>-7.7466</td>\n      <td>-14.89300</td>\n      <td>3.8670</td>\n      <td>0.468460</td>\n      <td>...</td>\n      <td>6.70260</td>\n      <td>6.86530</td>\n      <td>-2.76830</td>\n      <td>7.78940</td>\n      <td>-11.8560</td>\n      <td>-2.8788</td>\n      <td>3.88980</td>\n      <td>-2.98890</td>\n      <td>10.5550</td>\n      <td>0</td>\n    </tr>\n    <tr>\n      <th>4</th>\n      <td>0</td>\n      <td>-7.64220</td>\n      <td>-1.6479</td>\n      <td>15.5950</td>\n      <td>-7.02200</td>\n      <td>4.30600</td>\n      <td>-1.2868</td>\n      <td>-6.85410</td>\n      <td>-1.8923</td>\n      <td>-0.804530</td>\n      <td>...</td>\n      <td>5.44630</td>\n      <td>8.13370</td>\n      <td>1.78790</td>\n      <td>5.43310</td>\n      <td>-5.6729</td>\n      <td>-3.6002</td>\n      <td>9.22810</td>\n      <td>1.64660</td>\n      <td>5.5657</td>\n      <td>0</td>\n    </tr>\n    <tr>\n      <th>...</th>\n      <td>...</td>\n      <td>...</td>\n      <td>...</td>\n      <td>...</td>\n      <td>...</td>\n      <td>...</td>\n      <td>...</td>\n      <td>...</td>\n      <td>...</td>\n      <td>...</td>\n      <td>...</td>\n      <td>...</td>\n      <td>...</td>\n      <td>...</td>\n      <td>...</td>\n      <td>...</td>\n      <td>...</td>\n      <td>...</td>\n      <td>...</td>\n      <td>...</td>\n      <td>...</td>\n    </tr>\n    <tr>\n      <th>998</th>\n      <td>0</td>\n      <td>-5.36860</td>\n      <td>-7.6809</td>\n      <td>20.6790</td>\n      <td>-4.09760</td>\n      <td>3.61610</td>\n      <td>-6.4457</td>\n      <td>-20.03100</td>\n      <td>2.5331</td>\n      <td>-0.052966</td>\n      <td>...</td>\n      <td>1.48830</td>\n      <td>-2.25540</td>\n      <td>0.26198</td>\n      <td>13.01500</td>\n      <td>-7.7512</td>\n      <td>-3.7831</td>\n      <td>10.61600</td>\n      <td>0.19387</td>\n      <td>3.3848</td>\n      <td>0</td>\n    </tr>\n    <tr>\n      <th>999</th>\n      <td>0</td>\n      <td>-8.45280</td>\n      <td>2.5526</td>\n      <td>13.7820</td>\n      <td>-7.28460</td>\n      <td>-2.46680</td>\n      <td>-13.7460</td>\n      <td>-20.39000</td>\n      <td>5.2821</td>\n      <td>-0.599610</td>\n      <td>...</td>\n      <td>3.64330</td>\n      <td>6.77920</td>\n      <td>6.12020</td>\n      <td>1.52980</td>\n      <td>-9.8249</td>\n      <td>-11.1950</td>\n      <td>5.72760</td>\n      <td>-5.52740</td>\n      <td>8.6371</td>\n      <td>0</td>\n    </tr>\n    <tr>\n      <th>1000</th>\n      <td>0</td>\n      <td>-5.73310</td>\n      <td>8.2898</td>\n      <td>10.3600</td>\n      <td>-3.88710</td>\n      <td>2.10990</td>\n      <td>-2.9118</td>\n      <td>-0.13056</td>\n      <td>-3.3337</td>\n      <td>-2.258500</td>\n      <td>...</td>\n      <td>-5.01590</td>\n      <td>1.46900</td>\n      <td>-0.68062</td>\n      <td>5.03440</td>\n      <td>-8.3454</td>\n      <td>4.6367</td>\n      <td>4.72840</td>\n      <td>4.04580</td>\n      <td>1.3631</td>\n      <td>0</td>\n    </tr>\n    <tr>\n      <th>1001</th>\n      <td>0</td>\n      <td>-6.98810</td>\n      <td>-6.1590</td>\n      <td>7.3031</td>\n      <td>-6.30940</td>\n      <td>1.97910</td>\n      <td>-3.5481</td>\n      <td>-19.13000</td>\n      <td>5.2046</td>\n      <td>-1.977800</td>\n      <td>...</td>\n      <td>4.00110</td>\n      <td>6.67650</td>\n      <td>-5.84130</td>\n      <td>7.86550</td>\n      <td>-5.2188</td>\n      <td>-6.4246</td>\n      <td>7.23320</td>\n      <td>1.47340</td>\n      <td>3.3242</td>\n      <td>0</td>\n    </tr>\n    <tr>\n      <th>1002</th>\n      <td>0</td>\n      <td>-5.70150</td>\n      <td>1.9827</td>\n      <td>4.2060</td>\n      <td>-1.79980</td>\n      <td>6.12150</td>\n      <td>-3.7097</td>\n      <td>-3.89220</td>\n      <td>-2.5807</td>\n      <td>-2.373600</td>\n      <td>...</td>\n      <td>5.36800</td>\n      <td>2.33710</td>\n      <td>-6.99700</td>\n      <td>3.69340</td>\n      <td>-9.2893</td>\n      <td>-3.3646</td>\n      <td>5.51940</td>\n      <td>3.01460</td>\n      <td>10.4880</td>\n      <td>0</td>\n    </tr>\n  </tbody>\n</table>\n<p>1003 rows × 225 columns</p>\n</div>"
     },
     "metadata": {},
     "execution_count": 3
    }
   ],
   "source": [
    "data_path = '/home/sd20/workspace/data/HCP/'\n",
    "filename = 'netmats_ICA15/netmats1.txt'\n",
    "file_path = os.path.join(data_path, filename)\n",
    "\n",
    "df = pd.read_csv(file_path, delimiter = \" \",header=None)\n",
    "df\n",
    "\n"
   ]
  },
  {
   "cell_type": "code",
   "execution_count": 4,
   "metadata": {},
   "outputs": [
    {
     "output_type": "stream",
     "name": "stdout",
     "text": [
      "(225,)\n-10.396 -10.396\n(15, 15)\n"
     ]
    }
   ],
   "source": [
    "subject_0 = df.iloc[0].values\n",
    "print(subject_0.shape)\n",
    "print(subject_0[1], subject_0[15])\n",
    "subject_0 = np.reshape(subject_0,(15,15))\n",
    "print(subject_0.shape)\n"
   ]
  },
  {
   "cell_type": "code",
   "execution_count": 5,
   "metadata": {},
   "outputs": [
    {
     "output_type": "execute_result",
     "data": {
      "text/plain": [
       "<matplotlib.colorbar.Colorbar at 0x7fad7022f150>"
      ]
     },
     "metadata": {},
     "execution_count": 5
    },
    {
     "output_type": "display_data",
     "data": {
      "text/plain": "<Figure size 720x720 with 2 Axes>",
      "image/svg+xml": "<?xml version=\"1.0\" encoding=\"utf-8\" standalone=\"no\"?>\n<!DOCTYPE svg PUBLIC \"-//W3C//DTD SVG 1.1//EN\"\n  \"http://www.w3.org/Graphics/SVG/1.1/DTD/svg11.dtd\">\n<!-- Created with matplotlib (https://matplotlib.org/) -->\n<svg height=\"558pt\" version=\"1.1\" viewBox=\"0 0 563.709687 558\" width=\"563.709687pt\" xmlns=\"http://www.w3.org/2000/svg\" xmlns:xlink=\"http://www.w3.org/1999/xlink\">\n <metadata>\n  <rdf:RDF xmlns:cc=\"http://creativecommons.org/ns#\" xmlns:dc=\"http://purl.org/dc/elements/1.1/\" xmlns:rdf=\"http://www.w3.org/1999/02/22-rdf-syntax-ns#\">\n   <cc:Work>\n    <dc:type rdf:resource=\"http://purl.org/dc/dcmitype/StillImage\"/>\n    <dc:date>2021-05-11T13:22:35.350272</dc:date>\n    <dc:format>image/svg+xml</dc:format>\n    <dc:creator>\n     <cc:Agent>\n      <dc:title>Matplotlib v3.3.4, https://matplotlib.org/</dc:title>\n     </cc:Agent>\n    </dc:creator>\n   </cc:Work>\n  </rdf:RDF>\n </metadata>\n <defs>\n  <style type=\"text/css\">*{stroke-linecap:butt;stroke-linejoin:round;}</style>\n </defs>\n <g id=\"figure_1\">\n  <g id=\"patch_1\">\n   <path d=\"M 0 558 \nL 563.709687 558 \nL 563.709687 0 \nL 0 0 \nz\n\" style=\"fill:none;\"/>\n  </g>\n  <g id=\"axes_1\">\n   <g id=\"patch_2\">\n    <path d=\"M 26.925 502.2 \nL 473.325 502.2 \nL 473.325 55.8 \nL 26.925 55.8 \nz\n\" style=\"fill:#ffffff;\"/>\n   </g>\n   <g clip-path=\"url(#p9489e78cc7)\">\n    <image height=\"447\" id=\"image8b06b430c6\" transform=\"scale(1 -1)translate(0 -447)\" width=\"447\" x=\"26.925\" xlink:href=\"data:image/png;base64,\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\" y=\"-55.2\"/>\n   </g>\n   <g id=\"matplotlib.axis_1\">\n    <g id=\"xtick_1\">\n     <g id=\"line2d_1\">\n      <defs>\n       <path d=\"M 0 0 \nL 0 3.5 \n\" id=\"mec904b08de\" style=\"stroke:#000000;stroke-width:0.8;\"/>\n      </defs>\n      <g>\n       <use style=\"stroke:#000000;stroke-width:0.8;\" x=\"41.805\" xlink:href=\"#mec904b08de\" y=\"502.2\"/>\n      </g>\n     </g>\n     <g id=\"text_1\">\n      <!-- 0 -->\n      <g transform=\"translate(38.62375 516.798437)scale(0.1 -0.1)\">\n       <defs>\n        <path d=\"M 31.78125 66.40625 \nQ 24.171875 66.40625 20.328125 58.90625 \nQ 16.5 51.421875 16.5 36.375 \nQ 16.5 21.390625 20.328125 13.890625 \nQ 24.171875 6.390625 31.78125 6.390625 \nQ 39.453125 6.390625 43.28125 13.890625 \nQ 47.125 21.390625 47.125 36.375 \nQ 47.125 51.421875 43.28125 58.90625 \nQ 39.453125 66.40625 31.78125 66.40625 \nz\nM 31.78125 74.21875 \nQ 44.046875 74.21875 50.515625 64.515625 \nQ 56.984375 54.828125 56.984375 36.375 \nQ 56.984375 17.96875 50.515625 8.265625 \nQ 44.046875 -1.421875 31.78125 -1.421875 \nQ 19.53125 -1.421875 13.0625 8.265625 \nQ 6.59375 17.96875 6.59375 36.375 \nQ 6.59375 54.828125 13.0625 64.515625 \nQ 19.53125 74.21875 31.78125 74.21875 \nz\n\" id=\"DejaVuSans-48\"/>\n       </defs>\n       <use xlink:href=\"#DejaVuSans-48\"/>\n      </g>\n     </g>\n    </g>\n    <g id=\"xtick_2\">\n     <g id=\"line2d_2\">\n      <g>\n       <use style=\"stroke:#000000;stroke-width:0.8;\" x=\"101.325\" xlink:href=\"#mec904b08de\" y=\"502.2\"/>\n      </g>\n     </g>\n     <g id=\"text_2\">\n      <!-- 2 -->\n      <g transform=\"translate(98.14375 516.798437)scale(0.1 -0.1)\">\n       <defs>\n        <path d=\"M 19.1875 8.296875 \nL 53.609375 8.296875 \nL 53.609375 0 \nL 7.328125 0 \nL 7.328125 8.296875 \nQ 12.9375 14.109375 22.625 23.890625 \nQ 32.328125 33.6875 34.8125 36.53125 \nQ 39.546875 41.84375 41.421875 45.53125 \nQ 43.3125 49.21875 43.3125 52.78125 \nQ 43.3125 58.59375 39.234375 62.25 \nQ 35.15625 65.921875 28.609375 65.921875 \nQ 23.96875 65.921875 18.8125 64.3125 \nQ 13.671875 62.703125 7.8125 59.421875 \nL 7.8125 69.390625 \nQ 13.765625 71.78125 18.9375 73 \nQ 24.125 74.21875 28.421875 74.21875 \nQ 39.75 74.21875 46.484375 68.546875 \nQ 53.21875 62.890625 53.21875 53.421875 \nQ 53.21875 48.921875 51.53125 44.890625 \nQ 49.859375 40.875 45.40625 35.40625 \nQ 44.1875 33.984375 37.640625 27.21875 \nQ 31.109375 20.453125 19.1875 8.296875 \nz\n\" id=\"DejaVuSans-50\"/>\n       </defs>\n       <use xlink:href=\"#DejaVuSans-50\"/>\n      </g>\n     </g>\n    </g>\n    <g id=\"xtick_3\">\n     <g id=\"line2d_3\">\n      <g>\n       <use style=\"stroke:#000000;stroke-width:0.8;\" x=\"160.845\" xlink:href=\"#mec904b08de\" y=\"502.2\"/>\n      </g>\n     </g>\n     <g id=\"text_3\">\n      <!-- 4 -->\n      <g transform=\"translate(157.66375 516.798437)scale(0.1 -0.1)\">\n       <defs>\n        <path d=\"M 37.796875 64.3125 \nL 12.890625 25.390625 \nL 37.796875 25.390625 \nz\nM 35.203125 72.90625 \nL 47.609375 72.90625 \nL 47.609375 25.390625 \nL 58.015625 25.390625 \nL 58.015625 17.1875 \nL 47.609375 17.1875 \nL 47.609375 0 \nL 37.796875 0 \nL 37.796875 17.1875 \nL 4.890625 17.1875 \nL 4.890625 26.703125 \nz\n\" id=\"DejaVuSans-52\"/>\n       </defs>\n       <use xlink:href=\"#DejaVuSans-52\"/>\n      </g>\n     </g>\n    </g>\n    <g id=\"xtick_4\">\n     <g id=\"line2d_4\">\n      <g>\n       <use style=\"stroke:#000000;stroke-width:0.8;\" x=\"220.365\" xlink:href=\"#mec904b08de\" y=\"502.2\"/>\n      </g>\n     </g>\n     <g id=\"text_4\">\n      <!-- 6 -->\n      <g transform=\"translate(217.18375 516.798437)scale(0.1 -0.1)\">\n       <defs>\n        <path d=\"M 33.015625 40.375 \nQ 26.375 40.375 22.484375 35.828125 \nQ 18.609375 31.296875 18.609375 23.390625 \nQ 18.609375 15.53125 22.484375 10.953125 \nQ 26.375 6.390625 33.015625 6.390625 \nQ 39.65625 6.390625 43.53125 10.953125 \nQ 47.40625 15.53125 47.40625 23.390625 \nQ 47.40625 31.296875 43.53125 35.828125 \nQ 39.65625 40.375 33.015625 40.375 \nz\nM 52.59375 71.296875 \nL 52.59375 62.3125 \nQ 48.875 64.0625 45.09375 64.984375 \nQ 41.3125 65.921875 37.59375 65.921875 \nQ 27.828125 65.921875 22.671875 59.328125 \nQ 17.53125 52.734375 16.796875 39.40625 \nQ 19.671875 43.65625 24.015625 45.921875 \nQ 28.375 48.1875 33.59375 48.1875 \nQ 44.578125 48.1875 50.953125 41.515625 \nQ 57.328125 34.859375 57.328125 23.390625 \nQ 57.328125 12.15625 50.6875 5.359375 \nQ 44.046875 -1.421875 33.015625 -1.421875 \nQ 20.359375 -1.421875 13.671875 8.265625 \nQ 6.984375 17.96875 6.984375 36.375 \nQ 6.984375 53.65625 15.1875 63.9375 \nQ 23.390625 74.21875 37.203125 74.21875 \nQ 40.921875 74.21875 44.703125 73.484375 \nQ 48.484375 72.75 52.59375 71.296875 \nz\n\" id=\"DejaVuSans-54\"/>\n       </defs>\n       <use xlink:href=\"#DejaVuSans-54\"/>\n      </g>\n     </g>\n    </g>\n    <g id=\"xtick_5\">\n     <g id=\"line2d_5\">\n      <g>\n       <use style=\"stroke:#000000;stroke-width:0.8;\" x=\"279.885\" xlink:href=\"#mec904b08de\" y=\"502.2\"/>\n      </g>\n     </g>\n     <g id=\"text_5\">\n      <!-- 8 -->\n      <g transform=\"translate(276.70375 516.798437)scale(0.1 -0.1)\">\n       <defs>\n        <path d=\"M 31.78125 34.625 \nQ 24.75 34.625 20.71875 30.859375 \nQ 16.703125 27.09375 16.703125 20.515625 \nQ 16.703125 13.921875 20.71875 10.15625 \nQ 24.75 6.390625 31.78125 6.390625 \nQ 38.8125 6.390625 42.859375 10.171875 \nQ 46.921875 13.96875 46.921875 20.515625 \nQ 46.921875 27.09375 42.890625 30.859375 \nQ 38.875 34.625 31.78125 34.625 \nz\nM 21.921875 38.8125 \nQ 15.578125 40.375 12.03125 44.71875 \nQ 8.5 49.078125 8.5 55.328125 \nQ 8.5 64.0625 14.71875 69.140625 \nQ 20.953125 74.21875 31.78125 74.21875 \nQ 42.671875 74.21875 48.875 69.140625 \nQ 55.078125 64.0625 55.078125 55.328125 \nQ 55.078125 49.078125 51.53125 44.71875 \nQ 48 40.375 41.703125 38.8125 \nQ 48.828125 37.15625 52.796875 32.3125 \nQ 56.78125 27.484375 56.78125 20.515625 \nQ 56.78125 9.90625 50.3125 4.234375 \nQ 43.84375 -1.421875 31.78125 -1.421875 \nQ 19.734375 -1.421875 13.25 4.234375 \nQ 6.78125 9.90625 6.78125 20.515625 \nQ 6.78125 27.484375 10.78125 32.3125 \nQ 14.796875 37.15625 21.921875 38.8125 \nz\nM 18.3125 54.390625 \nQ 18.3125 48.734375 21.84375 45.5625 \nQ 25.390625 42.390625 31.78125 42.390625 \nQ 38.140625 42.390625 41.71875 45.5625 \nQ 45.3125 48.734375 45.3125 54.390625 \nQ 45.3125 60.0625 41.71875 63.234375 \nQ 38.140625 66.40625 31.78125 66.40625 \nQ 25.390625 66.40625 21.84375 63.234375 \nQ 18.3125 60.0625 18.3125 54.390625 \nz\n\" id=\"DejaVuSans-56\"/>\n       </defs>\n       <use xlink:href=\"#DejaVuSans-56\"/>\n      </g>\n     </g>\n    </g>\n    <g id=\"xtick_6\">\n     <g id=\"line2d_6\">\n      <g>\n       <use style=\"stroke:#000000;stroke-width:0.8;\" x=\"339.405\" xlink:href=\"#mec904b08de\" y=\"502.2\"/>\n      </g>\n     </g>\n     <g id=\"text_6\">\n      <!-- 10 -->\n      <g transform=\"translate(333.0425 516.798437)scale(0.1 -0.1)\">\n       <defs>\n        <path d=\"M 12.40625 8.296875 \nL 28.515625 8.296875 \nL 28.515625 63.921875 \nL 10.984375 60.40625 \nL 10.984375 69.390625 \nL 28.421875 72.90625 \nL 38.28125 72.90625 \nL 38.28125 8.296875 \nL 54.390625 8.296875 \nL 54.390625 0 \nL 12.40625 0 \nz\n\" id=\"DejaVuSans-49\"/>\n       </defs>\n       <use xlink:href=\"#DejaVuSans-49\"/>\n       <use x=\"63.623047\" xlink:href=\"#DejaVuSans-48\"/>\n      </g>\n     </g>\n    </g>\n    <g id=\"xtick_7\">\n     <g id=\"line2d_7\">\n      <g>\n       <use style=\"stroke:#000000;stroke-width:0.8;\" x=\"398.925\" xlink:href=\"#mec904b08de\" y=\"502.2\"/>\n      </g>\n     </g>\n     <g id=\"text_7\">\n      <!-- 12 -->\n      <g transform=\"translate(392.5625 516.798437)scale(0.1 -0.1)\">\n       <use xlink:href=\"#DejaVuSans-49\"/>\n       <use x=\"63.623047\" xlink:href=\"#DejaVuSans-50\"/>\n      </g>\n     </g>\n    </g>\n    <g id=\"xtick_8\">\n     <g id=\"line2d_8\">\n      <g>\n       <use style=\"stroke:#000000;stroke-width:0.8;\" x=\"458.445\" xlink:href=\"#mec904b08de\" y=\"502.2\"/>\n      </g>\n     </g>\n     <g id=\"text_8\">\n      <!-- 14 -->\n      <g transform=\"translate(452.0825 516.798437)scale(0.1 -0.1)\">\n       <use xlink:href=\"#DejaVuSans-49\"/>\n       <use x=\"63.623047\" xlink:href=\"#DejaVuSans-52\"/>\n      </g>\n     </g>\n    </g>\n   </g>\n   <g id=\"matplotlib.axis_2\">\n    <g id=\"ytick_1\">\n     <g id=\"line2d_9\">\n      <defs>\n       <path d=\"M 0 0 \nL -3.5 0 \n\" id=\"mad1002efb3\" style=\"stroke:#000000;stroke-width:0.8;\"/>\n      </defs>\n      <g>\n       <use style=\"stroke:#000000;stroke-width:0.8;\" x=\"26.925\" xlink:href=\"#mad1002efb3\" y=\"70.68\"/>\n      </g>\n     </g>\n     <g id=\"text_9\">\n      <!-- 0 -->\n      <g transform=\"translate(13.5625 74.479219)scale(0.1 -0.1)\">\n       <use xlink:href=\"#DejaVuSans-48\"/>\n      </g>\n     </g>\n    </g>\n    <g id=\"ytick_2\">\n     <g id=\"line2d_10\">\n      <g>\n       <use style=\"stroke:#000000;stroke-width:0.8;\" x=\"26.925\" xlink:href=\"#mad1002efb3\" y=\"130.2\"/>\n      </g>\n     </g>\n     <g id=\"text_10\">\n      <!-- 2 -->\n      <g transform=\"translate(13.5625 133.999219)scale(0.1 -0.1)\">\n       <use xlink:href=\"#DejaVuSans-50\"/>\n      </g>\n     </g>\n    </g>\n    <g id=\"ytick_3\">\n     <g id=\"line2d_11\">\n      <g>\n       <use style=\"stroke:#000000;stroke-width:0.8;\" x=\"26.925\" xlink:href=\"#mad1002efb3\" y=\"189.72\"/>\n      </g>\n     </g>\n     <g id=\"text_11\">\n      <!-- 4 -->\n      <g transform=\"translate(13.5625 193.519219)scale(0.1 -0.1)\">\n       <use xlink:href=\"#DejaVuSans-52\"/>\n      </g>\n     </g>\n    </g>\n    <g id=\"ytick_4\">\n     <g id=\"line2d_12\">\n      <g>\n       <use style=\"stroke:#000000;stroke-width:0.8;\" x=\"26.925\" xlink:href=\"#mad1002efb3\" y=\"249.24\"/>\n      </g>\n     </g>\n     <g id=\"text_12\">\n      <!-- 6 -->\n      <g transform=\"translate(13.5625 253.039219)scale(0.1 -0.1)\">\n       <use xlink:href=\"#DejaVuSans-54\"/>\n      </g>\n     </g>\n    </g>\n    <g id=\"ytick_5\">\n     <g id=\"line2d_13\">\n      <g>\n       <use style=\"stroke:#000000;stroke-width:0.8;\" x=\"26.925\" xlink:href=\"#mad1002efb3\" y=\"308.76\"/>\n      </g>\n     </g>\n     <g id=\"text_13\">\n      <!-- 8 -->\n      <g transform=\"translate(13.5625 312.559219)scale(0.1 -0.1)\">\n       <use xlink:href=\"#DejaVuSans-56\"/>\n      </g>\n     </g>\n    </g>\n    <g id=\"ytick_6\">\n     <g id=\"line2d_14\">\n      <g>\n       <use style=\"stroke:#000000;stroke-width:0.8;\" x=\"26.925\" xlink:href=\"#mad1002efb3\" y=\"368.28\"/>\n      </g>\n     </g>\n     <g id=\"text_14\">\n      <!-- 10 -->\n      <g transform=\"translate(7.2 372.079219)scale(0.1 -0.1)\">\n       <use xlink:href=\"#DejaVuSans-49\"/>\n       <use x=\"63.623047\" xlink:href=\"#DejaVuSans-48\"/>\n      </g>\n     </g>\n    </g>\n    <g id=\"ytick_7\">\n     <g id=\"line2d_15\">\n      <g>\n       <use style=\"stroke:#000000;stroke-width:0.8;\" x=\"26.925\" xlink:href=\"#mad1002efb3\" y=\"427.8\"/>\n      </g>\n     </g>\n     <g id=\"text_15\">\n      <!-- 12 -->\n      <g transform=\"translate(7.2 431.599219)scale(0.1 -0.1)\">\n       <use xlink:href=\"#DejaVuSans-49\"/>\n       <use x=\"63.623047\" xlink:href=\"#DejaVuSans-50\"/>\n      </g>\n     </g>\n    </g>\n    <g id=\"ytick_8\">\n     <g id=\"line2d_16\">\n      <g>\n       <use style=\"stroke:#000000;stroke-width:0.8;\" x=\"26.925\" xlink:href=\"#mad1002efb3\" y=\"487.32\"/>\n      </g>\n     </g>\n     <g id=\"text_16\">\n      <!-- 14 -->\n      <g transform=\"translate(7.2 491.119219)scale(0.1 -0.1)\">\n       <use xlink:href=\"#DejaVuSans-49\"/>\n       <use x=\"63.623047\" xlink:href=\"#DejaVuSans-52\"/>\n      </g>\n     </g>\n    </g>\n   </g>\n   <g id=\"patch_3\">\n    <path d=\"M 26.925 502.2 \nL 26.925 55.8 \n\" style=\"fill:none;stroke:#000000;stroke-linecap:square;stroke-linejoin:miter;stroke-width:0.8;\"/>\n   </g>\n   <g id=\"patch_4\">\n    <path d=\"M 473.325 502.2 \nL 473.325 55.8 \n\" style=\"fill:none;stroke:#000000;stroke-linecap:square;stroke-linejoin:miter;stroke-width:0.8;\"/>\n   </g>\n   <g id=\"patch_5\">\n    <path d=\"M 26.925 502.2 \nL 473.325 502.2 \n\" style=\"fill:none;stroke:#000000;stroke-linecap:square;stroke-linejoin:miter;stroke-width:0.8;\"/>\n   </g>\n   <g id=\"patch_6\">\n    <path d=\"M 26.925 55.8 \nL 473.325 55.8 \n\" style=\"fill:none;stroke:#000000;stroke-linecap:square;stroke-linejoin:miter;stroke-width:0.8;\"/>\n   </g>\n  </g>\n  <g id=\"axes_2\">\n   <g id=\"patch_7\">\n    <path clip-path=\"url(#p699a1f9e2f)\" d=\"M 501.225 550.8 \nL 501.225 548.676562 \nL 501.225 9.323437 \nL 501.225 7.2 \nL 528.405 7.2 \nL 528.405 9.323437 \nL 528.405 548.676562 \nL 528.405 550.8 \nz\n\" style=\"fill:#ffffff;stroke:#ffffff;stroke-linejoin:miter;stroke-width:0.01;\"/>\n   </g>\n   <image height=\"544\" id=\"image1fe3a41b62\" transform=\"scale(1 -1)translate(0 -544)\" width=\"27\" x=\"501\" xlink:href=\"data:image/png;base64,\niVBORw0KGgoAAAANSUhEUgAAABsAAAIgCAYAAAB09hISAAACnUlEQVR4nO2c0W3cUBADJZ1KcwnuvxRfOsiPBgQ0mGmA4JG7+yAjOX/O3+8x4loJHcdx3Me509s6O69zJlZmCGWGMHZmzWxdEOnPeJ+XtvrazI4yA2gRI9xnxxOg44mQM4RODELOEMzOrCfGm1mfJhCqPkLOEMzOmjOArbOv1dm6+juxqo+QM4TWFUIbBCFn7xNrqBGqPoK5jTtjtZHh/rZBANTHcydWQRDEi1h8PLWLWJyZeM52Ym3994mpC7IT6+9nCLURocwQvCfGm1lDjeAtSEON0JwhqD/b7sSas/eJtYgRGmqEMkMoM4QyQ1Afz51Yf2VCUGe2EyszBLGz2kggPp4VhKDMEMSZeZ3VRoJxZkMx8fH0FsTrrHVFUGYI4sy8zrRtrCAIYmfa6pcZQpkhiJ1p21hBEvsv3up72yh2VhsJyux9YuKCHOfuy37VR1C3cSdWGxHEmWmddWIQvEPtFfMOtbeN4g3ibWPOCNSLuKF+TicGoTYibJ0N/61bbWTwtrGfEeE+jqr/nPUiLrPnlBmCOrOdmPp4WqvvHWpt9cWZmRexNbNhZGX2QjHvzyg+MZc4s5w9pzlDaM4QxMfz0n7cbKgJGmqEMkMoMwTv1q/6CObq5wwgZwjeRWzOzOqsnxHB7Kx1BbB29jcTKzOE5gxBfTytQ/2xFkQ91NY2atfV/amNALXxfWLqE1P1n7NexGX2nPUG0WamfRZoM+t1hdCLGKHMENSZWZ2JHzzazHoWEPRuROhrAYL4C493EffgIWjO3iemXsRaZ9rMesoR9B0Eod2IID6e4upbX1fi41kbCcoMQezssv7r/gqCcC/V1u/Gndi6jTtrtRHh/gz/n5V1ZlZn2jmrIAjqod7p1UaE+3N6M5M6m4r9A8rbj0KdYkDxAAAAAElFTkSuQmCC\" y=\"-6\"/>\n   <g id=\"matplotlib.axis_3\"/>\n   <g id=\"matplotlib.axis_4\">\n    <g id=\"ytick_9\">\n     <g id=\"line2d_17\">\n      <defs>\n       <path d=\"M 0 0 \nL 3.5 0 \n\" id=\"mb78d8fd240\" style=\"stroke:#000000;stroke-width:0.8;\"/>\n      </defs>\n      <g>\n       <use style=\"stroke:#000000;stroke-width:0.8;\" x=\"528.405\" xlink:href=\"#mb78d8fd240\" y=\"538.196234\"/>\n      </g>\n     </g>\n     <g id=\"text_17\">\n      <!-- −25 -->\n      <g transform=\"translate(535.405 541.995453)scale(0.1 -0.1)\">\n       <defs>\n        <path d=\"M 10.59375 35.5 \nL 73.1875 35.5 \nL 73.1875 27.203125 \nL 10.59375 27.203125 \nz\n\" id=\"DejaVuSans-8722\"/>\n        <path d=\"M 10.796875 72.90625 \nL 49.515625 72.90625 \nL 49.515625 64.59375 \nL 19.828125 64.59375 \nL 19.828125 46.734375 \nQ 21.96875 47.46875 24.109375 47.828125 \nQ 26.265625 48.1875 28.421875 48.1875 \nQ 40.625 48.1875 47.75 41.5 \nQ 54.890625 34.8125 54.890625 23.390625 \nQ 54.890625 11.625 47.5625 5.09375 \nQ 40.234375 -1.421875 26.90625 -1.421875 \nQ 22.3125 -1.421875 17.546875 -0.640625 \nQ 12.796875 0.140625 7.71875 1.703125 \nL 7.71875 11.625 \nQ 12.109375 9.234375 16.796875 8.0625 \nQ 21.484375 6.890625 26.703125 6.890625 \nQ 35.15625 6.890625 40.078125 11.328125 \nQ 45.015625 15.765625 45.015625 23.390625 \nQ 45.015625 31 40.078125 35.4375 \nQ 35.15625 39.890625 26.703125 39.890625 \nQ 22.75 39.890625 18.8125 39.015625 \nQ 14.890625 38.140625 10.796875 36.28125 \nz\n\" id=\"DejaVuSans-53\"/>\n       </defs>\n       <use xlink:href=\"#DejaVuSans-8722\"/>\n       <use x=\"83.789062\" xlink:href=\"#DejaVuSans-50\"/>\n       <use x=\"147.412109\" xlink:href=\"#DejaVuSans-53\"/>\n      </g>\n     </g>\n    </g>\n    <g id=\"ytick_10\">\n     <g id=\"line2d_18\">\n      <g>\n       <use style=\"stroke:#000000;stroke-width:0.8;\" x=\"528.405\" xlink:href=\"#mb78d8fd240\" y=\"470.506839\"/>\n      </g>\n     </g>\n     <g id=\"text_18\">\n      <!-- −20 -->\n      <g transform=\"translate(535.405 474.306057)scale(0.1 -0.1)\">\n       <use xlink:href=\"#DejaVuSans-8722\"/>\n       <use x=\"83.789062\" xlink:href=\"#DejaVuSans-50\"/>\n       <use x=\"147.412109\" xlink:href=\"#DejaVuSans-48\"/>\n      </g>\n     </g>\n    </g>\n    <g id=\"ytick_11\">\n     <g id=\"line2d_19\">\n      <g>\n       <use style=\"stroke:#000000;stroke-width:0.8;\" x=\"528.405\" xlink:href=\"#mb78d8fd240\" y=\"402.817443\"/>\n      </g>\n     </g>\n     <g id=\"text_19\">\n      <!-- −15 -->\n      <g transform=\"translate(535.405 406.616662)scale(0.1 -0.1)\">\n       <use xlink:href=\"#DejaVuSans-8722\"/>\n       <use x=\"83.789062\" xlink:href=\"#DejaVuSans-49\"/>\n       <use x=\"147.412109\" xlink:href=\"#DejaVuSans-53\"/>\n      </g>\n     </g>\n    </g>\n    <g id=\"ytick_12\">\n     <g id=\"line2d_20\">\n      <g>\n       <use style=\"stroke:#000000;stroke-width:0.8;\" x=\"528.405\" xlink:href=\"#mb78d8fd240\" y=\"335.128047\"/>\n      </g>\n     </g>\n     <g id=\"text_20\">\n      <!-- −10 -->\n      <g transform=\"translate(535.405 338.927266)scale(0.1 -0.1)\">\n       <use xlink:href=\"#DejaVuSans-8722\"/>\n       <use x=\"83.789062\" xlink:href=\"#DejaVuSans-49\"/>\n       <use x=\"147.412109\" xlink:href=\"#DejaVuSans-48\"/>\n      </g>\n     </g>\n    </g>\n    <g id=\"ytick_13\">\n     <g id=\"line2d_21\">\n      <g>\n       <use style=\"stroke:#000000;stroke-width:0.8;\" x=\"528.405\" xlink:href=\"#mb78d8fd240\" y=\"267.438651\"/>\n      </g>\n     </g>\n     <g id=\"text_21\">\n      <!-- −5 -->\n      <g transform=\"translate(535.405 271.23787)scale(0.1 -0.1)\">\n       <use xlink:href=\"#DejaVuSans-8722\"/>\n       <use x=\"83.789062\" xlink:href=\"#DejaVuSans-53\"/>\n      </g>\n     </g>\n    </g>\n    <g id=\"ytick_14\">\n     <g id=\"line2d_22\">\n      <g>\n       <use style=\"stroke:#000000;stroke-width:0.8;\" x=\"528.405\" xlink:href=\"#mb78d8fd240\" y=\"199.749255\"/>\n      </g>\n     </g>\n     <g id=\"text_22\">\n      <!-- 0 -->\n      <g transform=\"translate(535.405 203.548474)scale(0.1 -0.1)\">\n       <use xlink:href=\"#DejaVuSans-48\"/>\n      </g>\n     </g>\n    </g>\n    <g id=\"ytick_15\">\n     <g id=\"line2d_23\">\n      <g>\n       <use style=\"stroke:#000000;stroke-width:0.8;\" x=\"528.405\" xlink:href=\"#mb78d8fd240\" y=\"132.05986\"/>\n      </g>\n     </g>\n     <g id=\"text_23\">\n      <!-- 5 -->\n      <g transform=\"translate(535.405 135.859078)scale(0.1 -0.1)\">\n       <use xlink:href=\"#DejaVuSans-53\"/>\n      </g>\n     </g>\n    </g>\n    <g id=\"ytick_16\">\n     <g id=\"line2d_24\">\n      <g>\n       <use style=\"stroke:#000000;stroke-width:0.8;\" x=\"528.405\" xlink:href=\"#mb78d8fd240\" y=\"64.370464\"/>\n      </g>\n     </g>\n     <g id=\"text_24\">\n      <!-- 10 -->\n      <g transform=\"translate(535.405 68.169682)scale(0.1 -0.1)\">\n       <use xlink:href=\"#DejaVuSans-49\"/>\n       <use x=\"63.623047\" xlink:href=\"#DejaVuSans-48\"/>\n      </g>\n     </g>\n    </g>\n   </g>\n   <g id=\"patch_8\">\n    <path d=\"M 501.225 550.8 \nL 501.225 548.676562 \nL 501.225 9.323437 \nL 501.225 7.2 \nL 528.405 7.2 \nL 528.405 9.323437 \nL 528.405 548.676562 \nL 528.405 550.8 \nz\n\" style=\"fill:none;stroke:#000000;stroke-linejoin:miter;stroke-width:0.8;\"/>\n   </g>\n  </g>\n </g>\n <defs>\n  <clipPath id=\"p9489e78cc7\">\n   <rect height=\"446.4\" width=\"446.4\" x=\"26.925\" y=\"55.8\"/>\n  </clipPath>\n  <clipPath id=\"p699a1f9e2f\">\n   <rect height=\"543.6\" width=\"27.18\" x=\"501.225\" y=\"7.2\"/>\n  </clipPath>\n </defs>\n</svg>\n",
      "image/png": "[encoded data removed]"
     },
     "metadata": {
      "needs_background": "light"
     }
    }
   ],
   "source": [
    "plt.figure(figsize=(10,10))\n",
    "plt.imshow(subject_0)\n",
    "plt.colorbar()"
   ]
  },
  {
   "cell_type": "code",
   "execution_count": 9,
   "metadata": {},
   "outputs": [
    {
     "output_type": "execute_result",
     "data": {
      "text/plain": [
       "<matplotlib.colorbar.Colorbar at 0x7fad6ff26990>"
      ]
     },
     "metadata": {},
     "execution_count": 9
    },
    {
     "output_type": "display_data",
     "data": {
      "text/plain": "<Figure size 720x720 with 2 Axes>",
      "image/svg+xml": "<?xml version=\"1.0\" encoding=\"utf-8\" standalone=\"no\"?>\n<!DOCTYPE svg PUBLIC \"-//W3C//DTD SVG 1.1//EN\"\n  \"http://www.w3.org/Graphics/SVG/1.1/DTD/svg11.dtd\">\n<!-- Created with matplotlib (https://matplotlib.org/) -->\n<svg height=\"558pt\" version=\"1.1\" viewBox=\"0 0 563.709687 558\" width=\"563.709687pt\" xmlns=\"http://www.w3.org/2000/svg\" xmlns:xlink=\"http://www.w3.org/1999/xlink\">\n <metadata>\n  <rdf:RDF xmlns:cc=\"http://creativecommons.org/ns#\" xmlns:dc=\"http://purl.org/dc/elements/1.1/\" xmlns:rdf=\"http://www.w3.org/1999/02/22-rdf-syntax-ns#\">\n   <cc:Work>\n    <dc:type rdf:resource=\"http://purl.org/dc/dcmitype/StillImage\"/>\n    <dc:date>2021-05-11T13:23:37.012638</dc:date>\n    <dc:format>image/svg+xml</dc:format>\n    <dc:creator>\n     <cc:Agent>\n      <dc:title>Matplotlib v3.3.4, https://matplotlib.org/</dc:title>\n     </cc:Agent>\n    </dc:creator>\n   </cc:Work>\n  </rdf:RDF>\n </metadata>\n <defs>\n  <style type=\"text/css\">*{stroke-linecap:butt;stroke-linejoin:round;}</style>\n </defs>\n <g id=\"figure_1\">\n  <g id=\"patch_1\">\n   <path d=\"M 0 558 \nL 563.709687 558 \nL 563.709687 0 \nL 0 0 \nz\n\" style=\"fill:none;\"/>\n  </g>\n  <g id=\"axes_1\">\n   <g id=\"patch_2\">\n    <path d=\"M 26.925 502.2 \nL 473.325 502.2 \nL 473.325 55.8 \nL 26.925 55.8 \nz\n\" style=\"fill:#ffffff;\"/>\n   </g>\n   <g clip-path=\"url(#p484f29fc6b)\">\n    <image height=\"447\" id=\"image9c3d1959d4\" transform=\"scale(1 -1)translate(0 -447)\" width=\"447\" x=\"26.925\" xlink:href=\"data:image/png;base64,\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\" y=\"-55.2\"/>\n   </g>\n   <g id=\"matplotlib.axis_1\">\n    <g id=\"xtick_1\">\n     <g id=\"line2d_1\">\n      <defs>\n       <path d=\"M 0 0 \nL 0 3.5 \n\" id=\"meb1fe2a5e0\" style=\"stroke:#000000;stroke-width:0.8;\"/>\n      </defs>\n      <g>\n       <use style=\"stroke:#000000;stroke-width:0.8;\" x=\"41.805\" xlink:href=\"#meb1fe2a5e0\" y=\"502.2\"/>\n      </g>\n     </g>\n     <g id=\"text_1\">\n      <!-- 0 -->\n      <g transform=\"translate(38.62375 516.798437)scale(0.1 -0.1)\">\n       <defs>\n        <path d=\"M 31.78125 66.40625 \nQ 24.171875 66.40625 20.328125 58.90625 \nQ 16.5 51.421875 16.5 36.375 \nQ 16.5 21.390625 20.328125 13.890625 \nQ 24.171875 6.390625 31.78125 6.390625 \nQ 39.453125 6.390625 43.28125 13.890625 \nQ 47.125 21.390625 47.125 36.375 \nQ 47.125 51.421875 43.28125 58.90625 \nQ 39.453125 66.40625 31.78125 66.40625 \nz\nM 31.78125 74.21875 \nQ 44.046875 74.21875 50.515625 64.515625 \nQ 56.984375 54.828125 56.984375 36.375 \nQ 56.984375 17.96875 50.515625 8.265625 \nQ 44.046875 -1.421875 31.78125 -1.421875 \nQ 19.53125 -1.421875 13.0625 8.265625 \nQ 6.59375 17.96875 6.59375 36.375 \nQ 6.59375 54.828125 13.0625 64.515625 \nQ 19.53125 74.21875 31.78125 74.21875 \nz\n\" id=\"DejaVuSans-48\"/>\n       </defs>\n       <use xlink:href=\"#DejaVuSans-48\"/>\n      </g>\n     </g>\n    </g>\n    <g id=\"xtick_2\">\n     <g id=\"line2d_2\">\n      <g>\n       <use style=\"stroke:#000000;stroke-width:0.8;\" x=\"101.325\" xlink:href=\"#meb1fe2a5e0\" y=\"502.2\"/>\n      </g>\n     </g>\n     <g id=\"text_2\">\n      <!-- 2 -->\n      <g transform=\"translate(98.14375 516.798437)scale(0.1 -0.1)\">\n       <defs>\n        <path d=\"M 19.1875 8.296875 \nL 53.609375 8.296875 \nL 53.609375 0 \nL 7.328125 0 \nL 7.328125 8.296875 \nQ 12.9375 14.109375 22.625 23.890625 \nQ 32.328125 33.6875 34.8125 36.53125 \nQ 39.546875 41.84375 41.421875 45.53125 \nQ 43.3125 49.21875 43.3125 52.78125 \nQ 43.3125 58.59375 39.234375 62.25 \nQ 35.15625 65.921875 28.609375 65.921875 \nQ 23.96875 65.921875 18.8125 64.3125 \nQ 13.671875 62.703125 7.8125 59.421875 \nL 7.8125 69.390625 \nQ 13.765625 71.78125 18.9375 73 \nQ 24.125 74.21875 28.421875 74.21875 \nQ 39.75 74.21875 46.484375 68.546875 \nQ 53.21875 62.890625 53.21875 53.421875 \nQ 53.21875 48.921875 51.53125 44.890625 \nQ 49.859375 40.875 45.40625 35.40625 \nQ 44.1875 33.984375 37.640625 27.21875 \nQ 31.109375 20.453125 19.1875 8.296875 \nz\n\" id=\"DejaVuSans-50\"/>\n       </defs>\n       <use xlink:href=\"#DejaVuSans-50\"/>\n      </g>\n     </g>\n    </g>\n    <g id=\"xtick_3\">\n     <g id=\"line2d_3\">\n      <g>\n       <use style=\"stroke:#000000;stroke-width:0.8;\" x=\"160.845\" xlink:href=\"#meb1fe2a5e0\" y=\"502.2\"/>\n      </g>\n     </g>\n     <g id=\"text_3\">\n      <!-- 4 -->\n      <g transform=\"translate(157.66375 516.798437)scale(0.1 -0.1)\">\n       <defs>\n        <path d=\"M 37.796875 64.3125 \nL 12.890625 25.390625 \nL 37.796875 25.390625 \nz\nM 35.203125 72.90625 \nL 47.609375 72.90625 \nL 47.609375 25.390625 \nL 58.015625 25.390625 \nL 58.015625 17.1875 \nL 47.609375 17.1875 \nL 47.609375 0 \nL 37.796875 0 \nL 37.796875 17.1875 \nL 4.890625 17.1875 \nL 4.890625 26.703125 \nz\n\" id=\"DejaVuSans-52\"/>\n       </defs>\n       <use xlink:href=\"#DejaVuSans-52\"/>\n      </g>\n     </g>\n    </g>\n    <g id=\"xtick_4\">\n     <g id=\"line2d_4\">\n      <g>\n       <use style=\"stroke:#000000;stroke-width:0.8;\" x=\"220.365\" xlink:href=\"#meb1fe2a5e0\" y=\"502.2\"/>\n      </g>\n     </g>\n     <g id=\"text_4\">\n      <!-- 6 -->\n      <g transform=\"translate(217.18375 516.798437)scale(0.1 -0.1)\">\n       <defs>\n        <path d=\"M 33.015625 40.375 \nQ 26.375 40.375 22.484375 35.828125 \nQ 18.609375 31.296875 18.609375 23.390625 \nQ 18.609375 15.53125 22.484375 10.953125 \nQ 26.375 6.390625 33.015625 6.390625 \nQ 39.65625 6.390625 43.53125 10.953125 \nQ 47.40625 15.53125 47.40625 23.390625 \nQ 47.40625 31.296875 43.53125 35.828125 \nQ 39.65625 40.375 33.015625 40.375 \nz\nM 52.59375 71.296875 \nL 52.59375 62.3125 \nQ 48.875 64.0625 45.09375 64.984375 \nQ 41.3125 65.921875 37.59375 65.921875 \nQ 27.828125 65.921875 22.671875 59.328125 \nQ 17.53125 52.734375 16.796875 39.40625 \nQ 19.671875 43.65625 24.015625 45.921875 \nQ 28.375 48.1875 33.59375 48.1875 \nQ 44.578125 48.1875 50.953125 41.515625 \nQ 57.328125 34.859375 57.328125 23.390625 \nQ 57.328125 12.15625 50.6875 5.359375 \nQ 44.046875 -1.421875 33.015625 -1.421875 \nQ 20.359375 -1.421875 13.671875 8.265625 \nQ 6.984375 17.96875 6.984375 36.375 \nQ 6.984375 53.65625 15.1875 63.9375 \nQ 23.390625 74.21875 37.203125 74.21875 \nQ 40.921875 74.21875 44.703125 73.484375 \nQ 48.484375 72.75 52.59375 71.296875 \nz\n\" id=\"DejaVuSans-54\"/>\n       </defs>\n       <use xlink:href=\"#DejaVuSans-54\"/>\n      </g>\n     </g>\n    </g>\n    <g id=\"xtick_5\">\n     <g id=\"line2d_5\">\n      <g>\n       <use style=\"stroke:#000000;stroke-width:0.8;\" x=\"279.885\" xlink:href=\"#meb1fe2a5e0\" y=\"502.2\"/>\n      </g>\n     </g>\n     <g id=\"text_5\">\n      <!-- 8 -->\n      <g transform=\"translate(276.70375 516.798437)scale(0.1 -0.1)\">\n       <defs>\n        <path d=\"M 31.78125 34.625 \nQ 24.75 34.625 20.71875 30.859375 \nQ 16.703125 27.09375 16.703125 20.515625 \nQ 16.703125 13.921875 20.71875 10.15625 \nQ 24.75 6.390625 31.78125 6.390625 \nQ 38.8125 6.390625 42.859375 10.171875 \nQ 46.921875 13.96875 46.921875 20.515625 \nQ 46.921875 27.09375 42.890625 30.859375 \nQ 38.875 34.625 31.78125 34.625 \nz\nM 21.921875 38.8125 \nQ 15.578125 40.375 12.03125 44.71875 \nQ 8.5 49.078125 8.5 55.328125 \nQ 8.5 64.0625 14.71875 69.140625 \nQ 20.953125 74.21875 31.78125 74.21875 \nQ 42.671875 74.21875 48.875 69.140625 \nQ 55.078125 64.0625 55.078125 55.328125 \nQ 55.078125 49.078125 51.53125 44.71875 \nQ 48 40.375 41.703125 38.8125 \nQ 48.828125 37.15625 52.796875 32.3125 \nQ 56.78125 27.484375 56.78125 20.515625 \nQ 56.78125 9.90625 50.3125 4.234375 \nQ 43.84375 -1.421875 31.78125 -1.421875 \nQ 19.734375 -1.421875 13.25 4.234375 \nQ 6.78125 9.90625 6.78125 20.515625 \nQ 6.78125 27.484375 10.78125 32.3125 \nQ 14.796875 37.15625 21.921875 38.8125 \nz\nM 18.3125 54.390625 \nQ 18.3125 48.734375 21.84375 45.5625 \nQ 25.390625 42.390625 31.78125 42.390625 \nQ 38.140625 42.390625 41.71875 45.5625 \nQ 45.3125 48.734375 45.3125 54.390625 \nQ 45.3125 60.0625 41.71875 63.234375 \nQ 38.140625 66.40625 31.78125 66.40625 \nQ 25.390625 66.40625 21.84375 63.234375 \nQ 18.3125 60.0625 18.3125 54.390625 \nz\n\" id=\"DejaVuSans-56\"/>\n       </defs>\n       <use xlink:href=\"#DejaVuSans-56\"/>\n      </g>\n     </g>\n    </g>\n    <g id=\"xtick_6\">\n     <g id=\"line2d_6\">\n      <g>\n       <use style=\"stroke:#000000;stroke-width:0.8;\" x=\"339.405\" xlink:href=\"#meb1fe2a5e0\" y=\"502.2\"/>\n      </g>\n     </g>\n     <g id=\"text_6\">\n      <!-- 10 -->\n      <g transform=\"translate(333.0425 516.798437)scale(0.1 -0.1)\">\n       <defs>\n        <path d=\"M 12.40625 8.296875 \nL 28.515625 8.296875 \nL 28.515625 63.921875 \nL 10.984375 60.40625 \nL 10.984375 69.390625 \nL 28.421875 72.90625 \nL 38.28125 72.90625 \nL 38.28125 8.296875 \nL 54.390625 8.296875 \nL 54.390625 0 \nL 12.40625 0 \nz\n\" id=\"DejaVuSans-49\"/>\n       </defs>\n       <use xlink:href=\"#DejaVuSans-49\"/>\n       <use x=\"63.623047\" xlink:href=\"#DejaVuSans-48\"/>\n      </g>\n     </g>\n    </g>\n    <g id=\"xtick_7\">\n     <g id=\"line2d_7\">\n      <g>\n       <use style=\"stroke:#000000;stroke-width:0.8;\" x=\"398.925\" xlink:href=\"#meb1fe2a5e0\" y=\"502.2\"/>\n      </g>\n     </g>\n     <g id=\"text_7\">\n      <!-- 12 -->\n      <g transform=\"translate(392.5625 516.798437)scale(0.1 -0.1)\">\n       <use xlink:href=\"#DejaVuSans-49\"/>\n       <use x=\"63.623047\" xlink:href=\"#DejaVuSans-50\"/>\n      </g>\n     </g>\n    </g>\n    <g id=\"xtick_8\">\n     <g id=\"line2d_8\">\n      <g>\n       <use style=\"stroke:#000000;stroke-width:0.8;\" x=\"458.445\" xlink:href=\"#meb1fe2a5e0\" y=\"502.2\"/>\n      </g>\n     </g>\n     <g id=\"text_8\">\n      <!-- 14 -->\n      <g transform=\"translate(452.0825 516.798437)scale(0.1 -0.1)\">\n       <use xlink:href=\"#DejaVuSans-49\"/>\n       <use x=\"63.623047\" xlink:href=\"#DejaVuSans-52\"/>\n      </g>\n     </g>\n    </g>\n   </g>\n   <g id=\"matplotlib.axis_2\">\n    <g id=\"ytick_1\">\n     <g id=\"line2d_9\">\n      <defs>\n       <path d=\"M 0 0 \nL -3.5 0 \n\" id=\"me4d791e2d8\" style=\"stroke:#000000;stroke-width:0.8;\"/>\n      </defs>\n      <g>\n       <use style=\"stroke:#000000;stroke-width:0.8;\" x=\"26.925\" xlink:href=\"#me4d791e2d8\" y=\"70.68\"/>\n      </g>\n     </g>\n     <g id=\"text_9\">\n      <!-- 0 -->\n      <g transform=\"translate(13.5625 74.479219)scale(0.1 -0.1)\">\n       <use xlink:href=\"#DejaVuSans-48\"/>\n      </g>\n     </g>\n    </g>\n    <g id=\"ytick_2\">\n     <g id=\"line2d_10\">\n      <g>\n       <use style=\"stroke:#000000;stroke-width:0.8;\" x=\"26.925\" xlink:href=\"#me4d791e2d8\" y=\"130.2\"/>\n      </g>\n     </g>\n     <g id=\"text_10\">\n      <!-- 2 -->\n      <g transform=\"translate(13.5625 133.999219)scale(0.1 -0.1)\">\n       <use xlink:href=\"#DejaVuSans-50\"/>\n      </g>\n     </g>\n    </g>\n    <g id=\"ytick_3\">\n     <g id=\"line2d_11\">\n      <g>\n       <use style=\"stroke:#000000;stroke-width:0.8;\" x=\"26.925\" xlink:href=\"#me4d791e2d8\" y=\"189.72\"/>\n      </g>\n     </g>\n     <g id=\"text_11\">\n      <!-- 4 -->\n      <g transform=\"translate(13.5625 193.519219)scale(0.1 -0.1)\">\n       <use xlink:href=\"#DejaVuSans-52\"/>\n      </g>\n     </g>\n    </g>\n    <g id=\"ytick_4\">\n     <g id=\"line2d_12\">\n      <g>\n       <use style=\"stroke:#000000;stroke-width:0.8;\" x=\"26.925\" xlink:href=\"#me4d791e2d8\" y=\"249.24\"/>\n      </g>\n     </g>\n     <g id=\"text_12\">\n      <!-- 6 -->\n      <g transform=\"translate(13.5625 253.039219)scale(0.1 -0.1)\">\n       <use xlink:href=\"#DejaVuSans-54\"/>\n      </g>\n     </g>\n    </g>\n    <g id=\"ytick_5\">\n     <g id=\"line2d_13\">\n      <g>\n       <use style=\"stroke:#000000;stroke-width:0.8;\" x=\"26.925\" xlink:href=\"#me4d791e2d8\" y=\"308.76\"/>\n      </g>\n     </g>\n     <g id=\"text_13\">\n      <!-- 8 -->\n      <g transform=\"translate(13.5625 312.559219)scale(0.1 -0.1)\">\n       <use xlink:href=\"#DejaVuSans-56\"/>\n      </g>\n     </g>\n    </g>\n    <g id=\"ytick_6\">\n     <g id=\"line2d_14\">\n      <g>\n       <use style=\"stroke:#000000;stroke-width:0.8;\" x=\"26.925\" xlink:href=\"#me4d791e2d8\" y=\"368.28\"/>\n      </g>\n     </g>\n     <g id=\"text_14\">\n      <!-- 10 -->\n      <g transform=\"translate(7.2 372.079219)scale(0.1 -0.1)\">\n       <use xlink:href=\"#DejaVuSans-49\"/>\n       <use x=\"63.623047\" xlink:href=\"#DejaVuSans-48\"/>\n      </g>\n     </g>\n    </g>\n    <g id=\"ytick_7\">\n     <g id=\"line2d_15\">\n      <g>\n       <use style=\"stroke:#000000;stroke-width:0.8;\" x=\"26.925\" xlink:href=\"#me4d791e2d8\" y=\"427.8\"/>\n      </g>\n     </g>\n     <g id=\"text_15\">\n      <!-- 12 -->\n      <g transform=\"translate(7.2 431.599219)scale(0.1 -0.1)\">\n       <use xlink:href=\"#DejaVuSans-49\"/>\n       <use x=\"63.623047\" xlink:href=\"#DejaVuSans-50\"/>\n      </g>\n     </g>\n    </g>\n    <g id=\"ytick_8\">\n     <g id=\"line2d_16\">\n      <g>\n       <use style=\"stroke:#000000;stroke-width:0.8;\" x=\"26.925\" xlink:href=\"#me4d791e2d8\" y=\"487.32\"/>\n      </g>\n     </g>\n     <g id=\"text_16\">\n      <!-- 14 -->\n      <g transform=\"translate(7.2 491.119219)scale(0.1 -0.1)\">\n       <use xlink:href=\"#DejaVuSans-49\"/>\n       <use x=\"63.623047\" xlink:href=\"#DejaVuSans-52\"/>\n      </g>\n     </g>\n    </g>\n   </g>\n   <g id=\"patch_3\">\n    <path d=\"M 26.925 502.2 \nL 26.925 55.8 \n\" style=\"fill:none;stroke:#000000;stroke-linecap:square;stroke-linejoin:miter;stroke-width:0.8;\"/>\n   </g>\n   <g id=\"patch_4\">\n    <path d=\"M 473.325 502.2 \nL 473.325 55.8 \n\" style=\"fill:none;stroke:#000000;stroke-linecap:square;stroke-linejoin:miter;stroke-width:0.8;\"/>\n   </g>\n   <g id=\"patch_5\">\n    <path d=\"M 26.925 502.2 \nL 473.325 502.2 \n\" style=\"fill:none;stroke:#000000;stroke-linecap:square;stroke-linejoin:miter;stroke-width:0.8;\"/>\n   </g>\n   <g id=\"patch_6\">\n    <path d=\"M 26.925 55.8 \nL 473.325 55.8 \n\" style=\"fill:none;stroke:#000000;stroke-linecap:square;stroke-linejoin:miter;stroke-width:0.8;\"/>\n   </g>\n  </g>\n  <g id=\"axes_2\">\n   <g id=\"patch_7\">\n    <path clip-path=\"url(#p044dd6d38a)\" d=\"M 501.225 550.8 \nL 501.225 548.676562 \nL 501.225 9.323437 \nL 501.225 7.2 \nL 528.405 7.2 \nL 528.405 9.323437 \nL 528.405 548.676562 \nL 528.405 550.8 \nz\n\" style=\"fill:#ffffff;stroke:#ffffff;stroke-linejoin:miter;stroke-width:0.01;\"/>\n   </g>\n   <image height=\"544\" id=\"image8480afc62a\" transform=\"scale(1 -1)translate(0 -544)\" width=\"27\" x=\"501\" xlink:href=\"data:image/png;base64,\niVBORw0KGgoAAAANSUhEUgAAABsAAAIgCAYAAAB09hISAAACnUlEQVR4nO2c0W3cUBADJZ1KcwnuvxRfOsiPBgQ0mGmA4JG7+yAjOX/O3+8x4loJHcdx3Me509s6O69zJlZmCGWGMHZmzWxdEOnPeJ+XtvrazI4yA2gRI9xnxxOg44mQM4RODELOEMzOrCfGm1mfJhCqPkLOEMzOmjOArbOv1dm6+juxqo+QM4TWFUIbBCFn7xNrqBGqPoK5jTtjtZHh/rZBANTHcydWQRDEi1h8PLWLWJyZeM52Ym3994mpC7IT6+9nCLURocwQvCfGm1lDjeAtSEON0JwhqD/b7sSas/eJtYgRGmqEMkMoM4QyQ1Afz51Yf2VCUGe2EyszBLGz2kggPp4VhKDMEMSZeZ3VRoJxZkMx8fH0FsTrrHVFUGYI4sy8zrRtrCAIYmfa6pcZQpkhiJ1p21hBEvsv3up72yh2VhsJyux9YuKCHOfuy37VR1C3cSdWGxHEmWmddWIQvEPtFfMOtbeN4g3ibWPOCNSLuKF+TicGoTYibJ0N/61bbWTwtrGfEeE+jqr/nPUiLrPnlBmCOrOdmPp4WqvvHWpt9cWZmRexNbNhZGX2QjHvzyg+MZc4s5w9pzlDaM4QxMfz0n7cbKgJGmqEMkMoMwTv1q/6CObq5wwgZwjeRWzOzOqsnxHB7Kx1BbB29jcTKzOE5gxBfTytQ/2xFkQ91NY2atfV/amNALXxfWLqE1P1n7NexGX2nPUG0WamfRZoM+t1hdCLGKHMENSZWZ2JHzzazHoWEPRuROhrAYL4C493EffgIWjO3iemXsRaZ9rMesoR9B0Eod2IID6e4upbX1fi41kbCcoMQezssv7r/gqCcC/V1u/Gndi6jTtrtRHh/gz/n5V1ZlZn2jmrIAjqod7p1UaE+3N6M5M6m4r9A8rbj0KdYkDxAAAAAElFTkSuQmCC\" y=\"-6\"/>\n   <g id=\"matplotlib.axis_3\"/>\n   <g id=\"matplotlib.axis_4\">\n    <g id=\"ytick_9\">\n     <g id=\"line2d_17\">\n      <defs>\n       <path d=\"M 0 0 \nL 3.5 0 \n\" id=\"m3491270e17\" style=\"stroke:#000000;stroke-width:0.8;\"/>\n      </defs>\n      <g>\n       <use style=\"stroke:#000000;stroke-width:0.8;\" x=\"528.405\" xlink:href=\"#m3491270e17\" y=\"538.196234\"/>\n      </g>\n     </g>\n     <g id=\"text_17\">\n      <!-- −25 -->\n      <g transform=\"translate(535.405 541.995453)scale(0.1 -0.1)\">\n       <defs>\n        <path d=\"M 10.59375 35.5 \nL 73.1875 35.5 \nL 73.1875 27.203125 \nL 10.59375 27.203125 \nz\n\" id=\"DejaVuSans-8722\"/>\n        <path d=\"M 10.796875 72.90625 \nL 49.515625 72.90625 \nL 49.515625 64.59375 \nL 19.828125 64.59375 \nL 19.828125 46.734375 \nQ 21.96875 47.46875 24.109375 47.828125 \nQ 26.265625 48.1875 28.421875 48.1875 \nQ 40.625 48.1875 47.75 41.5 \nQ 54.890625 34.8125 54.890625 23.390625 \nQ 54.890625 11.625 47.5625 5.09375 \nQ 40.234375 -1.421875 26.90625 -1.421875 \nQ 22.3125 -1.421875 17.546875 -0.640625 \nQ 12.796875 0.140625 7.71875 1.703125 \nL 7.71875 11.625 \nQ 12.109375 9.234375 16.796875 8.0625 \nQ 21.484375 6.890625 26.703125 6.890625 \nQ 35.15625 6.890625 40.078125 11.328125 \nQ 45.015625 15.765625 45.015625 23.390625 \nQ 45.015625 31 40.078125 35.4375 \nQ 35.15625 39.890625 26.703125 39.890625 \nQ 22.75 39.890625 18.8125 39.015625 \nQ 14.890625 38.140625 10.796875 36.28125 \nz\n\" id=\"DejaVuSans-53\"/>\n       </defs>\n       <use xlink:href=\"#DejaVuSans-8722\"/>\n       <use x=\"83.789062\" xlink:href=\"#DejaVuSans-50\"/>\n       <use x=\"147.412109\" xlink:href=\"#DejaVuSans-53\"/>\n      </g>\n     </g>\n    </g>\n    <g id=\"ytick_10\">\n     <g id=\"line2d_18\">\n      <g>\n       <use style=\"stroke:#000000;stroke-width:0.8;\" x=\"528.405\" xlink:href=\"#m3491270e17\" y=\"470.506839\"/>\n      </g>\n     </g>\n     <g id=\"text_18\">\n      <!-- −20 -->\n      <g transform=\"translate(535.405 474.306057)scale(0.1 -0.1)\">\n       <use xlink:href=\"#DejaVuSans-8722\"/>\n       <use x=\"83.789062\" xlink:href=\"#DejaVuSans-50\"/>\n       <use x=\"147.412109\" xlink:href=\"#DejaVuSans-48\"/>\n      </g>\n     </g>\n    </g>\n    <g id=\"ytick_11\">\n     <g id=\"line2d_19\">\n      <g>\n       <use style=\"stroke:#000000;stroke-width:0.8;\" x=\"528.405\" xlink:href=\"#m3491270e17\" y=\"402.817443\"/>\n      </g>\n     </g>\n     <g id=\"text_19\">\n      <!-- −15 -->\n      <g transform=\"translate(535.405 406.616662)scale(0.1 -0.1)\">\n       <use xlink:href=\"#DejaVuSans-8722\"/>\n       <use x=\"83.789062\" xlink:href=\"#DejaVuSans-49\"/>\n       <use x=\"147.412109\" xlink:href=\"#DejaVuSans-53\"/>\n      </g>\n     </g>\n    </g>\n    <g id=\"ytick_12\">\n     <g id=\"line2d_20\">\n      <g>\n       <use style=\"stroke:#000000;stroke-width:0.8;\" x=\"528.405\" xlink:href=\"#m3491270e17\" y=\"335.128047\"/>\n      </g>\n     </g>\n     <g id=\"text_20\">\n      <!-- −10 -->\n      <g transform=\"translate(535.405 338.927266)scale(0.1 -0.1)\">\n       <use xlink:href=\"#DejaVuSans-8722\"/>\n       <use x=\"83.789062\" xlink:href=\"#DejaVuSans-49\"/>\n       <use x=\"147.412109\" xlink:href=\"#DejaVuSans-48\"/>\n      </g>\n     </g>\n    </g>\n    <g id=\"ytick_13\">\n     <g id=\"line2d_21\">\n      <g>\n       <use style=\"stroke:#000000;stroke-width:0.8;\" x=\"528.405\" xlink:href=\"#m3491270e17\" y=\"267.438651\"/>\n      </g>\n     </g>\n     <g id=\"text_21\">\n      <!-- −5 -->\n      <g transform=\"translate(535.405 271.23787)scale(0.1 -0.1)\">\n       <use xlink:href=\"#DejaVuSans-8722\"/>\n       <use x=\"83.789062\" xlink:href=\"#DejaVuSans-53\"/>\n      </g>\n     </g>\n    </g>\n    <g id=\"ytick_14\">\n     <g id=\"line2d_22\">\n      <g>\n       <use style=\"stroke:#000000;stroke-width:0.8;\" x=\"528.405\" xlink:href=\"#m3491270e17\" y=\"199.749255\"/>\n      </g>\n     </g>\n     <g id=\"text_22\">\n      <!-- 0 -->\n      <g transform=\"translate(535.405 203.548474)scale(0.1 -0.1)\">\n       <use xlink:href=\"#DejaVuSans-48\"/>\n      </g>\n     </g>\n    </g>\n    <g id=\"ytick_15\">\n     <g id=\"line2d_23\">\n      <g>\n       <use style=\"stroke:#000000;stroke-width:0.8;\" x=\"528.405\" xlink:href=\"#m3491270e17\" y=\"132.05986\"/>\n      </g>\n     </g>\n     <g id=\"text_23\">\n      <!-- 5 -->\n      <g transform=\"translate(535.405 135.859078)scale(0.1 -0.1)\">\n       <use xlink:href=\"#DejaVuSans-53\"/>\n      </g>\n     </g>\n    </g>\n    <g id=\"ytick_16\">\n     <g id=\"line2d_24\">\n      <g>\n       <use style=\"stroke:#000000;stroke-width:0.8;\" x=\"528.405\" xlink:href=\"#m3491270e17\" y=\"64.370464\"/>\n      </g>\n     </g>\n     <g id=\"text_24\">\n      <!-- 10 -->\n      <g transform=\"translate(535.405 68.169682)scale(0.1 -0.1)\">\n       <use xlink:href=\"#DejaVuSans-49\"/>\n       <use x=\"63.623047\" xlink:href=\"#DejaVuSans-48\"/>\n      </g>\n     </g>\n    </g>\n   </g>\n   <g id=\"patch_8\">\n    <path d=\"M 501.225 550.8 \nL 501.225 548.676562 \nL 501.225 9.323437 \nL 501.225 7.2 \nL 528.405 7.2 \nL 528.405 9.323437 \nL 528.405 548.676562 \nL 528.405 550.8 \nz\n\" style=\"fill:none;stroke:#000000;stroke-linejoin:miter;stroke-width:0.8;\"/>\n   </g>\n  </g>\n </g>\n <defs>\n  <clipPath id=\"p484f29fc6b\">\n   <rect height=\"446.4\" width=\"446.4\" x=\"26.925\" y=\"55.8\"/>\n  </clipPath>\n  <clipPath id=\"p044dd6d38a\">\n   <rect height=\"543.6\" width=\"27.18\" x=\"501.225\" y=\"7.2\"/>\n  </clipPath>\n </defs>\n</svg>\n",
      "image/png": "[encoded data removed]"
     },
     "metadata": {
      "needs_background": "light"
     }
    }
   ],
   "source": [
    "plt.figure(figsize=(10,10))\n",
    "up_triu_subject_0 = np.triu(subject_0,k=1)\n",
    "plt.imshow(up_triu_subject_0)\n",
    "plt.colorbar()\n"
   ]
  },
  {
   "source": [
    "#### SUBJECT INFORMATION 1003"
   ],
   "cell_type": "markdown",
   "metadata": {}
  },
  {
   "cell_type": "code",
   "execution_count": 36,
   "metadata": {},
   "outputs": [
    {
     "output_type": "execute_result",
     "data": {
      "text/plain": [
       "      Subject Release Acquisition Gender    Age  3T_Full_MR_Compl  T1_Count  \\\n",
       "0      100004    S900         Q06      M  22-25             False         0   \n",
       "1      100206    S900         Q11      M  26-30              True         1   \n",
       "2      100307      Q1         Q01      F  26-30              True         1   \n",
       "3      100408      Q3         Q03      M  31-35              True         1   \n",
       "4      100610    S900         Q08      M  26-30              True         2   \n",
       "...       ...     ...         ...    ...    ...               ...       ...   \n",
       "1201   992774      Q2         Q02      M  31-35              True         2   \n",
       "1202   993675    S900         Q09      F  26-30              True         2   \n",
       "1203   994273    S500         Q06      M  26-30              True         1   \n",
       "1204   995174   S1200         Q13      M  22-25             False         1   \n",
       "1205   996782    S900         Q08      F  26-30              True         2   \n",
       "\n",
       "      T2_Count  3T_RS-fMRI_Count  3T_RS-fMRI_PctCompl  ...  Noise_Comp  \\\n",
       "0            0                 0                  0.0  ...         5.2   \n",
       "1            1                 4                100.0  ...         6.0   \n",
       "2            1                 4                100.0  ...         3.6   \n",
       "3            1                 4                100.0  ...         2.0   \n",
       "4            1                 4                100.0  ...         2.0   \n",
       "...        ...               ...                  ...  ...         ...   \n",
       "1201         2                 4                100.0  ...         8.4   \n",
       "1202         2                 4                100.0  ...         0.4   \n",
       "1203         1                 4                100.0  ...         6.0   \n",
       "1204         1                 2                  0.0  ...         3.6   \n",
       "1205         2                 4                100.0  ...         6.0   \n",
       "\n",
       "      Odor_Unadj  Odor_AgeAdj  PainIntens_RawScore  PainInterf_Tscore  \\\n",
       "0         101.12        86.45                  2.0               45.9   \n",
       "1         108.79        97.19                  1.0               49.7   \n",
       "2         101.12        86.45                  0.0               38.6   \n",
       "3         108.79        98.04                  2.0               52.6   \n",
       "4         122.25       110.45                  0.0               38.6   \n",
       "...          ...          ...                  ...                ...   \n",
       "1201      122.25       111.41                  4.0               50.1   \n",
       "1202      122.25       110.45                  0.0               38.6   \n",
       "1203      122.25       111.41                  7.0               63.8   \n",
       "1204       88.61        64.58                  3.0               50.1   \n",
       "1205      108.79        97.19                  0.0               38.6   \n",
       "\n",
       "      Taste_Unadj  Taste_AgeAdj  Mars_Log_Score  Mars_Errs  Mars_Final  \n",
       "0          107.17        105.31            1.80        0.0        1.80  \n",
       "1           72.63         72.03            1.84        0.0        1.84  \n",
       "2           71.69         71.76            1.76        0.0        1.76  \n",
       "3          114.01        113.59            1.76        2.0        1.68  \n",
       "4           84.84         85.31            1.92        1.0        1.88  \n",
       "...           ...           ...             ...        ...         ...  \n",
       "1201       107.17        103.55            1.76        0.0        1.76  \n",
       "1202        84.07         84.25            1.80        1.0        1.76  \n",
       "1203       110.65        109.73            1.80        1.0        1.76  \n",
       "1204       117.16        117.40            1.80        0.0        1.80  \n",
       "1205        75.43         73.72            1.84        0.0        1.84  \n",
       "\n",
       "[1206 rows x 582 columns]"
      ],
      "text/html": "<div>\n<style scoped>\n    .dataframe tbody tr th:only-of-type {\n        vertical-align: middle;\n    }\n\n    .dataframe tbody tr th {\n        vertical-align: top;\n    }\n\n    .dataframe thead th {\n        text-align: right;\n    }\n</style>\n<table border=\"1\" class=\"dataframe\">\n  <thead>\n    <tr style=\"text-align: right;\">\n      <th></th>\n      <th>Subject</th>\n      <th>Release</th>\n      <th>Acquisition</th>\n      <th>Gender</th>\n      <th>Age</th>\n      <th>3T_Full_MR_Compl</th>\n      <th>T1_Count</th>\n      <th>T2_Count</th>\n      <th>3T_RS-fMRI_Count</th>\n      <th>3T_RS-fMRI_PctCompl</th>\n      <th>...</th>\n      <th>Noise_Comp</th>\n      <th>Odor_Unadj</th>\n      <th>Odor_AgeAdj</th>\n      <th>PainIntens_RawScore</th>\n      <th>PainInterf_Tscore</th>\n      <th>Taste_Unadj</th>\n      <th>Taste_AgeAdj</th>\n      <th>Mars_Log_Score</th>\n      <th>Mars_Errs</th>\n      <th>Mars_Final</th>\n    </tr>\n  </thead>\n  <tbody>\n    <tr>\n      <th>0</th>\n      <td>100004</td>\n      <td>S900</td>\n      <td>Q06</td>\n      <td>M</td>\n      <td>22-25</td>\n      <td>False</td>\n      <td>0</td>\n      <td>0</td>\n      <td>0</td>\n      <td>0.0</td>\n      <td>...</td>\n      <td>5.2</td>\n      <td>101.12</td>\n      <td>86.45</td>\n      <td>2.0</td>\n      <td>45.9</td>\n      <td>107.17</td>\n      <td>105.31</td>\n      <td>1.80</td>\n      <td>0.0</td>\n      <td>1.80</td>\n    </tr>\n    <tr>\n      <th>1</th>\n      <td>100206</td>\n      <td>S900</td>\n      <td>Q11</td>\n      <td>M</td>\n      <td>26-30</td>\n      <td>True</td>\n      <td>1</td>\n      <td>1</td>\n      <td>4</td>\n      <td>100.0</td>\n      <td>...</td>\n      <td>6.0</td>\n      <td>108.79</td>\n      <td>97.19</td>\n      <td>1.0</td>\n      <td>49.7</td>\n      <td>72.63</td>\n      <td>72.03</td>\n      <td>1.84</td>\n      <td>0.0</td>\n      <td>1.84</td>\n    </tr>\n    <tr>\n      <th>2</th>\n      <td>100307</td>\n      <td>Q1</td>\n      <td>Q01</td>\n      <td>F</td>\n      <td>26-30</td>\n      <td>True</td>\n      <td>1</td>\n      <td>1</td>\n      <td>4</td>\n      <td>100.0</td>\n      <td>...</td>\n      <td>3.6</td>\n      <td>101.12</td>\n      <td>86.45</td>\n      <td>0.0</td>\n      <td>38.6</td>\n      <td>71.69</td>\n      <td>71.76</td>\n      <td>1.76</td>\n      <td>0.0</td>\n      <td>1.76</td>\n    </tr>\n    <tr>\n      <th>3</th>\n      <td>100408</td>\n      <td>Q3</td>\n      <td>Q03</td>\n      <td>M</td>\n      <td>31-35</td>\n      <td>True</td>\n      <td>1</td>\n      <td>1</td>\n      <td>4</td>\n      <td>100.0</td>\n      <td>...</td>\n      <td>2.0</td>\n      <td>108.79</td>\n      <td>98.04</td>\n      <td>2.0</td>\n      <td>52.6</td>\n      <td>114.01</td>\n      <td>113.59</td>\n      <td>1.76</td>\n      <td>2.0</td>\n      <td>1.68</td>\n    </tr>\n    <tr>\n      <th>4</th>\n      <td>100610</td>\n      <td>S900</td>\n      <td>Q08</td>\n      <td>M</td>\n      <td>26-30</td>\n      <td>True</td>\n      <td>2</td>\n      <td>1</td>\n      <td>4</td>\n      <td>100.0</td>\n      <td>...</td>\n      <td>2.0</td>\n      <td>122.25</td>\n      <td>110.45</td>\n      <td>0.0</td>\n      <td>38.6</td>\n      <td>84.84</td>\n      <td>85.31</td>\n      <td>1.92</td>\n      <td>1.0</td>\n      <td>1.88</td>\n    </tr>\n    <tr>\n      <th>...</th>\n      <td>...</td>\n      <td>...</td>\n      <td>...</td>\n      <td>...</td>\n      <td>...</td>\n      <td>...</td>\n      <td>...</td>\n      <td>...</td>\n      <td>...</td>\n      <td>...</td>\n      <td>...</td>\n      <td>...</td>\n      <td>...</td>\n      <td>...</td>\n      <td>...</td>\n      <td>...</td>\n      <td>...</td>\n      <td>...</td>\n      <td>...</td>\n      <td>...</td>\n      <td>...</td>\n    </tr>\n    <tr>\n      <th>1201</th>\n      <td>992774</td>\n      <td>Q2</td>\n      <td>Q02</td>\n      <td>M</td>\n      <td>31-35</td>\n      <td>True</td>\n      <td>2</td>\n      <td>2</td>\n      <td>4</td>\n      <td>100.0</td>\n      <td>...</td>\n      <td>8.4</td>\n      <td>122.25</td>\n      <td>111.41</td>\n      <td>4.0</td>\n      <td>50.1</td>\n      <td>107.17</td>\n      <td>103.55</td>\n      <td>1.76</td>\n      <td>0.0</td>\n      <td>1.76</td>\n    </tr>\n    <tr>\n      <th>1202</th>\n      <td>993675</td>\n      <td>S900</td>\n      <td>Q09</td>\n      <td>F</td>\n      <td>26-30</td>\n      <td>True</td>\n      <td>2</td>\n      <td>2</td>\n      <td>4</td>\n      <td>100.0</td>\n      <td>...</td>\n      <td>0.4</td>\n      <td>122.25</td>\n      <td>110.45</td>\n      <td>0.0</td>\n      <td>38.6</td>\n      <td>84.07</td>\n      <td>84.25</td>\n      <td>1.80</td>\n      <td>1.0</td>\n      <td>1.76</td>\n    </tr>\n    <tr>\n      <th>1203</th>\n      <td>994273</td>\n      <td>S500</td>\n      <td>Q06</td>\n      <td>M</td>\n      <td>26-30</td>\n      <td>True</td>\n      <td>1</td>\n      <td>1</td>\n      <td>4</td>\n      <td>100.0</td>\n      <td>...</td>\n      <td>6.0</td>\n      <td>122.25</td>\n      <td>111.41</td>\n      <td>7.0</td>\n      <td>63.8</td>\n      <td>110.65</td>\n      <td>109.73</td>\n      <td>1.80</td>\n      <td>1.0</td>\n      <td>1.76</td>\n    </tr>\n    <tr>\n      <th>1204</th>\n      <td>995174</td>\n      <td>S1200</td>\n      <td>Q13</td>\n      <td>M</td>\n      <td>22-25</td>\n      <td>False</td>\n      <td>1</td>\n      <td>1</td>\n      <td>2</td>\n      <td>0.0</td>\n      <td>...</td>\n      <td>3.6</td>\n      <td>88.61</td>\n      <td>64.58</td>\n      <td>3.0</td>\n      <td>50.1</td>\n      <td>117.16</td>\n      <td>117.40</td>\n      <td>1.80</td>\n      <td>0.0</td>\n      <td>1.80</td>\n    </tr>\n    <tr>\n      <th>1205</th>\n      <td>996782</td>\n      <td>S900</td>\n      <td>Q08</td>\n      <td>F</td>\n      <td>26-30</td>\n      <td>True</td>\n      <td>2</td>\n      <td>2</td>\n      <td>4</td>\n      <td>100.0</td>\n      <td>...</td>\n      <td>6.0</td>\n      <td>108.79</td>\n      <td>97.19</td>\n      <td>0.0</td>\n      <td>38.6</td>\n      <td>75.43</td>\n      <td>73.72</td>\n      <td>1.84</td>\n      <td>0.0</td>\n      <td>1.84</td>\n    </tr>\n  </tbody>\n</table>\n<p>1206 rows × 582 columns</p>\n</div>"
     },
     "metadata": {},
     "execution_count": 36
    }
   ],
   "source": [
    "data_path = '/home/sd20/workspace/data/HCP/'\n",
    "filename = 'subject_information_1200.csv'\n",
    "file_path = os.path.join(data_path,filename)\n",
    "\n",
    "df = pd.read_csv(file_path)\n",
    "df"
   ]
  },
  {
   "cell_type": "code",
   "execution_count": 37,
   "metadata": {},
   "outputs": [
    {
     "output_type": "execute_result",
     "data": {
      "text/plain": [
       "           0\n",
       "0     100206\n",
       "1     100307\n",
       "2     100408\n",
       "3     100610\n",
       "4     101006\n",
       "...      ...\n",
       "998   992673\n",
       "999   992774\n",
       "1000  993675\n",
       "1001  994273\n",
       "1002  996782\n",
       "\n",
       "[1003 rows x 1 columns]"
      ],
      "text/html": "<div>\n<style scoped>\n    .dataframe tbody tr th:only-of-type {\n        vertical-align: middle;\n    }\n\n    .dataframe tbody tr th {\n        vertical-align: top;\n    }\n\n    .dataframe thead th {\n        text-align: right;\n    }\n</style>\n<table border=\"1\" class=\"dataframe\">\n  <thead>\n    <tr style=\"text-align: right;\">\n      <th></th>\n      <th>0</th>\n    </tr>\n  </thead>\n  <tbody>\n    <tr>\n      <th>0</th>\n      <td>100206</td>\n    </tr>\n    <tr>\n      <th>1</th>\n      <td>100307</td>\n    </tr>\n    <tr>\n      <th>2</th>\n      <td>100408</td>\n    </tr>\n    <tr>\n      <th>3</th>\n      <td>100610</td>\n    </tr>\n    <tr>\n      <th>4</th>\n      <td>101006</td>\n    </tr>\n    <tr>\n      <th>...</th>\n      <td>...</td>\n    </tr>\n    <tr>\n      <th>998</th>\n      <td>992673</td>\n    </tr>\n    <tr>\n      <th>999</th>\n      <td>992774</td>\n    </tr>\n    <tr>\n      <th>1000</th>\n      <td>993675</td>\n    </tr>\n    <tr>\n      <th>1001</th>\n      <td>994273</td>\n    </tr>\n    <tr>\n      <th>1002</th>\n      <td>996782</td>\n    </tr>\n  </tbody>\n</table>\n<p>1003 rows × 1 columns</p>\n</div>"
     },
     "metadata": {},
     "execution_count": 37
    }
   ],
   "source": [
    "filename = 'subjectIDs_1003.txt'\n",
    "file_path = os.path.join(data_path,filename)\n",
    "\n",
    "ids = pd.read_csv(file_path, delimiter = \" \",header=None)\n",
    "ids"
   ]
  },
  {
   "cell_type": "code",
   "execution_count": 38,
   "metadata": {},
   "outputs": [
    {
     "output_type": "execute_result",
     "data": {
      "text/plain": [
       "      Subject Release Acquisition Gender    Age  3T_Full_MR_Compl  T1_Count  \\\n",
       "1      100206    S900         Q11      M  26-30              True         1   \n",
       "2      100307      Q1         Q01      F  26-30              True         1   \n",
       "3      100408      Q3         Q03      M  31-35              True         1   \n",
       "4      100610    S900         Q08      M  26-30              True         2   \n",
       "5      101006    S500         Q06      F  31-35              True         2   \n",
       "...       ...     ...         ...    ...    ...               ...       ...   \n",
       "1200   992673    S900         Q12      F  31-35              True         1   \n",
       "1201   992774      Q2         Q02      M  31-35              True         2   \n",
       "1202   993675    S900         Q09      F  26-30              True         2   \n",
       "1203   994273    S500         Q06      M  26-30              True         1   \n",
       "1205   996782    S900         Q08      F  26-30              True         2   \n",
       "\n",
       "      T2_Count  3T_RS-fMRI_Count  3T_RS-fMRI_PctCompl  ...  Noise_Comp  \\\n",
       "1            1                 4                100.0  ...         6.0   \n",
       "2            1                 4                100.0  ...         3.6   \n",
       "3            1                 4                100.0  ...         2.0   \n",
       "4            1                 4                100.0  ...         2.0   \n",
       "5            2                 4                100.0  ...         6.0   \n",
       "...        ...               ...                  ...  ...         ...   \n",
       "1200         2                 4                100.0  ...         3.6   \n",
       "1201         2                 4                100.0  ...         8.4   \n",
       "1202         2                 4                100.0  ...         0.4   \n",
       "1203         1                 4                100.0  ...         6.0   \n",
       "1205         2                 4                100.0  ...         6.0   \n",
       "\n",
       "      Odor_Unadj  Odor_AgeAdj  PainIntens_RawScore  PainInterf_Tscore  \\\n",
       "1         108.79        97.19                  1.0               49.7   \n",
       "2         101.12        86.45                  0.0               38.6   \n",
       "3         108.79        98.04                  2.0               52.6   \n",
       "4         122.25       110.45                  0.0               38.6   \n",
       "5         122.25       111.41                  0.0               38.6   \n",
       "...          ...          ...                  ...                ...   \n",
       "1200      122.25       111.41                  1.0               38.6   \n",
       "1201      122.25       111.41                  4.0               50.1   \n",
       "1202      122.25       110.45                  0.0               38.6   \n",
       "1203      122.25       111.41                  7.0               63.8   \n",
       "1205      108.79        97.19                  0.0               38.6   \n",
       "\n",
       "      Taste_Unadj  Taste_AgeAdj  Mars_Log_Score  Mars_Errs  Mars_Final  \n",
       "1           72.63         72.03            1.84        0.0        1.84  \n",
       "2           71.69         71.76            1.76        0.0        1.76  \n",
       "3          114.01        113.59            1.76        2.0        1.68  \n",
       "4           84.84         85.31            1.92        1.0        1.88  \n",
       "5          123.80        123.31            1.80        0.0        1.80  \n",
       "...           ...           ...             ...        ...         ...  \n",
       "1200       101.63         99.26            1.80        0.0        1.80  \n",
       "1201       107.17        103.55            1.76        0.0        1.76  \n",
       "1202        84.07         84.25            1.80        1.0        1.76  \n",
       "1203       110.65        109.73            1.80        1.0        1.76  \n",
       "1205        75.43         73.72            1.84        0.0        1.84  \n",
       "\n",
       "[1003 rows x 582 columns]"
      ],
      "text/html": "<div>\n<style scoped>\n    .dataframe tbody tr th:only-of-type {\n        vertical-align: middle;\n    }\n\n    .dataframe tbody tr th {\n        vertical-align: top;\n    }\n\n    .dataframe thead th {\n        text-align: right;\n    }\n</style>\n<table border=\"1\" class=\"dataframe\">\n  <thead>\n    <tr style=\"text-align: right;\">\n      <th></th>\n      <th>Subject</th>\n      <th>Release</th>\n      <th>Acquisition</th>\n      <th>Gender</th>\n      <th>Age</th>\n      <th>3T_Full_MR_Compl</th>\n      <th>T1_Count</th>\n      <th>T2_Count</th>\n      <th>3T_RS-fMRI_Count</th>\n      <th>3T_RS-fMRI_PctCompl</th>\n      <th>...</th>\n      <th>Noise_Comp</th>\n      <th>Odor_Unadj</th>\n      <th>Odor_AgeAdj</th>\n      <th>PainIntens_RawScore</th>\n      <th>PainInterf_Tscore</th>\n      <th>Taste_Unadj</th>\n      <th>Taste_AgeAdj</th>\n      <th>Mars_Log_Score</th>\n      <th>Mars_Errs</th>\n      <th>Mars_Final</th>\n    </tr>\n  </thead>\n  <tbody>\n    <tr>\n      <th>1</th>\n      <td>100206</td>\n      <td>S900</td>\n      <td>Q11</td>\n      <td>M</td>\n      <td>26-30</td>\n      <td>True</td>\n      <td>1</td>\n      <td>1</td>\n      <td>4</td>\n      <td>100.0</td>\n      <td>...</td>\n      <td>6.0</td>\n      <td>108.79</td>\n      <td>97.19</td>\n      <td>1.0</td>\n      <td>49.7</td>\n      <td>72.63</td>\n      <td>72.03</td>\n      <td>1.84</td>\n      <td>0.0</td>\n      <td>1.84</td>\n    </tr>\n    <tr>\n      <th>2</th>\n      <td>100307</td>\n      <td>Q1</td>\n      <td>Q01</td>\n      <td>F</td>\n      <td>26-30</td>\n      <td>True</td>\n      <td>1</td>\n      <td>1</td>\n      <td>4</td>\n      <td>100.0</td>\n      <td>...</td>\n      <td>3.6</td>\n      <td>101.12</td>\n      <td>86.45</td>\n      <td>0.0</td>\n      <td>38.6</td>\n      <td>71.69</td>\n      <td>71.76</td>\n      <td>1.76</td>\n      <td>0.0</td>\n      <td>1.76</td>\n    </tr>\n    <tr>\n      <th>3</th>\n      <td>100408</td>\n      <td>Q3</td>\n      <td>Q03</td>\n      <td>M</td>\n      <td>31-35</td>\n      <td>True</td>\n      <td>1</td>\n      <td>1</td>\n      <td>4</td>\n      <td>100.0</td>\n      <td>...</td>\n      <td>2.0</td>\n      <td>108.79</td>\n      <td>98.04</td>\n      <td>2.0</td>\n      <td>52.6</td>\n      <td>114.01</td>\n      <td>113.59</td>\n      <td>1.76</td>\n      <td>2.0</td>\n      <td>1.68</td>\n    </tr>\n    <tr>\n      <th>4</th>\n      <td>100610</td>\n      <td>S900</td>\n      <td>Q08</td>\n      <td>M</td>\n      <td>26-30</td>\n      <td>True</td>\n      <td>2</td>\n      <td>1</td>\n      <td>4</td>\n      <td>100.0</td>\n      <td>...</td>\n      <td>2.0</td>\n      <td>122.25</td>\n      <td>110.45</td>\n      <td>0.0</td>\n      <td>38.6</td>\n      <td>84.84</td>\n      <td>85.31</td>\n      <td>1.92</td>\n      <td>1.0</td>\n      <td>1.88</td>\n    </tr>\n    <tr>\n      <th>5</th>\n      <td>101006</td>\n      <td>S500</td>\n      <td>Q06</td>\n      <td>F</td>\n      <td>31-35</td>\n      <td>True</td>\n      <td>2</td>\n      <td>2</td>\n      <td>4</td>\n      <td>100.0</td>\n      <td>...</td>\n      <td>6.0</td>\n      <td>122.25</td>\n      <td>111.41</td>\n      <td>0.0</td>\n      <td>38.6</td>\n      <td>123.80</td>\n      <td>123.31</td>\n      <td>1.80</td>\n      <td>0.0</td>\n      <td>1.80</td>\n    </tr>\n    <tr>\n      <th>...</th>\n      <td>...</td>\n      <td>...</td>\n      <td>...</td>\n      <td>...</td>\n      <td>...</td>\n      <td>...</td>\n      <td>...</td>\n      <td>...</td>\n      <td>...</td>\n      <td>...</td>\n      <td>...</td>\n      <td>...</td>\n      <td>...</td>\n      <td>...</td>\n      <td>...</td>\n      <td>...</td>\n      <td>...</td>\n      <td>...</td>\n      <td>...</td>\n      <td>...</td>\n      <td>...</td>\n    </tr>\n    <tr>\n      <th>1200</th>\n      <td>992673</td>\n      <td>S900</td>\n      <td>Q12</td>\n      <td>F</td>\n      <td>31-35</td>\n      <td>True</td>\n      <td>1</td>\n      <td>2</td>\n      <td>4</td>\n      <td>100.0</td>\n      <td>...</td>\n      <td>3.6</td>\n      <td>122.25</td>\n      <td>111.41</td>\n      <td>1.0</td>\n      <td>38.6</td>\n      <td>101.63</td>\n      <td>99.26</td>\n      <td>1.80</td>\n      <td>0.0</td>\n      <td>1.80</td>\n    </tr>\n    <tr>\n      <th>1201</th>\n      <td>992774</td>\n      <td>Q2</td>\n      <td>Q02</td>\n      <td>M</td>\n      <td>31-35</td>\n      <td>True</td>\n      <td>2</td>\n      <td>2</td>\n      <td>4</td>\n      <td>100.0</td>\n      <td>...</td>\n      <td>8.4</td>\n      <td>122.25</td>\n      <td>111.41</td>\n      <td>4.0</td>\n      <td>50.1</td>\n      <td>107.17</td>\n      <td>103.55</td>\n      <td>1.76</td>\n      <td>0.0</td>\n      <td>1.76</td>\n    </tr>\n    <tr>\n      <th>1202</th>\n      <td>993675</td>\n      <td>S900</td>\n      <td>Q09</td>\n      <td>F</td>\n      <td>26-30</td>\n      <td>True</td>\n      <td>2</td>\n      <td>2</td>\n      <td>4</td>\n      <td>100.0</td>\n      <td>...</td>\n      <td>0.4</td>\n      <td>122.25</td>\n      <td>110.45</td>\n      <td>0.0</td>\n      <td>38.6</td>\n      <td>84.07</td>\n      <td>84.25</td>\n      <td>1.80</td>\n      <td>1.0</td>\n      <td>1.76</td>\n    </tr>\n    <tr>\n      <th>1203</th>\n      <td>994273</td>\n      <td>S500</td>\n      <td>Q06</td>\n      <td>M</td>\n      <td>26-30</td>\n      <td>True</td>\n      <td>1</td>\n      <td>1</td>\n      <td>4</td>\n      <td>100.0</td>\n      <td>...</td>\n      <td>6.0</td>\n      <td>122.25</td>\n      <td>111.41</td>\n      <td>7.0</td>\n      <td>63.8</td>\n      <td>110.65</td>\n      <td>109.73</td>\n      <td>1.80</td>\n      <td>1.0</td>\n      <td>1.76</td>\n    </tr>\n    <tr>\n      <th>1205</th>\n      <td>996782</td>\n      <td>S900</td>\n      <td>Q08</td>\n      <td>F</td>\n      <td>26-30</td>\n      <td>True</td>\n      <td>2</td>\n      <td>2</td>\n      <td>4</td>\n      <td>100.0</td>\n      <td>...</td>\n      <td>6.0</td>\n      <td>108.79</td>\n      <td>97.19</td>\n      <td>0.0</td>\n      <td>38.6</td>\n      <td>75.43</td>\n      <td>73.72</td>\n      <td>1.84</td>\n      <td>0.0</td>\n      <td>1.84</td>\n    </tr>\n  </tbody>\n</table>\n<p>1003 rows × 582 columns</p>\n</div>"
     },
     "metadata": {},
     "execution_count": 38
    }
   ],
   "source": [
    "df_1003 = df[df.Subject.isin(ids.values.reshape(-1))]\n",
    "df_1003"
   ]
  },
  {
   "cell_type": "code",
   "execution_count": 39,
   "metadata": {},
   "outputs": [],
   "source": [
    "df_1003.to_csv(os.path.join(data_path,'subject_information_1003.csv'), index=False)"
   ]
  },
  {
   "source": [
    "#### CREATE A PER SUBJECT CONNECTIVITY PARCELLATION TABLE\n",
    "\n",
    "- get the 1003 subjects\n",
    "\n",
    "- remove the underdiagonal data\n",
    "\n",
    "- add the labels for sex classification"
   ],
   "cell_type": "markdown",
   "metadata": {}
  },
  {
   "cell_type": "code",
   "execution_count": 31,
   "metadata": {},
   "outputs": [
    {
     "output_type": "execute_result",
     "data": {
      "text/plain": [
       "      0         1         2       3        4       5        6        7      \\\n",
       "0         0   7.49720  23.35000  78.054  -4.9579  43.429  60.4470  41.4040   \n",
       "1         0  -4.99950   4.73090  54.711  -6.9007  13.804  30.3770  26.1270   \n",
       "2         0   9.40280   5.24820  99.701 -12.2550  30.410  67.0210  49.9930   \n",
       "3         0 -28.31500 -13.18600  59.763 -24.9000  16.699  44.6980  34.0170   \n",
       "4         0  -0.14134   8.04310  63.203  -2.1901  24.454  46.9130  31.4790   \n",
       "...     ...       ...       ...     ...      ...     ...      ...      ...   \n",
       "998       0  -0.85452   3.24290  60.144  -6.1011  10.891  55.0160  64.7880   \n",
       "999       0   3.42850  10.47600  92.195 -12.6510  35.189  47.2660  52.4960   \n",
       "1000      0   4.76000  16.95700  20.941  14.9970  27.368   7.6914   8.8762   \n",
       "1001      0   5.93070  -0.43158  86.431 -17.4260  27.843  64.6700  66.5200   \n",
       "1002      0  -8.51760   3.63140  46.417  -6.0625  28.845  23.8540  40.2890   \n",
       "\n",
       "       8         9      ...     89990    89991     89992    89993    89994  \\\n",
       "0    -7.5742  17.58300  ...  5.985600  1.23560 -1.003900 -1.79980 -4.06780   \n",
       "1    -2.1377  18.45000  ...  0.070992  1.61880 -1.372000 -0.84560 -2.53120   \n",
       "2     1.2277   1.40360  ... -1.377700  3.51790 -0.483500 -1.76140 -1.87870   \n",
       "3    -8.2790   5.16900  ...  3.230900  3.35450  1.727200 -0.28996  1.55230   \n",
       "4     5.5834   2.11680  ...  0.823510  1.12190  0.094384 -0.10462 -3.42320   \n",
       "...      ...       ...  ...       ...      ...       ...      ...      ...   \n",
       "998  -9.6518   4.97660  ...  3.482100  1.99840 -1.136100 -4.01700 -4.33780   \n",
       "999   7.3938   0.57836  ...  0.507100 -0.47767  0.373180  0.74475 -0.31293   \n",
       "1000  1.4107  -1.37530  ...  2.702500  2.55100  0.139820 -0.50456 -0.42125   \n",
       "1001 -4.5230  -5.20640  ... -0.767970  0.86741 -2.463000  0.61160  0.59027   \n",
       "1002  7.0224  -2.15310  ...  2.782100  3.64620  0.762950 -1.30270  0.19135   \n",
       "\n",
       "        89995     89996    89997   89998  89999  \n",
       "0    -3.31760  2.231700 -0.28532  4.6379      0  \n",
       "1    -1.70270 -0.664390 -0.76610  4.5984      0  \n",
       "2    -0.56904  2.101300  1.19860  4.4317      0  \n",
       "3    -0.36566  1.234200  0.46160  6.1709      0  \n",
       "4     3.17070  0.775760 -2.84420  2.9442      0  \n",
       "...       ...       ...      ...     ...    ...  \n",
       "998   2.77780  2.964200 -1.32200  7.5611      0  \n",
       "999  -2.93160  1.213900  1.07780  4.9371      0  \n",
       "1000 -1.09860 -1.547500  1.31420  6.4576      0  \n",
       "1001 -2.32110 -0.053458 -1.50930  5.8259      0  \n",
       "1002  0.26386  0.922310 -1.57620  4.3008      0  \n",
       "\n",
       "[1003 rows x 90000 columns]"
      ],
      "text/html": "<div>\n<style scoped>\n    .dataframe tbody tr th:only-of-type {\n        vertical-align: middle;\n    }\n\n    .dataframe tbody tr th {\n        vertical-align: top;\n    }\n\n    .dataframe thead th {\n        text-align: right;\n    }\n</style>\n<table border=\"1\" class=\"dataframe\">\n  <thead>\n    <tr style=\"text-align: right;\">\n      <th></th>\n      <th>0</th>\n      <th>1</th>\n      <th>2</th>\n      <th>3</th>\n      <th>4</th>\n      <th>5</th>\n      <th>6</th>\n      <th>7</th>\n      <th>8</th>\n      <th>9</th>\n      <th>...</th>\n      <th>89990</th>\n      <th>89991</th>\n      <th>89992</th>\n      <th>89993</th>\n      <th>89994</th>\n      <th>89995</th>\n      <th>89996</th>\n      <th>89997</th>\n      <th>89998</th>\n      <th>89999</th>\n    </tr>\n  </thead>\n  <tbody>\n    <tr>\n      <th>0</th>\n      <td>0</td>\n      <td>7.49720</td>\n      <td>23.35000</td>\n      <td>78.054</td>\n      <td>-4.9579</td>\n      <td>43.429</td>\n      <td>60.4470</td>\n      <td>41.4040</td>\n      <td>-7.5742</td>\n      <td>17.58300</td>\n      <td>...</td>\n      <td>5.985600</td>\n      <td>1.23560</td>\n      <td>-1.003900</td>\n      <td>-1.79980</td>\n      <td>-4.06780</td>\n      <td>-3.31760</td>\n      <td>2.231700</td>\n      <td>-0.28532</td>\n      <td>4.6379</td>\n      <td>0</td>\n    </tr>\n    <tr>\n      <th>1</th>\n      <td>0</td>\n      <td>-4.99950</td>\n      <td>4.73090</td>\n      <td>54.711</td>\n      <td>-6.9007</td>\n      <td>13.804</td>\n      <td>30.3770</td>\n      <td>26.1270</td>\n      <td>-2.1377</td>\n      <td>18.45000</td>\n      <td>...</td>\n      <td>0.070992</td>\n      <td>1.61880</td>\n      <td>-1.372000</td>\n      <td>-0.84560</td>\n      <td>-2.53120</td>\n      <td>-1.70270</td>\n      <td>-0.664390</td>\n      <td>-0.76610</td>\n      <td>4.5984</td>\n      <td>0</td>\n    </tr>\n    <tr>\n      <th>2</th>\n      <td>0</td>\n      <td>9.40280</td>\n      <td>5.24820</td>\n      <td>99.701</td>\n      <td>-12.2550</td>\n      <td>30.410</td>\n      <td>67.0210</td>\n      <td>49.9930</td>\n      <td>1.2277</td>\n      <td>1.40360</td>\n      <td>...</td>\n      <td>-1.377700</td>\n      <td>3.51790</td>\n      <td>-0.483500</td>\n      <td>-1.76140</td>\n      <td>-1.87870</td>\n      <td>-0.56904</td>\n      <td>2.101300</td>\n      <td>1.19860</td>\n      <td>4.4317</td>\n      <td>0</td>\n    </tr>\n    <tr>\n      <th>3</th>\n      <td>0</td>\n      <td>-28.31500</td>\n      <td>-13.18600</td>\n      <td>59.763</td>\n      <td>-24.9000</td>\n      <td>16.699</td>\n      <td>44.6980</td>\n      <td>34.0170</td>\n      <td>-8.2790</td>\n      <td>5.16900</td>\n      <td>...</td>\n      <td>3.230900</td>\n      <td>3.35450</td>\n      <td>1.727200</td>\n      <td>-0.28996</td>\n      <td>1.55230</td>\n      <td>-0.36566</td>\n      <td>1.234200</td>\n      <td>0.46160</td>\n      <td>6.1709</td>\n      <td>0</td>\n    </tr>\n    <tr>\n      <th>4</th>\n      <td>0</td>\n      <td>-0.14134</td>\n      <td>8.04310</td>\n      <td>63.203</td>\n      <td>-2.1901</td>\n      <td>24.454</td>\n      <td>46.9130</td>\n      <td>31.4790</td>\n      <td>5.5834</td>\n      <td>2.11680</td>\n      <td>...</td>\n      <td>0.823510</td>\n      <td>1.12190</td>\n      <td>0.094384</td>\n      <td>-0.10462</td>\n      <td>-3.42320</td>\n      <td>3.17070</td>\n      <td>0.775760</td>\n      <td>-2.84420</td>\n      <td>2.9442</td>\n      <td>0</td>\n    </tr>\n    <tr>\n      <th>...</th>\n      <td>...</td>\n      <td>...</td>\n      <td>...</td>\n      <td>...</td>\n      <td>...</td>\n      <td>...</td>\n      <td>...</td>\n      <td>...</td>\n      <td>...</td>\n      <td>...</td>\n      <td>...</td>\n      <td>...</td>\n      <td>...</td>\n      <td>...</td>\n      <td>...</td>\n      <td>...</td>\n      <td>...</td>\n      <td>...</td>\n      <td>...</td>\n      <td>...</td>\n      <td>...</td>\n    </tr>\n    <tr>\n      <th>998</th>\n      <td>0</td>\n      <td>-0.85452</td>\n      <td>3.24290</td>\n      <td>60.144</td>\n      <td>-6.1011</td>\n      <td>10.891</td>\n      <td>55.0160</td>\n      <td>64.7880</td>\n      <td>-9.6518</td>\n      <td>4.97660</td>\n      <td>...</td>\n      <td>3.482100</td>\n      <td>1.99840</td>\n      <td>-1.136100</td>\n      <td>-4.01700</td>\n      <td>-4.33780</td>\n      <td>2.77780</td>\n      <td>2.964200</td>\n      <td>-1.32200</td>\n      <td>7.5611</td>\n      <td>0</td>\n    </tr>\n    <tr>\n      <th>999</th>\n      <td>0</td>\n      <td>3.42850</td>\n      <td>10.47600</td>\n      <td>92.195</td>\n      <td>-12.6510</td>\n      <td>35.189</td>\n      <td>47.2660</td>\n      <td>52.4960</td>\n      <td>7.3938</td>\n      <td>0.57836</td>\n      <td>...</td>\n      <td>0.507100</td>\n      <td>-0.47767</td>\n      <td>0.373180</td>\n      <td>0.74475</td>\n      <td>-0.31293</td>\n      <td>-2.93160</td>\n      <td>1.213900</td>\n      <td>1.07780</td>\n      <td>4.9371</td>\n      <td>0</td>\n    </tr>\n    <tr>\n      <th>1000</th>\n      <td>0</td>\n      <td>4.76000</td>\n      <td>16.95700</td>\n      <td>20.941</td>\n      <td>14.9970</td>\n      <td>27.368</td>\n      <td>7.6914</td>\n      <td>8.8762</td>\n      <td>1.4107</td>\n      <td>-1.37530</td>\n      <td>...</td>\n      <td>2.702500</td>\n      <td>2.55100</td>\n      <td>0.139820</td>\n      <td>-0.50456</td>\n      <td>-0.42125</td>\n      <td>-1.09860</td>\n      <td>-1.547500</td>\n      <td>1.31420</td>\n      <td>6.4576</td>\n      <td>0</td>\n    </tr>\n    <tr>\n      <th>1001</th>\n      <td>0</td>\n      <td>5.93070</td>\n      <td>-0.43158</td>\n      <td>86.431</td>\n      <td>-17.4260</td>\n      <td>27.843</td>\n      <td>64.6700</td>\n      <td>66.5200</td>\n      <td>-4.5230</td>\n      <td>-5.20640</td>\n      <td>...</td>\n      <td>-0.767970</td>\n      <td>0.86741</td>\n      <td>-2.463000</td>\n      <td>0.61160</td>\n      <td>0.59027</td>\n      <td>-2.32110</td>\n      <td>-0.053458</td>\n      <td>-1.50930</td>\n      <td>5.8259</td>\n      <td>0</td>\n    </tr>\n    <tr>\n      <th>1002</th>\n      <td>0</td>\n      <td>-8.51760</td>\n      <td>3.63140</td>\n      <td>46.417</td>\n      <td>-6.0625</td>\n      <td>28.845</td>\n      <td>23.8540</td>\n      <td>40.2890</td>\n      <td>7.0224</td>\n      <td>-2.15310</td>\n      <td>...</td>\n      <td>2.782100</td>\n      <td>3.64620</td>\n      <td>0.762950</td>\n      <td>-1.30270</td>\n      <td>0.19135</td>\n      <td>0.26386</td>\n      <td>0.922310</td>\n      <td>-1.57620</td>\n      <td>4.3008</td>\n      <td>0</td>\n    </tr>\n  </tbody>\n</table>\n<p>1003 rows × 90000 columns</p>\n</div>"
     },
     "metadata": {},
     "execution_count": 31
    }
   ],
   "source": [
    "ICA_components = 300\n",
    "data_path = '/home/sd20/workspace/data/HCP/'\n",
    "filename = 'netmats_ICA{}/netmats1.txt'.format(ICA_components)\n",
    "file_path = os.path.join(data_path, filename)\n",
    "\n",
    "df_connectivity = pd.read_csv(file_path, delimiter = \" \",header=None)\n",
    "df_connectivity"
   ]
  },
  {
   "cell_type": "code",
   "execution_count": 32,
   "metadata": {},
   "outputs": [
    {
     "output_type": "execute_result",
     "data": {
      "text/plain": [
       "(array([  0,   0,   0, ..., 297, 297, 298]),\n",
       " array([  1,   2,   3, ..., 298, 299, 299]))"
      ]
     },
     "metadata": {},
     "execution_count": 32
    }
   ],
   "source": [
    "up_triu_ind = np.triu_indices(ICA_components,k=1)\n",
    "up_triu_ind"
   ]
  },
  {
   "cell_type": "code",
   "execution_count": 33,
   "metadata": {},
   "outputs": [
    {
     "output_type": "execute_result",
     "data": {
      "text/plain": [
       "True"
      ]
     },
     "metadata": {},
     "execution_count": 33
    }
   ],
   "source": [
    "cols = []\n",
    "for i in range(len(up_triu_ind[0])):\n",
    "    cols.append(up_triu_ind[0][i]*ICA_components+up_triu_ind[1][i])\n",
    "len(cols)==(ICA_components*ICA_components-len(up_triu_ind[0])-ICA_components)"
   ]
  },
  {
   "cell_type": "code",
   "execution_count": 34,
   "metadata": {},
   "outputs": [],
   "source": [
    "df_connectivity = df_connectivity[cols]"
   ]
  },
  {
   "cell_type": "code",
   "execution_count": 35,
   "metadata": {},
   "outputs": [
    {
     "output_type": "execute_result",
     "data": {
      "text/plain": [
       "      Subject Release Acquisition Gender    Age  3T_Full_MR_Compl  T1_Count  \\\n",
       "0      100206    S900         Q11      M  26-30              True         1   \n",
       "1      100307      Q1         Q01      F  26-30              True         1   \n",
       "2      100408      Q3         Q03      M  31-35              True         1   \n",
       "3      100610    S900         Q08      M  26-30              True         2   \n",
       "4      101006    S500         Q06      F  31-35              True         2   \n",
       "...       ...     ...         ...    ...    ...               ...       ...   \n",
       "998    992673    S900         Q12      F  31-35              True         1   \n",
       "999    992774      Q2         Q02      M  31-35              True         2   \n",
       "1000   993675    S900         Q09      F  26-30              True         2   \n",
       "1001   994273    S500         Q06      M  26-30              True         1   \n",
       "1002   996782    S900         Q08      F  26-30              True         2   \n",
       "\n",
       "      T2_Count  3T_RS-fMRI_Count  3T_RS-fMRI_PctCompl  ...  Noise_Comp  \\\n",
       "0            1                 4                100.0  ...         6.0   \n",
       "1            1                 4                100.0  ...         3.6   \n",
       "2            1                 4                100.0  ...         2.0   \n",
       "3            1                 4                100.0  ...         2.0   \n",
       "4            2                 4                100.0  ...         6.0   \n",
       "...        ...               ...                  ...  ...         ...   \n",
       "998          2                 4                100.0  ...         3.6   \n",
       "999          2                 4                100.0  ...         8.4   \n",
       "1000         2                 4                100.0  ...         0.4   \n",
       "1001         1                 4                100.0  ...         6.0   \n",
       "1002         2                 4                100.0  ...         6.0   \n",
       "\n",
       "      Odor_Unadj  Odor_AgeAdj  PainIntens_RawScore  PainInterf_Tscore  \\\n",
       "0         108.79        97.19                  1.0               49.7   \n",
       "1         101.12        86.45                  0.0               38.6   \n",
       "2         108.79        98.04                  2.0               52.6   \n",
       "3         122.25       110.45                  0.0               38.6   \n",
       "4         122.25       111.41                  0.0               38.6   \n",
       "...          ...          ...                  ...                ...   \n",
       "998       122.25       111.41                  1.0               38.6   \n",
       "999       122.25       111.41                  4.0               50.1   \n",
       "1000      122.25       110.45                  0.0               38.6   \n",
       "1001      122.25       111.41                  7.0               63.8   \n",
       "1002      108.79        97.19                  0.0               38.6   \n",
       "\n",
       "      Taste_Unadj  Taste_AgeAdj  Mars_Log_Score  Mars_Errs  Mars_Final  \n",
       "0           72.63         72.03            1.84        0.0        1.84  \n",
       "1           71.69         71.76            1.76        0.0        1.76  \n",
       "2          114.01        113.59            1.76        2.0        1.68  \n",
       "3           84.84         85.31            1.92        1.0        1.88  \n",
       "4          123.80        123.31            1.80        0.0        1.80  \n",
       "...           ...           ...             ...        ...         ...  \n",
       "998        101.63         99.26            1.80        0.0        1.80  \n",
       "999        107.17        103.55            1.76        0.0        1.76  \n",
       "1000        84.07         84.25            1.80        1.0        1.76  \n",
       "1001       110.65        109.73            1.80        1.0        1.76  \n",
       "1002        75.43         73.72            1.84        0.0        1.84  \n",
       "\n",
       "[1003 rows x 582 columns]"
      ],
      "text/html": "<div>\n<style scoped>\n    .dataframe tbody tr th:only-of-type {\n        vertical-align: middle;\n    }\n\n    .dataframe tbody tr th {\n        vertical-align: top;\n    }\n\n    .dataframe thead th {\n        text-align: right;\n    }\n</style>\n<table border=\"1\" class=\"dataframe\">\n  <thead>\n    <tr style=\"text-align: right;\">\n      <th></th>\n      <th>Subject</th>\n      <th>Release</th>\n      <th>Acquisition</th>\n      <th>Gender</th>\n      <th>Age</th>\n      <th>3T_Full_MR_Compl</th>\n      <th>T1_Count</th>\n      <th>T2_Count</th>\n      <th>3T_RS-fMRI_Count</th>\n      <th>3T_RS-fMRI_PctCompl</th>\n      <th>...</th>\n      <th>Noise_Comp</th>\n      <th>Odor_Unadj</th>\n      <th>Odor_AgeAdj</th>\n      <th>PainIntens_RawScore</th>\n      <th>PainInterf_Tscore</th>\n      <th>Taste_Unadj</th>\n      <th>Taste_AgeAdj</th>\n      <th>Mars_Log_Score</th>\n      <th>Mars_Errs</th>\n      <th>Mars_Final</th>\n    </tr>\n  </thead>\n  <tbody>\n    <tr>\n      <th>0</th>\n      <td>100206</td>\n      <td>S900</td>\n      <td>Q11</td>\n      <td>M</td>\n      <td>26-30</td>\n      <td>True</td>\n      <td>1</td>\n      <td>1</td>\n      <td>4</td>\n      <td>100.0</td>\n      <td>...</td>\n      <td>6.0</td>\n      <td>108.79</td>\n      <td>97.19</td>\n      <td>1.0</td>\n      <td>49.7</td>\n      <td>72.63</td>\n      <td>72.03</td>\n      <td>1.84</td>\n      <td>0.0</td>\n      <td>1.84</td>\n    </tr>\n    <tr>\n      <th>1</th>\n      <td>100307</td>\n      <td>Q1</td>\n      <td>Q01</td>\n      <td>F</td>\n      <td>26-30</td>\n      <td>True</td>\n      <td>1</td>\n      <td>1</td>\n      <td>4</td>\n      <td>100.0</td>\n      <td>...</td>\n      <td>3.6</td>\n      <td>101.12</td>\n      <td>86.45</td>\n      <td>0.0</td>\n      <td>38.6</td>\n      <td>71.69</td>\n      <td>71.76</td>\n      <td>1.76</td>\n      <td>0.0</td>\n      <td>1.76</td>\n    </tr>\n    <tr>\n      <th>2</th>\n      <td>100408</td>\n      <td>Q3</td>\n      <td>Q03</td>\n      <td>M</td>\n      <td>31-35</td>\n      <td>True</td>\n      <td>1</td>\n      <td>1</td>\n      <td>4</td>\n      <td>100.0</td>\n      <td>...</td>\n      <td>2.0</td>\n      <td>108.79</td>\n      <td>98.04</td>\n      <td>2.0</td>\n      <td>52.6</td>\n      <td>114.01</td>\n      <td>113.59</td>\n      <td>1.76</td>\n      <td>2.0</td>\n      <td>1.68</td>\n    </tr>\n    <tr>\n      <th>3</th>\n      <td>100610</td>\n      <td>S900</td>\n      <td>Q08</td>\n      <td>M</td>\n      <td>26-30</td>\n      <td>True</td>\n      <td>2</td>\n      <td>1</td>\n      <td>4</td>\n      <td>100.0</td>\n      <td>...</td>\n      <td>2.0</td>\n      <td>122.25</td>\n      <td>110.45</td>\n      <td>0.0</td>\n      <td>38.6</td>\n      <td>84.84</td>\n      <td>85.31</td>\n      <td>1.92</td>\n      <td>1.0</td>\n      <td>1.88</td>\n    </tr>\n    <tr>\n      <th>4</th>\n      <td>101006</td>\n      <td>S500</td>\n      <td>Q06</td>\n      <td>F</td>\n      <td>31-35</td>\n      <td>True</td>\n      <td>2</td>\n      <td>2</td>\n      <td>4</td>\n      <td>100.0</td>\n      <td>...</td>\n      <td>6.0</td>\n      <td>122.25</td>\n      <td>111.41</td>\n      <td>0.0</td>\n      <td>38.6</td>\n      <td>123.80</td>\n      <td>123.31</td>\n      <td>1.80</td>\n      <td>0.0</td>\n      <td>1.80</td>\n    </tr>\n    <tr>\n      <th>...</th>\n      <td>...</td>\n      <td>...</td>\n      <td>...</td>\n      <td>...</td>\n      <td>...</td>\n      <td>...</td>\n      <td>...</td>\n      <td>...</td>\n      <td>...</td>\n      <td>...</td>\n      <td>...</td>\n      <td>...</td>\n      <td>...</td>\n      <td>...</td>\n      <td>...</td>\n      <td>...</td>\n      <td>...</td>\n      <td>...</td>\n      <td>...</td>\n      <td>...</td>\n      <td>...</td>\n    </tr>\n    <tr>\n      <th>998</th>\n      <td>992673</td>\n      <td>S900</td>\n      <td>Q12</td>\n      <td>F</td>\n      <td>31-35</td>\n      <td>True</td>\n      <td>1</td>\n      <td>2</td>\n      <td>4</td>\n      <td>100.0</td>\n      <td>...</td>\n      <td>3.6</td>\n      <td>122.25</td>\n      <td>111.41</td>\n      <td>1.0</td>\n      <td>38.6</td>\n      <td>101.63</td>\n      <td>99.26</td>\n      <td>1.80</td>\n      <td>0.0</td>\n      <td>1.80</td>\n    </tr>\n    <tr>\n      <th>999</th>\n      <td>992774</td>\n      <td>Q2</td>\n      <td>Q02</td>\n      <td>M</td>\n      <td>31-35</td>\n      <td>True</td>\n      <td>2</td>\n      <td>2</td>\n      <td>4</td>\n      <td>100.0</td>\n      <td>...</td>\n      <td>8.4</td>\n      <td>122.25</td>\n      <td>111.41</td>\n      <td>4.0</td>\n      <td>50.1</td>\n      <td>107.17</td>\n      <td>103.55</td>\n      <td>1.76</td>\n      <td>0.0</td>\n      <td>1.76</td>\n    </tr>\n    <tr>\n      <th>1000</th>\n      <td>993675</td>\n      <td>S900</td>\n      <td>Q09</td>\n      <td>F</td>\n      <td>26-30</td>\n      <td>True</td>\n      <td>2</td>\n      <td>2</td>\n      <td>4</td>\n      <td>100.0</td>\n      <td>...</td>\n      <td>0.4</td>\n      <td>122.25</td>\n      <td>110.45</td>\n      <td>0.0</td>\n      <td>38.6</td>\n      <td>84.07</td>\n      <td>84.25</td>\n      <td>1.80</td>\n      <td>1.0</td>\n      <td>1.76</td>\n    </tr>\n    <tr>\n      <th>1001</th>\n      <td>994273</td>\n      <td>S500</td>\n      <td>Q06</td>\n      <td>M</td>\n      <td>26-30</td>\n      <td>True</td>\n      <td>1</td>\n      <td>1</td>\n      <td>4</td>\n      <td>100.0</td>\n      <td>...</td>\n      <td>6.0</td>\n      <td>122.25</td>\n      <td>111.41</td>\n      <td>7.0</td>\n      <td>63.8</td>\n      <td>110.65</td>\n      <td>109.73</td>\n      <td>1.80</td>\n      <td>1.0</td>\n      <td>1.76</td>\n    </tr>\n    <tr>\n      <th>1002</th>\n      <td>996782</td>\n      <td>S900</td>\n      <td>Q08</td>\n      <td>F</td>\n      <td>26-30</td>\n      <td>True</td>\n      <td>2</td>\n      <td>2</td>\n      <td>4</td>\n      <td>100.0</td>\n      <td>...</td>\n      <td>6.0</td>\n      <td>108.79</td>\n      <td>97.19</td>\n      <td>0.0</td>\n      <td>38.6</td>\n      <td>75.43</td>\n      <td>73.72</td>\n      <td>1.84</td>\n      <td>0.0</td>\n      <td>1.84</td>\n    </tr>\n  </tbody>\n</table>\n<p>1003 rows × 582 columns</p>\n</div>"
     },
     "metadata": {},
     "execution_count": 35
    }
   ],
   "source": [
    "filename = 'subject_information_1003.csv'\n",
    "file_path = os.path.join(data_path,filename)\n",
    "\n",
    "df_1003 = pd.read_csv(file_path)\n",
    "df_1003"
   ]
  },
  {
   "cell_type": "code",
   "execution_count": 36,
   "metadata": {},
   "outputs": [
    {
     "output_type": "stream",
     "name": "stdout",
     "text": [
      "[0, 1, 0, 0, 1, 0, 0, 1, 0, 0, 1, 0, 0, 0, 1, 0, 0, 0, 1, 1, 1, 1, 1, 1, 1, 0, 0, 1, 1, 1, 0, 1, 0, 1, 1, 0, 1, 0, 1, 0, 1, 0, 0, 0, 0, 1, 1, 0, 0, 1, 1, 1, 1, 0, 1, 0, 1, 1, 0, 1, 0, 1, 0, 1, 1, 0, 0, 1, 0, 1, 0, 1, 1, 0, 0, 0, 1, 1, 1, 1, 1, 1, 0, 1, 0, 0, 0, 0, 1, 1, 1, 1, 1, 1, 0, 0, 0, 0, 0, 1, 0, 1, 0, 1, 0, 1, 0, 1, 1, 1, 0, 1, 1, 1, 1, 0, 0, 0, 1, 1, 1, 0, 1, 1, 1, 0, 0, 1, 1, 0, 0, 0, 1, 0, 1, 1, 0, 1, 1, 1, 1, 1, 0, 0, 1, 1, 1, 0, 0, 0, 1, 1, 0, 1, 0, 0, 1, 1, 1, 1, 0, 0, 1, 0, 0, 0, 1, 0, 0, 1, 0, 1, 0, 1, 0, 1, 1, 0, 0, 0, 1, 1, 1, 0, 1, 1, 0, 1, 0, 1, 1, 0, 1, 1, 1, 1, 1, 1, 0, 1, 1, 0, 0, 0, 1, 0, 1, 0, 0, 1, 0, 1, 0, 1, 1, 1, 1, 1, 0, 1, 0, 1, 0, 0, 0, 1, 0, 0, 0, 1, 0, 1, 0, 1, 0, 1, 0, 0, 1, 0, 1, 1, 1, 0, 1, 1, 1, 0, 1, 0, 1, 0, 0, 1, 0, 1, 0, 1, 1, 1, 0, 0, 0, 1, 1, 1, 1, 0, 0, 0, 0, 0, 1, 0, 1, 0, 0, 1, 1, 1, 1, 1, 0, 1, 0, 1, 1, 0, 0, 0, 1, 1, 0, 0, 0, 1, 0, 0, 0, 0, 1, 0, 0, 1, 1, 1, 1, 0, 0, 0, 1, 1, 0, 1, 1, 0, 0, 1, 0, 1, 0, 0, 0, 1, 0, 1, 1, 0, 1, 1, 1, 0, 1, 1, 1, 0, 0, 1, 1, 1, 1, 0, 1, 1, 0, 0, 1, 0, 1, 1, 0, 1, 1, 1, 0, 1, 0, 0, 0, 1, 1, 1, 1, 1, 1, 1, 1, 0, 1, 1, 1, 1, 1, 1, 0, 0, 0, 1, 1, 0, 0, 1, 0, 0, 1, 1, 1, 0, 1, 1, 0, 1, 1, 1, 0, 0, 1, 0, 0, 1, 1, 0, 0, 1, 1, 0, 1, 0, 1, 1, 1, 1, 0, 1, 0, 1, 0, 0, 0, 1, 1, 1, 1, 0, 0, 1, 0, 1, 1, 1, 1, 0, 0, 0, 0, 0, 1, 1, 1, 0, 0, 0, 1, 1, 0, 0, 1, 1, 0, 1, 0, 1, 1, 0, 0, 1, 1, 0, 1, 1, 1, 1, 0, 1, 1, 0, 0, 1, 0, 0, 0, 0, 0, 0, 1, 1, 1, 0, 0, 1, 1, 1, 1, 0, 0, 0, 1, 1, 1, 0, 1, 0, 0, 0, 0, 1, 0, 0, 1, 1, 1, 0, 0, 1, 0, 1, 1, 0, 0, 1, 0, 0, 1, 0, 0, 1, 0, 1, 0, 1, 1, 1, 0, 1, 1, 0, 1, 1, 1, 1, 0, 1, 1, 1, 0, 1, 1, 1, 1, 0, 1, 1, 0, 1, 0, 1, 0, 1, 1, 0, 0, 1, 0, 1, 0, 1, 1, 1, 1, 1, 1, 1, 0, 0, 0, 0, 0, 1, 0, 0, 1, 1, 1, 0, 0, 1, 1, 0, 0, 1, 1, 0, 1, 1, 1, 0, 0, 0, 0, 1, 1, 0, 1, 0, 0, 0, 1, 0, 0, 1, 0, 0, 0, 1, 1, 1, 1, 0, 1, 1, 0, 0, 1, 1, 1, 1, 0, 1, 1, 0, 1, 1, 1, 0, 0, 0, 0, 1, 1, 1, 0, 0, 1, 0, 1, 1, 1, 0, 1, 0, 0, 1, 0, 1, 1, 1, 0, 1, 1, 0, 1, 0, 1, 1, 0, 1, 1, 1, 0, 0, 0, 0, 1, 0, 1, 1, 0, 1, 1, 0, 1, 1, 1, 0, 1, 1, 1, 1, 0, 0, 0, 1, 1, 0, 1, 1, 0, 1, 1, 0, 0, 0, 0, 1, 0, 1, 0, 0, 1, 1, 0, 0, 0, 1, 1, 0, 0, 1, 0, 1, 0, 0, 1, 1, 1, 1, 0, 0, 0, 1, 1, 0, 1, 0, 0, 1, 1, 1, 1, 0, 1, 1, 1, 1, 0, 1, 0, 0, 1, 1, 1, 1, 1, 1, 1, 0, 0, 0, 0, 1, 1, 1, 1, 0, 0, 0, 0, 0, 0, 0, 0, 1, 0, 0, 0, 1, 0, 1, 1, 0, 1, 0, 1, 0, 1, 0, 0, 1, 1, 0, 0, 1, 1, 0, 1, 1, 1, 0, 1, 1, 1, 0, 0, 1, 1, 0, 1, 0, 1, 0, 0, 0, 0, 1, 0, 0, 1, 1, 0, 1, 1, 1, 1, 0, 0, 0, 0, 0, 0, 1, 0, 0, 0, 1, 0, 0, 1, 0, 1, 1, 1, 1, 1, 0, 0, 0, 0, 1, 1, 0, 0, 1, 1, 1, 0, 0, 1, 0, 1, 1, 1, 0, 1, 0, 0, 0, 0, 1, 0, 1, 1, 0, 0, 1, 1, 0, 1, 1, 0, 0, 1, 1, 0, 1, 1, 1, 0, 1, 0, 0, 0, 0, 1, 0, 1, 1, 0, 0, 1, 0, 0, 1, 0, 0, 0, 1, 0, 1, 1, 1, 1, 1, 0, 0, 1, 1, 0, 1, 1, 0, 1, 1, 1, 0, 1, 1, 0, 0, 1, 1, 0, 0, 1, 0, 0, 0, 1, 1, 1, 1, 1, 1, 0, 0, 0, 1, 1, 1, 0, 1, 0, 0, 0, 0, 1, 0, 1, 0, 0, 1, 0, 1, 1, 1, 1, 1, 1, 0, 0, 1, 1, 0, 0, 1, 1, 0, 1, 0, 0, 1, 0, 1, 0, 0, 0, 1, 1, 1, 0, 1, 0, 1, 0, 0, 0, 0, 0, 1, 0, 1, 1, 0, 1, 0, 1, 0, 0, 0, 1, 0, 1, 0, 1]\n"
     ]
    }
   ],
   "source": [
    "sex_labels =  [0  if i=='M' else 1 for i in df_1003['Gender'].values]\n",
    "print(sex_labels)"
   ]
  },
  {
   "cell_type": "code",
   "execution_count": 37,
   "metadata": {},
   "outputs": [
    {
     "output_type": "stream",
     "name": "stderr",
     "text": [
      "/home/sd20/anaconda3/envs/fMRI/lib/python3.7/site-packages/ipykernel_launcher.py:1: SettingWithCopyWarning: \nA value is trying to be set on a copy of a slice from a DataFrame.\nTry using .loc[row_indexer,col_indexer] = value instead\n\nSee the caveats in the documentation: https://pandas.pydata.org/pandas-docs/stable/user_guide/indexing.html#returning-a-view-versus-a-copy\n  \"\"\"Entry point for launching an IPython kernel.\n"
     ]
    },
    {
     "output_type": "execute_result",
     "data": {
      "text/plain": [
       "             1         2       3        4       5        6        7       8  \\\n",
       "0      7.49720  23.35000  78.054  -4.9579  43.429  60.4470  41.4040 -7.5742   \n",
       "1     -4.99950   4.73090  54.711  -6.9007  13.804  30.3770  26.1270 -2.1377   \n",
       "2      9.40280   5.24820  99.701 -12.2550  30.410  67.0210  49.9930  1.2277   \n",
       "3    -28.31500 -13.18600  59.763 -24.9000  16.699  44.6980  34.0170 -8.2790   \n",
       "4     -0.14134   8.04310  63.203  -2.1901  24.454  46.9130  31.4790  5.5834   \n",
       "...        ...       ...     ...      ...     ...      ...      ...     ...   \n",
       "998   -0.85452   3.24290  60.144  -6.1011  10.891  55.0160  64.7880 -9.6518   \n",
       "999    3.42850  10.47600  92.195 -12.6510  35.189  47.2660  52.4960  7.3938   \n",
       "1000   4.76000  16.95700  20.941  14.9970  27.368   7.6914   8.8762  1.4107   \n",
       "1001   5.93070  -0.43158  86.431 -17.4260  27.843  64.6700  66.5200 -4.5230   \n",
       "1002  -8.51760   3.63140  46.417  -6.0625  28.845  23.8540  40.2890  7.0224   \n",
       "\n",
       "             9         10  ...    88797     88798    88799    89097    89098  \\\n",
       "0     17.58300  -2.662400  ... -0.34927 -0.658430 -3.31760  2.79060  1.33920   \n",
       "1     18.45000 -14.857000  ... -0.17186 -0.780040 -1.70270 -1.00820  0.36915   \n",
       "2      1.40360  -0.461260  ... -3.81500 -3.392200 -0.56904  3.66550  1.26210   \n",
       "3      5.16900   0.089982  ... -0.62287  0.124290 -0.36566 -0.94756 -0.63533   \n",
       "4      2.11680   9.282800  ... -1.06850 -1.795900  3.17070  1.39460  0.79006   \n",
       "...        ...        ...  ...      ...       ...      ...      ...      ...   \n",
       "998    4.97660 -12.543000  ... -0.15140  1.257800  2.77780  0.22414 -0.47279   \n",
       "999    0.57836   4.123800  ...  2.26950  0.643660 -2.93160  0.24456  3.25640   \n",
       "1000  -1.37530  -8.494300  ... -0.76169 -1.795200 -1.09860  0.55332 -0.11358   \n",
       "1001  -5.20640  15.786000  ... -3.75140  0.019416 -2.32110  0.79256  0.14387   \n",
       "1002  -2.15310   9.071000  ...  0.36710 -0.015315  0.26386 -0.75828 -2.38870   \n",
       "\n",
       "         89099    89398    89399   89699  sex  \n",
       "0     2.231700  1.51680 -0.28532  4.6379    0  \n",
       "1    -0.664390  1.45510 -0.76610  4.5984    1  \n",
       "2     2.101300  0.78259  1.19860  4.4317    0  \n",
       "3     1.234200  1.27270  0.46160  6.1709    0  \n",
       "4     0.775760  0.17996 -2.84420  2.9442    1  \n",
       "...        ...      ...      ...     ...  ...  \n",
       "998   2.964200 -0.26596 -1.32200  7.5611    1  \n",
       "999   1.213900 -0.68257  1.07780  4.9371    0  \n",
       "1000 -1.547500 -0.76885  1.31420  6.4576    1  \n",
       "1001 -0.053458 -0.63690 -1.50930  5.8259    0  \n",
       "1002  0.922310  1.72560 -1.57620  4.3008    1  \n",
       "\n",
       "[1003 rows x 44851 columns]"
      ],
      "text/html": "<div>\n<style scoped>\n    .dataframe tbody tr th:only-of-type {\n        vertical-align: middle;\n    }\n\n    .dataframe tbody tr th {\n        vertical-align: top;\n    }\n\n    .dataframe thead th {\n        text-align: right;\n    }\n</style>\n<table border=\"1\" class=\"dataframe\">\n  <thead>\n    <tr style=\"text-align: right;\">\n      <th></th>\n      <th>1</th>\n      <th>2</th>\n      <th>3</th>\n      <th>4</th>\n      <th>5</th>\n      <th>6</th>\n      <th>7</th>\n      <th>8</th>\n      <th>9</th>\n      <th>10</th>\n      <th>...</th>\n      <th>88797</th>\n      <th>88798</th>\n      <th>88799</th>\n      <th>89097</th>\n      <th>89098</th>\n      <th>89099</th>\n      <th>89398</th>\n      <th>89399</th>\n      <th>89699</th>\n      <th>sex</th>\n    </tr>\n  </thead>\n  <tbody>\n    <tr>\n      <th>0</th>\n      <td>7.49720</td>\n      <td>23.35000</td>\n      <td>78.054</td>\n      <td>-4.9579</td>\n      <td>43.429</td>\n      <td>60.4470</td>\n      <td>41.4040</td>\n      <td>-7.5742</td>\n      <td>17.58300</td>\n      <td>-2.662400</td>\n      <td>...</td>\n      <td>-0.34927</td>\n      <td>-0.658430</td>\n      <td>-3.31760</td>\n      <td>2.79060</td>\n      <td>1.33920</td>\n      <td>2.231700</td>\n      <td>1.51680</td>\n      <td>-0.28532</td>\n      <td>4.6379</td>\n      <td>0</td>\n    </tr>\n    <tr>\n      <th>1</th>\n      <td>-4.99950</td>\n      <td>4.73090</td>\n      <td>54.711</td>\n      <td>-6.9007</td>\n      <td>13.804</td>\n      <td>30.3770</td>\n      <td>26.1270</td>\n      <td>-2.1377</td>\n      <td>18.45000</td>\n      <td>-14.857000</td>\n      <td>...</td>\n      <td>-0.17186</td>\n      <td>-0.780040</td>\n      <td>-1.70270</td>\n      <td>-1.00820</td>\n      <td>0.36915</td>\n      <td>-0.664390</td>\n      <td>1.45510</td>\n      <td>-0.76610</td>\n      <td>4.5984</td>\n      <td>1</td>\n    </tr>\n    <tr>\n      <th>2</th>\n      <td>9.40280</td>\n      <td>5.24820</td>\n      <td>99.701</td>\n      <td>-12.2550</td>\n      <td>30.410</td>\n      <td>67.0210</td>\n      <td>49.9930</td>\n      <td>1.2277</td>\n      <td>1.40360</td>\n      <td>-0.461260</td>\n      <td>...</td>\n      <td>-3.81500</td>\n      <td>-3.392200</td>\n      <td>-0.56904</td>\n      <td>3.66550</td>\n      <td>1.26210</td>\n      <td>2.101300</td>\n      <td>0.78259</td>\n      <td>1.19860</td>\n      <td>4.4317</td>\n      <td>0</td>\n    </tr>\n    <tr>\n      <th>3</th>\n      <td>-28.31500</td>\n      <td>-13.18600</td>\n      <td>59.763</td>\n      <td>-24.9000</td>\n      <td>16.699</td>\n      <td>44.6980</td>\n      <td>34.0170</td>\n      <td>-8.2790</td>\n      <td>5.16900</td>\n      <td>0.089982</td>\n      <td>...</td>\n      <td>-0.62287</td>\n      <td>0.124290</td>\n      <td>-0.36566</td>\n      <td>-0.94756</td>\n      <td>-0.63533</td>\n      <td>1.234200</td>\n      <td>1.27270</td>\n      <td>0.46160</td>\n      <td>6.1709</td>\n      <td>0</td>\n    </tr>\n    <tr>\n      <th>4</th>\n      <td>-0.14134</td>\n      <td>8.04310</td>\n      <td>63.203</td>\n      <td>-2.1901</td>\n      <td>24.454</td>\n      <td>46.9130</td>\n      <td>31.4790</td>\n      <td>5.5834</td>\n      <td>2.11680</td>\n      <td>9.282800</td>\n      <td>...</td>\n      <td>-1.06850</td>\n      <td>-1.795900</td>\n      <td>3.17070</td>\n      <td>1.39460</td>\n      <td>0.79006</td>\n      <td>0.775760</td>\n      <td>0.17996</td>\n      <td>-2.84420</td>\n      <td>2.9442</td>\n      <td>1</td>\n    </tr>\n    <tr>\n      <th>...</th>\n      <td>...</td>\n      <td>...</td>\n      <td>...</td>\n      <td>...</td>\n      <td>...</td>\n      <td>...</td>\n      <td>...</td>\n      <td>...</td>\n      <td>...</td>\n      <td>...</td>\n      <td>...</td>\n      <td>...</td>\n      <td>...</td>\n      <td>...</td>\n      <td>...</td>\n      <td>...</td>\n      <td>...</td>\n      <td>...</td>\n      <td>...</td>\n      <td>...</td>\n      <td>...</td>\n    </tr>\n    <tr>\n      <th>998</th>\n      <td>-0.85452</td>\n      <td>3.24290</td>\n      <td>60.144</td>\n      <td>-6.1011</td>\n      <td>10.891</td>\n      <td>55.0160</td>\n      <td>64.7880</td>\n      <td>-9.6518</td>\n      <td>4.97660</td>\n      <td>-12.543000</td>\n      <td>...</td>\n      <td>-0.15140</td>\n      <td>1.257800</td>\n      <td>2.77780</td>\n      <td>0.22414</td>\n      <td>-0.47279</td>\n      <td>2.964200</td>\n      <td>-0.26596</td>\n      <td>-1.32200</td>\n      <td>7.5611</td>\n      <td>1</td>\n    </tr>\n    <tr>\n      <th>999</th>\n      <td>3.42850</td>\n      <td>10.47600</td>\n      <td>92.195</td>\n      <td>-12.6510</td>\n      <td>35.189</td>\n      <td>47.2660</td>\n      <td>52.4960</td>\n      <td>7.3938</td>\n      <td>0.57836</td>\n      <td>4.123800</td>\n      <td>...</td>\n      <td>2.26950</td>\n      <td>0.643660</td>\n      <td>-2.93160</td>\n      <td>0.24456</td>\n      <td>3.25640</td>\n      <td>1.213900</td>\n      <td>-0.68257</td>\n      <td>1.07780</td>\n      <td>4.9371</td>\n      <td>0</td>\n    </tr>\n    <tr>\n      <th>1000</th>\n      <td>4.76000</td>\n      <td>16.95700</td>\n      <td>20.941</td>\n      <td>14.9970</td>\n      <td>27.368</td>\n      <td>7.6914</td>\n      <td>8.8762</td>\n      <td>1.4107</td>\n      <td>-1.37530</td>\n      <td>-8.494300</td>\n      <td>...</td>\n      <td>-0.76169</td>\n      <td>-1.795200</td>\n      <td>-1.09860</td>\n      <td>0.55332</td>\n      <td>-0.11358</td>\n      <td>-1.547500</td>\n      <td>-0.76885</td>\n      <td>1.31420</td>\n      <td>6.4576</td>\n      <td>1</td>\n    </tr>\n    <tr>\n      <th>1001</th>\n      <td>5.93070</td>\n      <td>-0.43158</td>\n      <td>86.431</td>\n      <td>-17.4260</td>\n      <td>27.843</td>\n      <td>64.6700</td>\n      <td>66.5200</td>\n      <td>-4.5230</td>\n      <td>-5.20640</td>\n      <td>15.786000</td>\n      <td>...</td>\n      <td>-3.75140</td>\n      <td>0.019416</td>\n      <td>-2.32110</td>\n      <td>0.79256</td>\n      <td>0.14387</td>\n      <td>-0.053458</td>\n      <td>-0.63690</td>\n      <td>-1.50930</td>\n      <td>5.8259</td>\n      <td>0</td>\n    </tr>\n    <tr>\n      <th>1002</th>\n      <td>-8.51760</td>\n      <td>3.63140</td>\n      <td>46.417</td>\n      <td>-6.0625</td>\n      <td>28.845</td>\n      <td>23.8540</td>\n      <td>40.2890</td>\n      <td>7.0224</td>\n      <td>-2.15310</td>\n      <td>9.071000</td>\n      <td>...</td>\n      <td>0.36710</td>\n      <td>-0.015315</td>\n      <td>0.26386</td>\n      <td>-0.75828</td>\n      <td>-2.38870</td>\n      <td>0.922310</td>\n      <td>1.72560</td>\n      <td>-1.57620</td>\n      <td>4.3008</td>\n      <td>1</td>\n    </tr>\n  </tbody>\n</table>\n<p>1003 rows × 44851 columns</p>\n</div>"
     },
     "metadata": {},
     "execution_count": 37
    }
   ],
   "source": [
    "df_connectivity['sex']=sex_labels\n",
    "df_connectivity"
   ]
  },
  {
   "cell_type": "code",
   "execution_count": 38,
   "metadata": {},
   "outputs": [
    {
     "output_type": "stream",
     "name": "stderr",
     "text": [
      "/home/sd20/anaconda3/envs/fMRI/lib/python3.7/site-packages/ipykernel_launcher.py:2: SettingWithCopyWarning: \nA value is trying to be set on a copy of a slice from a DataFrame.\nTry using .loc[row_indexer,col_indexer] = value instead\n\nSee the caveats in the documentation: https://pandas.pydata.org/pandas-docs/stable/user_guide/indexing.html#returning-a-view-versus-a-copy\n  \n"
     ]
    },
    {
     "output_type": "execute_result",
     "data": {
      "text/plain": [
       "             1         2       3        4       5        6        7       8  \\\n",
       "0      7.49720  23.35000  78.054  -4.9579  43.429  60.4470  41.4040 -7.5742   \n",
       "1     -4.99950   4.73090  54.711  -6.9007  13.804  30.3770  26.1270 -2.1377   \n",
       "2      9.40280   5.24820  99.701 -12.2550  30.410  67.0210  49.9930  1.2277   \n",
       "3    -28.31500 -13.18600  59.763 -24.9000  16.699  44.6980  34.0170 -8.2790   \n",
       "4     -0.14134   8.04310  63.203  -2.1901  24.454  46.9130  31.4790  5.5834   \n",
       "...        ...       ...     ...      ...     ...      ...      ...     ...   \n",
       "998   -0.85452   3.24290  60.144  -6.1011  10.891  55.0160  64.7880 -9.6518   \n",
       "999    3.42850  10.47600  92.195 -12.6510  35.189  47.2660  52.4960  7.3938   \n",
       "1000   4.76000  16.95700  20.941  14.9970  27.368   7.6914   8.8762  1.4107   \n",
       "1001   5.93070  -0.43158  86.431 -17.4260  27.843  64.6700  66.5200 -4.5230   \n",
       "1002  -8.51760   3.63140  46.417  -6.0625  28.845  23.8540  40.2890  7.0224   \n",
       "\n",
       "             9         10  ...     88798    88799    89097    89098     89099  \\\n",
       "0     17.58300  -2.662400  ... -0.658430 -3.31760  2.79060  1.33920  2.231700   \n",
       "1     18.45000 -14.857000  ... -0.780040 -1.70270 -1.00820  0.36915 -0.664390   \n",
       "2      1.40360  -0.461260  ... -3.392200 -0.56904  3.66550  1.26210  2.101300   \n",
       "3      5.16900   0.089982  ...  0.124290 -0.36566 -0.94756 -0.63533  1.234200   \n",
       "4      2.11680   9.282800  ... -1.795900  3.17070  1.39460  0.79006  0.775760   \n",
       "...        ...        ...  ...       ...      ...      ...      ...       ...   \n",
       "998    4.97660 -12.543000  ...  1.257800  2.77780  0.22414 -0.47279  2.964200   \n",
       "999    0.57836   4.123800  ...  0.643660 -2.93160  0.24456  3.25640  1.213900   \n",
       "1000  -1.37530  -8.494300  ... -1.795200 -1.09860  0.55332 -0.11358 -1.547500   \n",
       "1001  -5.20640  15.786000  ...  0.019416 -2.32110  0.79256  0.14387 -0.053458   \n",
       "1002  -2.15310   9.071000  ... -0.015315  0.26386 -0.75828 -2.38870  0.922310   \n",
       "\n",
       "        89398    89399   89699  sex  fluid_intelligence  \n",
       "0     1.51680 -0.28532  4.6379    0                20.0  \n",
       "1     1.45510 -0.76610  4.5984    1                17.0  \n",
       "2     0.78259  1.19860  4.4317    0                 7.0  \n",
       "3     1.27270  0.46160  6.1709    0                23.0  \n",
       "4     0.17996 -2.84420  2.9442    1                11.0  \n",
       "...       ...      ...     ...  ...                 ...  \n",
       "998  -0.26596 -1.32200  7.5611    1                21.0  \n",
       "999  -0.68257  1.07780  4.9371    0                14.0  \n",
       "1000 -0.76885  1.31420  6.4576    1                21.0  \n",
       "1001 -0.63690 -1.50930  5.8259    0                20.0  \n",
       "1002  1.72560 -1.57620  4.3008    1                20.0  \n",
       "\n",
       "[1003 rows x 44852 columns]"
      ],
      "text/html": "<div>\n<style scoped>\n    .dataframe tbody tr th:only-of-type {\n        vertical-align: middle;\n    }\n\n    .dataframe tbody tr th {\n        vertical-align: top;\n    }\n\n    .dataframe thead th {\n        text-align: right;\n    }\n</style>\n<table border=\"1\" class=\"dataframe\">\n  <thead>\n    <tr style=\"text-align: right;\">\n      <th></th>\n      <th>1</th>\n      <th>2</th>\n      <th>3</th>\n      <th>4</th>\n      <th>5</th>\n      <th>6</th>\n      <th>7</th>\n      <th>8</th>\n      <th>9</th>\n      <th>10</th>\n      <th>...</th>\n      <th>88798</th>\n      <th>88799</th>\n      <th>89097</th>\n      <th>89098</th>\n      <th>89099</th>\n      <th>89398</th>\n      <th>89399</th>\n      <th>89699</th>\n      <th>sex</th>\n      <th>fluid_intelligence</th>\n    </tr>\n  </thead>\n  <tbody>\n    <tr>\n      <th>0</th>\n      <td>7.49720</td>\n      <td>23.35000</td>\n      <td>78.054</td>\n      <td>-4.9579</td>\n      <td>43.429</td>\n      <td>60.4470</td>\n      <td>41.4040</td>\n      <td>-7.5742</td>\n      <td>17.58300</td>\n      <td>-2.662400</td>\n      <td>...</td>\n      <td>-0.658430</td>\n      <td>-3.31760</td>\n      <td>2.79060</td>\n      <td>1.33920</td>\n      <td>2.231700</td>\n      <td>1.51680</td>\n      <td>-0.28532</td>\n      <td>4.6379</td>\n      <td>0</td>\n      <td>20.0</td>\n    </tr>\n    <tr>\n      <th>1</th>\n      <td>-4.99950</td>\n      <td>4.73090</td>\n      <td>54.711</td>\n      <td>-6.9007</td>\n      <td>13.804</td>\n      <td>30.3770</td>\n      <td>26.1270</td>\n      <td>-2.1377</td>\n      <td>18.45000</td>\n      <td>-14.857000</td>\n      <td>...</td>\n      <td>-0.780040</td>\n      <td>-1.70270</td>\n      <td>-1.00820</td>\n      <td>0.36915</td>\n      <td>-0.664390</td>\n      <td>1.45510</td>\n      <td>-0.76610</td>\n      <td>4.5984</td>\n      <td>1</td>\n      <td>17.0</td>\n    </tr>\n    <tr>\n      <th>2</th>\n      <td>9.40280</td>\n      <td>5.24820</td>\n      <td>99.701</td>\n      <td>-12.2550</td>\n      <td>30.410</td>\n      <td>67.0210</td>\n      <td>49.9930</td>\n      <td>1.2277</td>\n      <td>1.40360</td>\n      <td>-0.461260</td>\n      <td>...</td>\n      <td>-3.392200</td>\n      <td>-0.56904</td>\n      <td>3.66550</td>\n      <td>1.26210</td>\n      <td>2.101300</td>\n      <td>0.78259</td>\n      <td>1.19860</td>\n      <td>4.4317</td>\n      <td>0</td>\n      <td>7.0</td>\n    </tr>\n    <tr>\n      <th>3</th>\n      <td>-28.31500</td>\n      <td>-13.18600</td>\n      <td>59.763</td>\n      <td>-24.9000</td>\n      <td>16.699</td>\n      <td>44.6980</td>\n      <td>34.0170</td>\n      <td>-8.2790</td>\n      <td>5.16900</td>\n      <td>0.089982</td>\n      <td>...</td>\n      <td>0.124290</td>\n      <td>-0.36566</td>\n      <td>-0.94756</td>\n      <td>-0.63533</td>\n      <td>1.234200</td>\n      <td>1.27270</td>\n      <td>0.46160</td>\n      <td>6.1709</td>\n      <td>0</td>\n      <td>23.0</td>\n    </tr>\n    <tr>\n      <th>4</th>\n      <td>-0.14134</td>\n      <td>8.04310</td>\n      <td>63.203</td>\n      <td>-2.1901</td>\n      <td>24.454</td>\n      <td>46.9130</td>\n      <td>31.4790</td>\n      <td>5.5834</td>\n      <td>2.11680</td>\n      <td>9.282800</td>\n      <td>...</td>\n      <td>-1.795900</td>\n      <td>3.17070</td>\n      <td>1.39460</td>\n      <td>0.79006</td>\n      <td>0.775760</td>\n      <td>0.17996</td>\n      <td>-2.84420</td>\n      <td>2.9442</td>\n      <td>1</td>\n      <td>11.0</td>\n    </tr>\n    <tr>\n      <th>...</th>\n      <td>...</td>\n      <td>...</td>\n      <td>...</td>\n      <td>...</td>\n      <td>...</td>\n      <td>...</td>\n      <td>...</td>\n      <td>...</td>\n      <td>...</td>\n      <td>...</td>\n      <td>...</td>\n      <td>...</td>\n      <td>...</td>\n      <td>...</td>\n      <td>...</td>\n      <td>...</td>\n      <td>...</td>\n      <td>...</td>\n      <td>...</td>\n      <td>...</td>\n      <td>...</td>\n    </tr>\n    <tr>\n      <th>998</th>\n      <td>-0.85452</td>\n      <td>3.24290</td>\n      <td>60.144</td>\n      <td>-6.1011</td>\n      <td>10.891</td>\n      <td>55.0160</td>\n      <td>64.7880</td>\n      <td>-9.6518</td>\n      <td>4.97660</td>\n      <td>-12.543000</td>\n      <td>...</td>\n      <td>1.257800</td>\n      <td>2.77780</td>\n      <td>0.22414</td>\n      <td>-0.47279</td>\n      <td>2.964200</td>\n      <td>-0.26596</td>\n      <td>-1.32200</td>\n      <td>7.5611</td>\n      <td>1</td>\n      <td>21.0</td>\n    </tr>\n    <tr>\n      <th>999</th>\n      <td>3.42850</td>\n      <td>10.47600</td>\n      <td>92.195</td>\n      <td>-12.6510</td>\n      <td>35.189</td>\n      <td>47.2660</td>\n      <td>52.4960</td>\n      <td>7.3938</td>\n      <td>0.57836</td>\n      <td>4.123800</td>\n      <td>...</td>\n      <td>0.643660</td>\n      <td>-2.93160</td>\n      <td>0.24456</td>\n      <td>3.25640</td>\n      <td>1.213900</td>\n      <td>-0.68257</td>\n      <td>1.07780</td>\n      <td>4.9371</td>\n      <td>0</td>\n      <td>14.0</td>\n    </tr>\n    <tr>\n      <th>1000</th>\n      <td>4.76000</td>\n      <td>16.95700</td>\n      <td>20.941</td>\n      <td>14.9970</td>\n      <td>27.368</td>\n      <td>7.6914</td>\n      <td>8.8762</td>\n      <td>1.4107</td>\n      <td>-1.37530</td>\n      <td>-8.494300</td>\n      <td>...</td>\n      <td>-1.795200</td>\n      <td>-1.09860</td>\n      <td>0.55332</td>\n      <td>-0.11358</td>\n      <td>-1.547500</td>\n      <td>-0.76885</td>\n      <td>1.31420</td>\n      <td>6.4576</td>\n      <td>1</td>\n      <td>21.0</td>\n    </tr>\n    <tr>\n      <th>1001</th>\n      <td>5.93070</td>\n      <td>-0.43158</td>\n      <td>86.431</td>\n      <td>-17.4260</td>\n      <td>27.843</td>\n      <td>64.6700</td>\n      <td>66.5200</td>\n      <td>-4.5230</td>\n      <td>-5.20640</td>\n      <td>15.786000</td>\n      <td>...</td>\n      <td>0.019416</td>\n      <td>-2.32110</td>\n      <td>0.79256</td>\n      <td>0.14387</td>\n      <td>-0.053458</td>\n      <td>-0.63690</td>\n      <td>-1.50930</td>\n      <td>5.8259</td>\n      <td>0</td>\n      <td>20.0</td>\n    </tr>\n    <tr>\n      <th>1002</th>\n      <td>-8.51760</td>\n      <td>3.63140</td>\n      <td>46.417</td>\n      <td>-6.0625</td>\n      <td>28.845</td>\n      <td>23.8540</td>\n      <td>40.2890</td>\n      <td>7.0224</td>\n      <td>-2.15310</td>\n      <td>9.071000</td>\n      <td>...</td>\n      <td>-0.015315</td>\n      <td>0.26386</td>\n      <td>-0.75828</td>\n      <td>-2.38870</td>\n      <td>0.922310</td>\n      <td>1.72560</td>\n      <td>-1.57620</td>\n      <td>4.3008</td>\n      <td>1</td>\n      <td>20.0</td>\n    </tr>\n  </tbody>\n</table>\n<p>1003 rows × 44852 columns</p>\n</div>"
     },
     "metadata": {},
     "execution_count": 38
    }
   ],
   "source": [
    "#df_1003.columns.values\n",
    "df_connectivity['fluid_intelligence'] = df_1003['PMAT24_A_CR']\n",
    "df_connectivity"
   ]
  },
  {
   "cell_type": "code",
   "execution_count": 39,
   "metadata": {},
   "outputs": [],
   "source": [
    "df_connectivity.to_csv('/home/sd20/workspace/spatio-temporal-fmri-analysis/data/netmats/ICA{}/connectivity_ICA{}.csv'.format(ICA_components,ICA_components), index=False)"
   ]
  },
  {
   "source": [
    "## TASK\n",
    "\n",
    "1) Prediction of sex\n",
    "\n",
    "TO CONSIDER:\n",
    "\n",
    "- normalisation (?)\n",
    "- basic MLP model  DONE\n",
    "- encode M/F with 0/1 DONE\n",
    "- use a sigmoid DONE\n",
    "- use two hidden layers DONE\n",
    "- compare different models with the same number of neurons\n",
    "- print the curve of learning on the same graph.\n",
    "- training/testing/validation split + seed \n",
    "- tensorboard\n",
    "- github\n",
    "- validation\n",
    "- folder for log\n",
    "- folder with ICA_15\n",
    "- validation per epoch not per iteration\n",
    "- add HPs in tensorboard"
   ],
   "cell_type": "markdown",
   "metadata": {}
  },
  {
   "source": [
    "#### DATALOADER\n",
    "\n",
    "- read data csv then array\n",
    "\n",
    "- split the data into train and test (later)\n",
    "\n",
    "- convert to dataset + dataloader\n",
    "\n"
   ],
   "cell_type": "markdown",
   "metadata": {}
  },
  {
   "cell_type": "code",
   "execution_count": 12,
   "metadata": {},
   "outputs": [],
   "source": [
    "data_path = '/home/sd20/workspace/data/HCP/'\n"
   ]
  },
  {
   "cell_type": "code",
   "execution_count": 55,
   "metadata": {},
   "outputs": [
    {
     "output_type": "execute_result",
     "data": {
      "text/plain": [
       "             1        2        3        4        5        6         7  \\\n",
       "0    -10.39600   1.3250  14.2230 -2.39230  7.98940  -8.3335  -6.07130   \n",
       "1     -7.05970  -8.1504  10.4730 -2.64040  0.88428  -7.0996  -9.61850   \n",
       "2     -3.21090   1.1924  15.5370 -2.70360 -2.89870 -18.0500 -29.72300   \n",
       "3     -0.77747 -13.3280  12.0090 -0.29917 -3.40240  -7.7466 -14.89300   \n",
       "4     -7.64220  -1.6479  15.5950 -7.02200  4.30600  -1.2868  -6.85410   \n",
       "...        ...      ...      ...      ...      ...      ...       ...   \n",
       "998   -5.36860  -7.6809  20.6790 -4.09760  3.61610  -6.4457 -20.03100   \n",
       "999   -8.45280   2.5526  13.7820 -7.28460 -2.46680 -13.7460 -20.39000   \n",
       "1000  -5.73310   8.2898  10.3600 -3.88710  2.10990  -2.9118  -0.13056   \n",
       "1001  -6.98810  -6.1590   7.3031 -6.30940  1.97910  -3.5481 -19.13000   \n",
       "1002  -5.70150   1.9827   4.2060 -1.79980  6.12150  -3.7097  -3.89220   \n",
       "\n",
       "            8          9        10  ...     163      164       177      178  \\\n",
       "0     -1.8244   3.937200  11.94700  ... -9.1514 -12.5660   2.06270 -0.29261   \n",
       "1     -2.7376  -0.053907   8.25940  ... -7.4352  -6.9800   0.44969  1.80400   \n",
       "2     10.0080  11.842000  16.16100  ... -6.4737 -13.1390  12.00700 -6.51320   \n",
       "3      3.8670   0.468460   6.06800  ... -4.2114  -2.8788   5.98590 -1.26980   \n",
       "4     -1.8923  -0.804530   0.85586  ... -1.5446  -3.6002   8.57510 -0.27688   \n",
       "...       ...        ...       ...  ...     ...      ...       ...      ...   \n",
       "998    2.5331  -0.052966   3.91940  ... -7.3239  -3.7831  10.11900 -3.26570   \n",
       "999    5.2821  -0.599610  13.76200  ... -7.7920 -11.1950  13.06800 -2.14390   \n",
       "1000  -3.3337  -2.258500   0.68182  ... -1.5151   4.6367   5.24060  4.20020   \n",
       "1001   5.2046  -1.977800   5.10510  ...  1.5451  -6.4246  11.03100 -3.95300   \n",
       "1002  -2.5807  -2.373600  -3.86320  ... -3.4406  -3.3646   5.89490  4.89870   \n",
       "\n",
       "           179       193       194      209  sex  fluid_intelligence  \n",
       "0     12.47900  -7.88120  -5.33980   8.4668    0                20.0  \n",
       "1      5.52720  -7.61250  -2.99760   5.1632    1                17.0  \n",
       "2     -0.76258 -10.40500 -12.67400   8.3249    0                 7.0  \n",
       "3      3.88980 -10.76500  -2.98890  10.5550    0                23.0  \n",
       "4      9.22810   0.18034   1.64660   5.5657    1                11.0  \n",
       "...        ...       ...       ...      ...  ...                 ...  \n",
       "998   10.61600  -8.37010   0.19387   3.3848    1                21.0  \n",
       "999    5.72760  -5.64390  -5.52740   8.6371    0                14.0  \n",
       "1000   4.72840  -1.13730   4.04580   1.3631    1                21.0  \n",
       "1001   7.23320  -4.39190   1.47340   3.3242    0                20.0  \n",
       "1002   5.51940  -2.99160   3.01460  10.4880    1                20.0  \n",
       "\n",
       "[1003 rows x 107 columns]"
      ],
      "text/html": "<div>\n<style scoped>\n    .dataframe tbody tr th:only-of-type {\n        vertical-align: middle;\n    }\n\n    .dataframe tbody tr th {\n        vertical-align: top;\n    }\n\n    .dataframe thead th {\n        text-align: right;\n    }\n</style>\n<table border=\"1\" class=\"dataframe\">\n  <thead>\n    <tr style=\"text-align: right;\">\n      <th></th>\n      <th>1</th>\n      <th>2</th>\n      <th>3</th>\n      <th>4</th>\n      <th>5</th>\n      <th>6</th>\n      <th>7</th>\n      <th>8</th>\n      <th>9</th>\n      <th>10</th>\n      <th>...</th>\n      <th>163</th>\n      <th>164</th>\n      <th>177</th>\n      <th>178</th>\n      <th>179</th>\n      <th>193</th>\n      <th>194</th>\n      <th>209</th>\n      <th>sex</th>\n      <th>fluid_intelligence</th>\n    </tr>\n  </thead>\n  <tbody>\n    <tr>\n      <th>0</th>\n      <td>-10.39600</td>\n      <td>1.3250</td>\n      <td>14.2230</td>\n      <td>-2.39230</td>\n      <td>7.98940</td>\n      <td>-8.3335</td>\n      <td>-6.07130</td>\n      <td>-1.8244</td>\n      <td>3.937200</td>\n      <td>11.94700</td>\n      <td>...</td>\n      <td>-9.1514</td>\n      <td>-12.5660</td>\n      <td>2.06270</td>\n      <td>-0.29261</td>\n      <td>12.47900</td>\n      <td>-7.88120</td>\n      <td>-5.33980</td>\n      <td>8.4668</td>\n      <td>0</td>\n      <td>20.0</td>\n    </tr>\n    <tr>\n      <th>1</th>\n      <td>-7.05970</td>\n      <td>-8.1504</td>\n      <td>10.4730</td>\n      <td>-2.64040</td>\n      <td>0.88428</td>\n      <td>-7.0996</td>\n      <td>-9.61850</td>\n      <td>-2.7376</td>\n      <td>-0.053907</td>\n      <td>8.25940</td>\n      <td>...</td>\n      <td>-7.4352</td>\n      <td>-6.9800</td>\n      <td>0.44969</td>\n      <td>1.80400</td>\n      <td>5.52720</td>\n      <td>-7.61250</td>\n      <td>-2.99760</td>\n      <td>5.1632</td>\n      <td>1</td>\n      <td>17.0</td>\n    </tr>\n    <tr>\n      <th>2</th>\n      <td>-3.21090</td>\n      <td>1.1924</td>\n      <td>15.5370</td>\n      <td>-2.70360</td>\n      <td>-2.89870</td>\n      <td>-18.0500</td>\n      <td>-29.72300</td>\n      <td>10.0080</td>\n      <td>11.842000</td>\n      <td>16.16100</td>\n      <td>...</td>\n      <td>-6.4737</td>\n      <td>-13.1390</td>\n      <td>12.00700</td>\n      <td>-6.51320</td>\n      <td>-0.76258</td>\n      <td>-10.40500</td>\n      <td>-12.67400</td>\n      <td>8.3249</td>\n      <td>0</td>\n      <td>7.0</td>\n    </tr>\n    <tr>\n      <th>3</th>\n      <td>-0.77747</td>\n      <td>-13.3280</td>\n      <td>12.0090</td>\n      <td>-0.29917</td>\n      <td>-3.40240</td>\n      <td>-7.7466</td>\n      <td>-14.89300</td>\n      <td>3.8670</td>\n      <td>0.468460</td>\n      <td>6.06800</td>\n      <td>...</td>\n      <td>-4.2114</td>\n      <td>-2.8788</td>\n      <td>5.98590</td>\n      <td>-1.26980</td>\n      <td>3.88980</td>\n      <td>-10.76500</td>\n      <td>-2.98890</td>\n      <td>10.5550</td>\n      <td>0</td>\n      <td>23.0</td>\n    </tr>\n    <tr>\n      <th>4</th>\n      <td>-7.64220</td>\n      <td>-1.6479</td>\n      <td>15.5950</td>\n      <td>-7.02200</td>\n      <td>4.30600</td>\n      <td>-1.2868</td>\n      <td>-6.85410</td>\n      <td>-1.8923</td>\n      <td>-0.804530</td>\n      <td>0.85586</td>\n      <td>...</td>\n      <td>-1.5446</td>\n      <td>-3.6002</td>\n      <td>8.57510</td>\n      <td>-0.27688</td>\n      <td>9.22810</td>\n      <td>0.18034</td>\n      <td>1.64660</td>\n      <td>5.5657</td>\n      <td>1</td>\n      <td>11.0</td>\n    </tr>\n    <tr>\n      <th>...</th>\n      <td>...</td>\n      <td>...</td>\n      <td>...</td>\n      <td>...</td>\n      <td>...</td>\n      <td>...</td>\n      <td>...</td>\n      <td>...</td>\n      <td>...</td>\n      <td>...</td>\n      <td>...</td>\n      <td>...</td>\n      <td>...</td>\n      <td>...</td>\n      <td>...</td>\n      <td>...</td>\n      <td>...</td>\n      <td>...</td>\n      <td>...</td>\n      <td>...</td>\n      <td>...</td>\n    </tr>\n    <tr>\n      <th>998</th>\n      <td>-5.36860</td>\n      <td>-7.6809</td>\n      <td>20.6790</td>\n      <td>-4.09760</td>\n      <td>3.61610</td>\n      <td>-6.4457</td>\n      <td>-20.03100</td>\n      <td>2.5331</td>\n      <td>-0.052966</td>\n      <td>3.91940</td>\n      <td>...</td>\n      <td>-7.3239</td>\n      <td>-3.7831</td>\n      <td>10.11900</td>\n      <td>-3.26570</td>\n      <td>10.61600</td>\n      <td>-8.37010</td>\n      <td>0.19387</td>\n      <td>3.3848</td>\n      <td>1</td>\n      <td>21.0</td>\n    </tr>\n    <tr>\n      <th>999</th>\n      <td>-8.45280</td>\n      <td>2.5526</td>\n      <td>13.7820</td>\n      <td>-7.28460</td>\n      <td>-2.46680</td>\n      <td>-13.7460</td>\n      <td>-20.39000</td>\n      <td>5.2821</td>\n      <td>-0.599610</td>\n      <td>13.76200</td>\n      <td>...</td>\n      <td>-7.7920</td>\n      <td>-11.1950</td>\n      <td>13.06800</td>\n      <td>-2.14390</td>\n      <td>5.72760</td>\n      <td>-5.64390</td>\n      <td>-5.52740</td>\n      <td>8.6371</td>\n      <td>0</td>\n      <td>14.0</td>\n    </tr>\n    <tr>\n      <th>1000</th>\n      <td>-5.73310</td>\n      <td>8.2898</td>\n      <td>10.3600</td>\n      <td>-3.88710</td>\n      <td>2.10990</td>\n      <td>-2.9118</td>\n      <td>-0.13056</td>\n      <td>-3.3337</td>\n      <td>-2.258500</td>\n      <td>0.68182</td>\n      <td>...</td>\n      <td>-1.5151</td>\n      <td>4.6367</td>\n      <td>5.24060</td>\n      <td>4.20020</td>\n      <td>4.72840</td>\n      <td>-1.13730</td>\n      <td>4.04580</td>\n      <td>1.3631</td>\n      <td>1</td>\n      <td>21.0</td>\n    </tr>\n    <tr>\n      <th>1001</th>\n      <td>-6.98810</td>\n      <td>-6.1590</td>\n      <td>7.3031</td>\n      <td>-6.30940</td>\n      <td>1.97910</td>\n      <td>-3.5481</td>\n      <td>-19.13000</td>\n      <td>5.2046</td>\n      <td>-1.977800</td>\n      <td>5.10510</td>\n      <td>...</td>\n      <td>1.5451</td>\n      <td>-6.4246</td>\n      <td>11.03100</td>\n      <td>-3.95300</td>\n      <td>7.23320</td>\n      <td>-4.39190</td>\n      <td>1.47340</td>\n      <td>3.3242</td>\n      <td>0</td>\n      <td>20.0</td>\n    </tr>\n    <tr>\n      <th>1002</th>\n      <td>-5.70150</td>\n      <td>1.9827</td>\n      <td>4.2060</td>\n      <td>-1.79980</td>\n      <td>6.12150</td>\n      <td>-3.7097</td>\n      <td>-3.89220</td>\n      <td>-2.5807</td>\n      <td>-2.373600</td>\n      <td>-3.86320</td>\n      <td>...</td>\n      <td>-3.4406</td>\n      <td>-3.3646</td>\n      <td>5.89490</td>\n      <td>4.89870</td>\n      <td>5.51940</td>\n      <td>-2.99160</td>\n      <td>3.01460</td>\n      <td>10.4880</td>\n      <td>1</td>\n      <td>20.0</td>\n    </tr>\n  </tbody>\n</table>\n<p>1003 rows × 107 columns</p>\n</div>"
     },
     "metadata": {},
     "execution_count": 55
    }
   ],
   "source": [
    "df = pd.read_csv(os.path.join('./data/netmats/ICA15/connectivity_ICA15.csv'))\n",
    "df"
   ]
  },
  {
   "cell_type": "code",
   "execution_count": 53,
   "metadata": {},
   "outputs": [],
   "source": [
    "dict_input_size = {'15':105,\n",
    "                    '25':300,\n",
    "                    '50':1225,\n",
    "                    ''}\n"
   ]
  },
  {
   "cell_type": "code",
   "execution_count": 5,
   "metadata": {},
   "outputs": [
    {
     "output_type": "execute_result",
     "data": {
      "text/plain": [
       "array([0, 1, 0, ..., 1, 0, 1])"
      ]
     },
     "metadata": {},
     "execution_count": 5
    }
   ],
   "source": [
    "df['sex'].values"
   ]
  },
  {
   "cell_type": "code",
   "execution_count": 2,
   "metadata": {},
   "outputs": [],
   "source": [
    "class dataLoader():\n",
    "\n",
    "    def __init__(self, \n",
    "                 data_path,\n",
    "                 num_workers,\n",
    "                 batch_size,\n",
    "                 label='sex',\n",
    "                 random_seed=42,\n",
    "                  ):\n",
    "        '''\n",
    "        This class is the dataloader for the connectivity data\n",
    "        '''\n",
    "\n",
    "        self.batch_size = batch_size\n",
    "        self.num_workers = num_workers\n",
    "        self.data_path = data_path\n",
    "        self.label = label\n",
    "\n",
    "        # load csv\n",
    "\n",
    "        df = pd.read_csv(self.data_path)\n",
    "\n",
    "        # create two arrays X, y \n",
    "\n",
    "        X = df.iloc[:,:-2].values\n",
    "        y = df[self.label].values\n",
    "\n",
    "        # split array into train and test\n",
    "        X_train, X_val, y_train, y_val = train_test_split(X,\n",
    "                                                        y,\n",
    "                                                        test_size=0.2,\n",
    "                                                        random_state=random_seed, \n",
    "                                                        stratify=y)\n",
    "        print('shape X train {} , y train {}'.format(X_train.shape, y_train.shape))\n",
    "        print('shape X val {} , y val {}'.format(X_val.shape, y_val.shape))\n",
    "\n",
    "        # convert into tensors\n",
    "\n",
    "        self.tensor_x_train = torch.Tensor(X_train)\n",
    "        self.tensor_y_train = torch.Tensor(y_train)\n",
    "\n",
    "        self.tensor_x_val = torch.Tensor(X_val)\n",
    "        self.tensor_y_val = torch.Tensor(y_val)\n",
    "\n",
    "\n",
    "    \n",
    "    def getDatasets(self,):\n",
    "\n",
    "        train_dataset = TensorDataset(self.tensor_x_train,self.tensor_y_train)\n",
    "        val_dataset = TensorDataset(self.tensor_x_val,self.tensor_y_val)\n",
    "\n",
    "        return train_dataset, val_dataset\n",
    "\n",
    "    \n",
    "    def getDataLoaders(self,):\n",
    "\n",
    "        train_dataset,val_dataset = self.getDatasets()\n",
    "\n",
    "        train_loader = torch.utils.data.DataLoader(train_dataset,\n",
    "                                                   batch_size=self.batch_size,\n",
    "                                                   shuffle=True,\n",
    "                                                   num_workers = self.num_workers)\n",
    "        valid_loader = torch.utils.data.DataLoader(val_dataset,\n",
    "                                                   batch_size=self.batch_size,\n",
    "                                                   shuffle=False,\n",
    "                                                   num_workers = self.num_workers)\n",
    "\n",
    "        return {\"train\":train_loader,\"valid\":valid_loader}\n",
    "\n",
    "    \n",
    "    def getInfoDataset(self,):\n",
    "        \n",
    "        return 0\n",
    "\n"
   ]
  },
  {
   "cell_type": "code",
   "execution_count": 3,
   "metadata": {},
   "outputs": [
    {
     "output_type": "stream",
     "name": "stdout",
     "text": [
      "shape X train (802, 300) , y train (802,)\nshape X val (201, 300) , y val (201,)\n"
     ]
    }
   ],
   "source": [
    "loader = dataLoader(data_path = './data/netmats/ICA25/connectivity_ICA25.csv',\n",
    "                        num_workers = 8,\n",
    "                        batch_size = 32,\n",
    "                        label ='sex',)\n",
    "\n",
    "train_loader = loader.getDataLoaders()[\"train\"]"
   ]
  },
  {
   "cell_type": "code",
   "execution_count": 4,
   "metadata": {},
   "outputs": [
    {
     "output_type": "stream",
     "name": "stdout",
     "text": [
      "0\ntorch.Size([32, 300]) torch.Size([32])\n1\ntorch.Size([32, 300]) torch.Size([32])\n2\ntorch.Size([32, 300]) torch.Size([32])\n3\ntorch.Size([32, 300]) torch.Size([32])\n4\ntorch.Size([32, 300]) torch.Size([32])\n5\ntorch.Size([32, 300]) torch.Size([32])\n6\ntorch.Size([32, 300]) torch.Size([32])\n7\ntorch.Size([32, 300]) torch.Size([32])\n8\ntorch.Size([32, 300]) torch.Size([32])\n9\ntorch.Size([32, 300]) torch.Size([32])\n10\ntorch.Size([32, 300]) torch.Size([32])\n11\ntorch.Size([32, 300]) torch.Size([32])\n12\ntorch.Size([32, 300]) torch.Size([32])\n13\ntorch.Size([32, 300]) torch.Size([32])\n14\ntorch.Size([32, 300]) torch.Size([32])\n15\ntorch.Size([32, 300]) torch.Size([32])\n16\ntorch.Size([32, 300]) torch.Size([32])\n17\ntorch.Size([32, 300]) torch.Size([32])\n18\ntorch.Size([32, 300]) torch.Size([32])\n19\ntorch.Size([32, 300]) torch.Size([32])\n20\ntorch.Size([32, 300]) torch.Size([32])\n21\ntorch.Size([32, 300]) torch.Size([32])\n22\ntorch.Size([32, 300]) torch.Size([32])\n23\ntorch.Size([32, 300]) torch.Size([32])\n24\ntorch.Size([32, 300]) torch.Size([32])\n25\ntorch.Size([2, 300]) torch.Size([2])\n"
     ]
    }
   ],
   "source": [
    "for i, data in enumerate(train_loader):\n",
    "    print(i)\n",
    "    print(data[0].shape, data[1].shape)\n"
   ]
  },
  {
   "cell_type": "code",
   "execution_count": 5,
   "metadata": {},
   "outputs": [],
   "source": [
    "dataloaders = loader.getDataLoaders()"
   ]
  },
  {
   "source": [
    "#### MODEL"
   ],
   "cell_type": "markdown",
   "metadata": {}
  },
  {
   "cell_type": "code",
   "execution_count": 6,
   "metadata": {},
   "outputs": [],
   "source": [
    "class MLP(nn.Module):\n",
    "\n",
    "    '''\n",
    "    This class defines a multi-layer perceptrons architecture\n",
    "    '''\n",
    "\n",
    "    def __init__(self,input_size,\n",
    "                      hidden_size = [1024,512,32], \n",
    "                      dropout=0.5):\n",
    "\n",
    "        super(MLP,self).__init__()\n",
    "\n",
    "        self.input_size = input_size\n",
    "        self.hidden_size = hidden_size\n",
    "        self.dropout = dropout\n",
    "        self.num_linear = len(hidden_size)\n",
    "\n",
    "        ## fully connected layers\n",
    "        self.fc_layers = torch.nn.ModuleDict()\n",
    "\n",
    "        self.fc_layers['fc_layer_0'] = nn.Linear(self.input_size, self.hidden_size[0])\n",
    "        for i in range(self.num_linear-1):\n",
    "            self.fc_layers[f'fc_layer_{i+1}'] = nn.Linear(self.hidden_size[i],self.hidden_size[i+1])\n",
    "        \n",
    "        ## classification layer\n",
    "        self.fc_class = nn.Linear(self.hidden_size[-1],1)\n",
    "\n",
    "        if self.dropout:\n",
    "            self.dropout = nn.Dropout(self.dropout)\n",
    "\n",
    "        #init_weights(self)\n",
    "\n",
    "        ## activation\n",
    "        self.relu = nn.ReLU()\n",
    "\n",
    "    def forward(self,x):\n",
    "\n",
    "        out = x\n",
    "        for i in range(self.num_linear):\n",
    "            out = self.fc_layers[f'fc_layer_{i}'](out)\n",
    "            out = self.relu(out)\n",
    "        \n",
    "        if self.dropout:\n",
    "            out = self.dropout(out)\n",
    "        out = self.fc_class(out)\n",
    "        return out\n",
    "\n"
   ]
  },
  {
   "cell_type": "code",
   "execution_count": 7,
   "metadata": {},
   "outputs": [
    {
     "output_type": "execute_result",
     "data": {
      "text/plain": [
       "MLP(\n",
       "  (fc_layers): ModuleDict(\n",
       "    (fc_layer_0): Linear(in_features=300, out_features=16, bias=True)\n",
       "  )\n",
       "  (fc_class): Linear(in_features=16, out_features=1, bias=True)\n",
       "  (dropout): Dropout(p=0.5, inplace=False)\n",
       "  (relu): ReLU()\n",
       ")"
      ]
     },
     "metadata": {},
     "execution_count": 7
    }
   ],
   "source": [
    "net = MLP(input_size=300,\n",
    "          hidden_size=[16],\n",
    "          dropout=0.5)\n",
    "\n",
    "net"
   ]
  },
  {
   "source": [
    "#### Optimiser, Loss and Training parameters"
   ],
   "cell_type": "markdown",
   "metadata": {}
  },
  {
   "cell_type": "code",
   "execution_count": 98,
   "metadata": {},
   "outputs": [
    {
     "output_type": "stream",
     "name": "stdout",
     "text": [
      "shape X train (802, 300) , y train (802,)\nshape X val (201, 300) , y val (201,)\n"
     ]
    }
   ],
   "source": [
    "nbr_components = 25\n",
    "\n",
    "input_size = 300\n",
    "hidden_size =[16]\n",
    "dropout = 0.5\n",
    "batch_size = 32\n",
    "\n",
    "\n",
    "n_epochs = 20\n",
    "lr = 1e-4\n",
    "\n",
    "# loaders\n",
    "loader = dataLoader(data_path = './data/netmats/ICA{}/connectivity_ICA{}.csv'.format(nbr_components,nbr_components),\n",
    "                        num_workers = 8,\n",
    "                        batch_size = 32,\n",
    "                        label ='sex',)\n",
    "\n",
    "dataloaders = loader.getDataLoaders()\n",
    "\n",
    "# network\n",
    "net = MLP(input_size,\n",
    "          hidden_size,\n",
    "          dropout)\n",
    "\n",
    "#loss\n",
    "loss = nn.BCEWithLogitsLoss()\n",
    "\n",
    "#optimiser\n",
    "optimiser = torch.optim.Adam(net.parameters(), lr=lr)\n",
    "\n",
    "#lr scheduler\n",
    "\n",
    "#metrics to store during training\n",
    "metrics = {'loss_train': [], 'loss_valid': [], \n",
    "           'acc_train': [], 'acc_valid':[]}\n"
   ]
  },
  {
   "cell_type": "code",
   "execution_count": null,
   "metadata": {},
   "outputs": [],
   "source": []
  },
  {
   "source": [
    "### logging\n",
    "\n",
    "1) save parameters\n",
    "\n",
    "2) create folder for log tensorboard"
   ],
   "cell_type": "markdown",
   "metadata": {}
  },
  {
   "cell_type": "code",
   "execution_count": 99,
   "metadata": {},
   "outputs": [
    {
     "output_type": "stream",
     "name": "stdout",
     "text": [
      "2021-05-18\nfolder already exist: /home/sd20/workspace/spatio-temporal-fmri-analysis/logs/2021-05-18\n11:41:31\nCreating folder: /home/sd20/workspace/spatio-temporal-fmri-analysis/logs/2021-05-18/ICA_25/11:41:31\n"
     ]
    }
   ],
   "source": [
    "path = '/home/sd20/workspace/spatio-temporal-fmri-analysis'\n",
    "date = datetime.today().strftime('%Y-%m-%d')\n",
    "print(date)\n",
    "\n",
    "# folder date\n",
    "folder_to_save_model = os.path.join(path,'logs', date)\n",
    "try:\n",
    "    os.mkdir(folder_to_save_model)\n",
    "    print('Creating folder: {}'.format(folder_to_save_model))\n",
    "except OSError:\n",
    "    print('folder already exist: {}'.format(folder_to_save_model))\n",
    "\n",
    "date = datetime.today().strftime('%H:%M:%S')\n",
    "print(date)\n",
    "\n",
    "# folder ICA\n",
    "folder_to_save_model = os.path.join(folder_to_save_model,'ICA_{}'.format(nbr_components))\n",
    "\n",
    "# folder time\n",
    "folder_to_save_model = os.path.join(folder_to_save_model,date)\n",
    "try:\n",
    "    os.mkdir(folder_to_save_model)\n",
    "    print('Creating folder: {}'.format(folder_to_save_model))\n",
    "except OSError:\n",
    "    print('folder already exist: {}'.format(folder_to_save_model))\n",
    "\n",
    "\n",
    "\n",
    "\n",
    "# tensorboard \n",
    "writer = SummaryWriter(log_dir=folder_to_save_model)\n",
    "\n"
   ]
  },
  {
   "cell_type": "code",
   "execution_count": 100,
   "metadata": {},
   "outputs": [],
   "source": [
    "f = open(os.path.join(folder_to_save_model,'log.txt'),\"w+\")\n",
    "\n",
    "# logging the hyperparameters\n",
    "\n",
    "f.write(\"Batch size: {} \\n\".format(batch_size))\n",
    "f.write(\"Epoch: {} \\n\".format(n_epochs))\n",
    "f.write(\"Learning rate: {} \\n\".format(lr))\n",
    "f.write(\"Optimiser: {} \\n\".format(optimiser))\n",
    "f.close()\n"
   ]
  },
  {
   "cell_type": "code",
   "execution_count": 101,
   "metadata": {},
   "outputs": [
    {
     "output_type": "execute_result",
     "data": {
      "text/plain": [
       "'11:41:32'"
      ]
     },
     "metadata": {},
     "execution_count": 101
    }
   ],
   "source": [
    "date = datetime.today().strftime('%H:%M:%S')\n",
    "date"
   ]
  },
  {
   "cell_type": "code",
   "execution_count": 102,
   "metadata": {},
   "outputs": [
    {
     "output_type": "execute_result",
     "data": {
      "text/plain": [
       "MLP(\n",
       "  (fc_layers): ModuleDict(\n",
       "    (fc_layer_0): Linear(in_features=300, out_features=16, bias=True)\n",
       "  )\n",
       "  (fc_class): Linear(in_features=16, out_features=1, bias=True)\n",
       "  (dropout): Dropout(p=0.5, inplace=False)\n",
       "  (relu): ReLU()\n",
       ")"
      ]
     },
     "metadata": {},
     "execution_count": 102
    }
   ],
   "source": [
    "net"
   ]
  },
  {
   "cell_type": "code",
   "execution_count": 103,
   "metadata": {},
   "outputs": [],
   "source": [
    "writer.add_graph(net, torch.rand(batch_size,300))"
   ]
  },
  {
   "source": [
    "#### TRAINING & VALIDATION LOOPS"
   ],
   "cell_type": "markdown",
   "metadata": {}
  },
  {
   "cell_type": "code",
   "execution_count": 104,
   "metadata": {},
   "outputs": [
    {
     "output_type": "stream",
     "name": "stdout",
     "text": [
      "##################################################\n",
      "395.0 802.0\n",
      "TRAIN Epoch:   0 | Acc:   49| Loss:3.1484e-01 | 0m 0.27s\n",
      "\n",
      "/home/sd20/anaconda3/envs/fMRI/lib/python3.7/site-packages/torch/nn/functional.py:1709: UserWarning: nn.functional.sigmoid is deprecated. Use torch.sigmoid instead.\n",
      "  warnings.warn(\"nn.functional.sigmoid is deprecated. Use torch.sigmoid instead.\")\n",
      "110.0 201.0\n",
      "VALID Epoch:   0 | Acc:   54| Loss:7.5958e-01 | 0m 0.45s\n",
      "\n",
      "##################################################\n",
      "467.0 802.0\n",
      "TRAIN Epoch:   1 | Acc:   58| Loss:8.0940e-01 | 0m 0.24s\n",
      "\n",
      "108.0 201.0\n",
      "VALID Epoch:   1 | Acc:   53| Loss:7.3141e-01 | 0m 0.43s\n",
      "\n",
      "##################################################\n",
      "470.0 802.0\n",
      "TRAIN Epoch:   2 | Acc:   58| Loss:7.0708e-01 | 0m 0.24s\n",
      "\n",
      "112.0 201.0\n",
      "VALID Epoch:   2 | Acc:   55| Loss:7.3946e-01 | 0m 0.44s\n",
      "\n",
      "##################################################\n",
      "487.0 802.0\n",
      "TRAIN Epoch:   3 | Acc:   60| Loss:4.1705e-01 | 0m 0.21s\n",
      "\n",
      "115.0 201.0\n",
      "VALID Epoch:   3 | Acc:   57| Loss:7.2059e-01 | 0m 0.41s\n",
      "\n",
      "##################################################\n",
      "512.0 802.0\n",
      "TRAIN Epoch:   4 | Acc:   63| Loss:6.8367e-01 | 0m 0.23s\n",
      "\n",
      "117.0 201.0\n",
      "VALID Epoch:   4 | Acc:   58| Loss:7.1790e-01 | 0m 0.41s\n",
      "\n",
      "##################################################\n",
      "523.0 802.0\n",
      "TRAIN Epoch:   5 | Acc:   65| Loss:8.6390e-01 | 0m 0.20s\n",
      "\n",
      "120.0 201.0\n",
      "VALID Epoch:   5 | Acc:   59| Loss:7.2039e-01 | 0m 0.41s\n",
      "\n",
      "##################################################\n",
      "538.0 802.0\n",
      "TRAIN Epoch:   6 | Acc:   67| Loss:5.3959e-01 | 0m 0.22s\n",
      "\n",
      "124.0 201.0\n",
      "VALID Epoch:   6 | Acc:   61| Loss:7.0098e-01 | 0m 0.40s\n",
      "\n",
      "##################################################\n",
      "549.0 802.0\n",
      "TRAIN Epoch:   7 | Acc:   68| Loss:6.2081e-01 | 0m 0.21s\n",
      "\n",
      "124.0 201.0\n",
      "VALID Epoch:   7 | Acc:   61| Loss:6.7486e-01 | 0m 0.39s\n",
      "\n",
      "##################################################\n",
      "573.0 802.0\n",
      "TRAIN Epoch:   8 | Acc:   71| Loss:2.7452e-01 | 0m 0.21s\n",
      "\n",
      "127.0 201.0\n",
      "VALID Epoch:   8 | Acc:   63| Loss:6.4985e-01 | 0m 0.38s\n",
      "\n",
      "##################################################\n",
      "581.0 802.0\n",
      "TRAIN Epoch:   9 | Acc:   72| Loss:5.1376e-01 | 0m 0.26s\n",
      "\n",
      "130.0 201.0\n",
      "VALID Epoch:   9 | Acc:   64| Loss:6.2030e-01 | 0m 0.46s\n",
      "\n",
      "##################################################\n",
      "591.0 802.0\n",
      "TRAIN Epoch:  10 | Acc:   73| Loss:3.1513e-01 | 0m 0.23s\n",
      "\n",
      "134.0 201.0\n",
      "VALID Epoch:  10 | Acc:   66| Loss:5.9820e-01 | 0m 0.41s\n",
      "\n",
      "##################################################\n",
      "604.0 802.0\n",
      "TRAIN Epoch:  11 | Acc:   75| Loss:7.0570e-01 | 0m 0.24s\n",
      "\n",
      "136.0 201.0\n",
      "VALID Epoch:  11 | Acc:   67| Loss:5.9350e-01 | 0m 0.47s\n",
      "\n",
      "##################################################\n",
      "605.0 802.0\n",
      "TRAIN Epoch:  12 | Acc:   75| Loss:1.0990e+00 | 0m 0.25s\n",
      "\n",
      "140.0 201.0\n",
      "VALID Epoch:  12 | Acc:   69| Loss:6.1280e-01 | 0m 0.45s\n",
      "\n",
      "##################################################\n",
      "615.0 802.0\n",
      "TRAIN Epoch:  13 | Acc:   76| Loss:4.0336e-01 | 0m 0.22s\n",
      "\n",
      "137.0 201.0\n",
      "VALID Epoch:  13 | Acc:   68| Loss:6.0752e-01 | 0m 0.43s\n",
      "\n",
      "##################################################\n",
      "628.0 802.0\n",
      "TRAIN Epoch:  14 | Acc:   78| Loss:3.1240e-01 | 0m 0.20s\n",
      "\n",
      "145.0 201.0\n",
      "VALID Epoch:  14 | Acc:   72| Loss:6.1132e-01 | 0m 0.44s\n",
      "\n",
      "##################################################\n",
      "622.0 802.0\n",
      "TRAIN Epoch:  15 | Acc:   77| Loss:6.9066e-01 | 0m 0.22s\n",
      "\n",
      "142.0 201.0\n",
      "VALID Epoch:  15 | Acc:   70| Loss:5.8411e-01 | 0m 0.41s\n",
      "\n",
      "##################################################\n",
      "634.0 802.0\n",
      "TRAIN Epoch:  16 | Acc:   79| Loss:3.6244e-01 | 0m 0.22s\n",
      "\n",
      "143.0 201.0\n",
      "VALID Epoch:  16 | Acc:   71| Loss:5.7148e-01 | 0m 0.42s\n",
      "\n",
      "##################################################\n",
      "637.0 802.0\n",
      "TRAIN Epoch:  17 | Acc:   79| Loss:7.0207e-01 | 0m 0.23s\n",
      "\n",
      "145.0 201.0\n",
      "VALID Epoch:  17 | Acc:   72| Loss:5.7429e-01 | 0m 0.41s\n",
      "\n",
      "##################################################\n",
      "646.0 802.0\n",
      "TRAIN Epoch:  18 | Acc:   80| Loss:3.0692e-01 | 0m 0.24s\n",
      "\n",
      "144.0 201.0\n",
      "VALID Epoch:  18 | Acc:   71| Loss:5.7799e-01 | 0m 0.43s\n",
      "\n",
      "##################################################\n",
      "651.0 802.0\n",
      "TRAIN Epoch:  19 | Acc:   81| Loss:1.9132e-01 | 0m 0.24s\n",
      "\n",
      "147.0 201.0\n",
      "VALID Epoch:  19 | Acc:   73| Loss:5.6023e-01 | 0m 0.44s\n",
      "\n"
     ]
    }
   ],
   "source": [
    "best_train_epoch = 0.0\n",
    "best_val_epoch = 0.0\n",
    "\n",
    "for epoch in range(0, n_epochs):\n",
    "    print('#'*50)\n",
    "\n",
    "    # Print learning rate for each epoch -- good for when you have a LR scheduler\n",
    "    #scheduler.step()\n",
    "    #lr = optim.param_groups[0]['lr']\n",
    "    #print('lr = %.7f' % lr)\n",
    "\n",
    "    # Save time to calculate how long it took\n",
    "    start_time = time.time()\n",
    "\n",
    "    # Append emtpy list so that each epoch has a list of values\n",
    "    for key_ in metrics.keys():\n",
    "        metrics[key_].append([])\n",
    "\n",
    "    predictions_val = []\n",
    "    gt_val =[]\n",
    "    epoch_acc_val = []\n",
    "    epoch_acc_train = []\n",
    "\n",
    "\n",
    "    # Go through each phase TRAIN/VALID\n",
    "    #####################################################  \n",
    "    for phase in ['train','valid']:\n",
    "\n",
    "        total_correct = 0.0\n",
    "        total_size = 0.0\n",
    "\n",
    "        # Go through each data point in either train or validation\n",
    "        #####################################################  \n",
    "        for i, (inputs, labels) in enumerate(dataloaders[phase]):\n",
    "\n",
    "            \n",
    "            # Calculates step\n",
    "            length_dataloader = len(dataloaders[phase])\n",
    "            step = epoch * length_dataloader + i + 1\n",
    "\n",
    "            # Fetch batch of data\n",
    "            ##################################################\n",
    "            # Image data\n",
    "            inputs = inputs.to(device)\n",
    "            \n",
    "            # Label data\n",
    "            lab_gt = labels.to(device)\n",
    "\n",
    "            # TRAIN\n",
    "            ##################################################\n",
    "            if phase == 'train':\n",
    "\n",
    "                optimiser.zero_grad()\n",
    "\n",
    "                outputs =  net(inputs).squeeze()  \n",
    "\n",
    "                current_loss =  loss(outputs,labels) \n",
    "\n",
    "                #####\n",
    "                metrics['loss_train'][-1].append(current_loss.item())\n",
    "                writer.add_scalar('loss/train', current_loss.item(), epoch*length_dataloader+i)\n",
    "\n",
    "                predicted = torch.round(torch.nn.functional.sigmoid(outputs))\n",
    "                correct_batch = (predicted == lab_gt).sum().item()\n",
    "\n",
    "                total_correct += correct_batch\n",
    "                total_size += lab_gt.shape[0]\n",
    "\n",
    "                accuracy_batch = correct_batch / lab_gt.shape[0]\n",
    "                epoch_acc_train.append(accuracy_batch*100.)\n",
    "                metrics['acc_train'][-1].append(accuracy_batch * 100.)     \n",
    "                writer.add_scalar('accuracy/train', accuracy_batch * 100., epoch*length_dataloader+i)\n",
    "\n",
    "                #####\n",
    "                current_loss.backward() \n",
    "\n",
    "                optimiser.step()\n",
    "        \n",
    "            if phase == 'valid':\n",
    "\n",
    "                net.eval()\n",
    "\n",
    "                with torch.no_grad():\n",
    "\n",
    "                    outputs_val = net(inputs).squeeze()\n",
    "\n",
    "                    current_loss = loss(outputs_val, lab_gt)\n",
    "\n",
    "                    metrics['loss_valid'][-1].append(current_loss.item())\n",
    "                    writer.add_scalar('loss/val', current_loss.item(), epoch*length_dataloader+i)\n",
    "\n",
    "                    predicted_val = torch.round(torch.nn.functional.sigmoid(outputs_val))\n",
    "                    predictions_val = predictions_val + list(predicted_val.numpy())\n",
    "                    gt_val = gt_val + list(lab_gt.numpy())\n",
    "\n",
    "                    correct_batch = (predicted_val == lab_gt).sum().item()\n",
    "                    total_correct += correct_batch\n",
    "                    total_size += lab_gt.shape[0]\n",
    "\n",
    "                    accuracy_batch = correct_batch / lab_gt.shape[0]\n",
    "                    epoch_acc_val.append(accuracy_batch*100.)\n",
    "                    metrics['acc_valid'][-1].append(accuracy_batch * 100.)  \n",
    "                    writer.add_scalar('accuracy/val', accuracy_batch * 100., epoch*length_dataloader+i)   \n",
    "\n",
    "        if phase =='valid':\n",
    "            if np.mean(epoch_acc_val)>best_val_epoch:\n",
    "                best_val_epoch=np.mean(epoch_acc_val)\n",
    "            writer.add_scalar('accuracy_best_epoch/val',best_val_epoch, epoch)   \n",
    "        if phase =='train':\n",
    "            if np.mean(epoch_acc_train)>best_train_epoch:\n",
    "                best_train_epoch=np.mean(epoch_acc_train)\n",
    "            writer.add_scalar('accuracy_best_epoch/train',best_train_epoch, epoch)   \n",
    "\n",
    "\n",
    "        # PRINT STATS\n",
    "        ###################################################\n",
    "        print(total_correct, total_size)\n",
    "        accuracy = total_correct / total_size\n",
    "\n",
    "        time_elapsed = time.time() - start_time\n",
    "        print(\"%s Epoch: %3d | Acc:  %3d| Loss:%.4e | %.0fm %.2fs\" %\n",
    "                (phase.upper(), epoch, accuracy * 100,\n",
    "                current_loss.item(), time_elapsed // 60, time_elapsed % 60))\n",
    "\n",
    "        print('')\n"
   ]
  },
  {
   "cell_type": "code",
   "execution_count": 114,
   "metadata": {},
   "outputs": [],
   "source": [
    "writer.add_hparams(hparam_dict={'batch_size':batch_size}, metric_dict={'loss':np.array(metrics['loss_train'][0][0]).reshape(-1)})"
   ]
  },
  {
   "cell_type": "code",
   "execution_count": 112,
   "metadata": {},
   "outputs": [
    {
     "output_type": "execute_result",
     "data": {
      "text/plain": [
       "20"
      ]
     },
     "metadata": {},
     "execution_count": 112
    }
   ],
   "source": [
    "len(metrics['loss_train'])"
   ]
  },
  {
   "cell_type": "code",
   "execution_count": null,
   "metadata": {},
   "outputs": [],
   "source": []
  },
  {
   "cell_type": "code",
   "execution_count": null,
   "metadata": {},
   "outputs": [],
   "source": []
  },
  {
   "cell_type": "code",
   "execution_count": null,
   "metadata": {},
   "outputs": [],
   "source": []
  },
  {
   "cell_type": "code",
   "execution_count": null,
   "metadata": {},
   "outputs": [],
   "source": []
  },
  {
   "cell_type": "code",
   "execution_count": null,
   "metadata": {},
   "outputs": [],
   "source": []
  }
 ]
}